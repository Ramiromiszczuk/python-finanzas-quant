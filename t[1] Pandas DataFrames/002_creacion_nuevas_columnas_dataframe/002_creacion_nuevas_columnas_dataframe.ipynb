{
 "cells": [
  {
   "cell_type": "markdown",
   "metadata": {},
   "source": [
    "### Creacion de nuevas columnas en un dataFrame\n",
    "\n",
    "#### Creacion de una columna con un valor constante\n",
    "\n",
    "Si bien es muy poco usual hacer este tipo de cosas, puede ser util saber hacerlo para generar una columna con un determinado valor de default por poner un ejemplo tipico.\n",
    "\n",
    "Como vemos en el ejemplo que sigue al setear el indice usamos el atributo inplace=True, esto es para que en la misma linea haga el seteo sin necesidad de asignar el resultado del mismo a la misma variable data, es un seteo con asignacion inline como se dice.\n",
    "\n",
    "Lo del drop(['high', 'low'], axis=1) es simplemente borrar esas dos colunas para que me entre mejor en la pagina la tabla y limpiar un poco de datos que no necesito ver.\n"
   ]
  },
  {
   "cell_type": "code",
   "execution_count": null,
   "metadata": {},
   "outputs": [],
   "source": [
    "import pandas as pd\n",
    "data = pd.read_excel('AAPL.xlsx', sheet_name='Hoja1')\n",
    "data.set_index('timestamp', inplace=True)\n",
    "data['Precio_COME']=3\n",
    "data.drop(['high', 'low'], axis=1).head()"
   ]
  },
  {
   "cell_type": "markdown",
   "metadata": {},
   "source": [
    "Drop es borrar obviamente, el listado de columnas va entre corchetes porque es una lista, y luego uso axis=1 indicando que me refiero a columnas, ya que si quiero borrar filas uso axis=0 que es el valor default de la variable axis.\n",
    "\n",
    "Tengamos en cuenta siempre lo siguiente, cuando escribimos en la Jupyter notebook:\n"
   ]
  },
  {
   "cell_type": "code",
   "execution_count": null,
   "metadata": {},
   "outputs": [],
   "source": [
    "data.drop(['high', 'low'], axis=1).head()"
   ]
  },
  {
   "cell_type": "markdown",
   "metadata": {},
   "source": [
    "Directamente me \"da salida\" y me imprime la tabla como vimos, pero si lo hacemos en un IDE sin poner print no nos devuelve nada... pero hay mas, al hacerlo sin haberle asignado esa salida a \"data\" si ahora le volvemos a pedir que imprima data van a aparecer las columnas borradas nuevamente, porque lo que hicimos fue solamente ver la salida de la linea pero no se lo asignamos a la variable, para ello deberiamos haber escrito:\n"
   ]
  },
  {
   "cell_type": "code",
   "execution_count": null,
   "metadata": {},
   "outputs": [],
   "source": [
    "data = data.drop(['high', 'low'], axis=1).head()\n",
    "data"
   ]
  },
  {
   "cell_type": "markdown",
   "metadata": {},
   "source": [
    "#### Creacion de una columna a partir de otras columnas\n",
    "\n",
    "Tambien se puede crear una columna nueva partiendo de los valores de otra u otras columnas. Veamos unos ejemplos.\n",
    "\n",
    "Creamos una columna que muestre el precio de apertura, cierre, maximo y minimo\n"
   ]
  }
 ],
 "metadata": {
  "kernelspec": {
   "display_name": "base",
   "language": "python",
   "name": "python3"
  },
  "language_info": {
   "name": "python",
   "version": "3.12.4"
  }
 },
 "nbformat": 4,
 "nbformat_minor": 2
}

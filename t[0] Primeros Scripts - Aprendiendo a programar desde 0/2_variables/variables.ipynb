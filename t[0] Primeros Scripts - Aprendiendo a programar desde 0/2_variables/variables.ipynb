{
 "cells": [
  {
   "cell_type": "code",
   "execution_count": 1,
   "metadata": {},
   "outputs": [
    {
     "name": "stdout",
     "output_type": "stream",
     "text": [
      "Hola Mundo\n",
      "100\n",
      "3\n",
      "100\n",
      "101\n",
      "Tu stopLoss quedó configurado en 100\n",
      "Tu stopLoss quedó configurado en 100\n",
      "Tu stopLoss quedó configurado en 100\n"
     ]
    }
   ],
   "source": [
    "# VARIABLES\n",
    "mi_variable = \"Hola Mundo\"\n",
    "print(mi_variable)\n",
    "\n",
    "mi_variable_numerica = 100\n",
    "print(mi_variable_numerica)\n",
    "\n",
    "# ASIGNACION DE VALORES A VARIABLES\n",
    "come = 3\n",
    "print(come)\n",
    "\n",
    "ggal = 100\n",
    "print(ggal)\n",
    "\n",
    "ggal = 101\n",
    "print(ggal)\n",
    "\n",
    "# ASIGNACION DE VARIABLES POR CONSOLA O INTERFAZ DE USUARIO\n",
    "stopLoss = input(\"Ingresar el stopLoss: \")\n",
    "# CON DOS ARGUMENTOS\n",
    "print(\"Tu stopLoss quedó configurado en\", stopLoss)\n",
    "# CONCATENANDO LA SALIDA CON '+'\n",
    "print(\"Tu stopLoss quedó configurado en \" + stopLoss)\n",
    "# FSTRINGS\n",
    "print(F\"Tu stopLoss quedó configurado en {stopLoss}\")\n"
   ]
  }
 ],
 "metadata": {
  "interpreter": {
   "hash": "695d51a1da3c2bd9e0b7011053edc7cd86d315464bb8756bebf47a6ace8cc98f"
  },
  "kernelspec": {
   "display_name": "Python 3.10.0 64-bit",
   "language": "python",
   "name": "python3"
  },
  "language_info": {
   "codemirror_mode": {
    "name": "ipython",
    "version": 3
   },
   "file_extension": ".py",
   "mimetype": "text/x-python",
   "name": "python",
   "nbconvert_exporter": "python",
   "pygments_lexer": "ipython3",
   "version": "3.10.0"
  },
  "orig_nbformat": 4
 },
 "nbformat": 4,
 "nbformat_minor": 2
}

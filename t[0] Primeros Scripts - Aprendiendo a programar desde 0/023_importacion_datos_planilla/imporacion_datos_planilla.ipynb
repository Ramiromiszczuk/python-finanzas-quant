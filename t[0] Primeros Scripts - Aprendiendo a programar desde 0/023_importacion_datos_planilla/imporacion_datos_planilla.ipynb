{
 "cells": [
  {
   "cell_type": "code",
   "execution_count": 12,
   "metadata": {},
   "outputs": [
    {
     "name": "stdout",
     "output_type": "stream",
     "text": [
      "[['timestamp', 'open', 'high', 'low', 'close', 'adjusted_close', 'volume'], ['19/3/2020', '239.25', '247.38', '232.22', '240.51', '240.51', '288124389'], ['18/3/2020', '236.25', '248.37', '228.02', '240', '240', '324845381'], ['17/3/2020', '245.04', '256.17', '237.07', '252.8', '252.8', '260566279'], ['16/3/2020', '241.18', '256.9', '237.36', '239.85', '239.85', '295019288']]\n",
      "--------------------\n",
      "['19/3/2020', '239.25', '247.38', '232.22', '240.51', '240.51', '288124389']\n"
     ]
    },
    {
     "data": {
      "text/plain": [
       "'247.38'"
      ]
     },
     "execution_count": 12,
     "metadata": {},
     "output_type": "execute_result"
    }
   ],
   "source": [
    "# IMPORTACIÓN DE DATOS DE UNA PLANILLA\n",
    "# LIBRERIA CSV\n",
    "# Vamos a leer un archivo \"SPY.csv\" que tiene las cotizaciones de los últimos 20\n",
    "# años del ETF que replica el S&P500\n",
    "# 1- Importamos la libreria CSV que tiene un método para leer justamente este tipo de archivos\n",
    "# 2- Usamos el método Reader de la libreria csv, y pasamos de argumento el archivo y el delimitador\n",
    "# 3- Creamos una lista vacía\n",
    "# 4- Armamos un ciclo definido que recorra todas las filas del archivo\n",
    "# 5- En cada procesamiento del ciclo insertamos la fila a la lista creada\n",
    "# 6- Imprimimos las primeras 5 filas\n",
    "\n",
    "import csv\n",
    "\n",
    "data = csv.reader(open(\"SPY.csv\"), delimiter=\";\")\n",
    "lista = []\n",
    "for fila in data:\n",
    "    lista.append(fila)\n",
    "print(lista[0:5])\n",
    "print(\"--------------------\")\n",
    "# Accedemos a una sola fila\n",
    "print(lista[1])\n",
    "# Accedemos a un elemento único de una determinada fila, en este caso, al 3° elemento de la 2° fila\n",
    "lista[1][2]\n"
   ]
  },
  {
   "cell_type": "code",
   "execution_count": 13,
   "metadata": {},
   "outputs": [
    {
     "name": "stdout",
     "output_type": "stream",
     "text": [
      "19/3/2020 Cierre $240.51\n",
      "18/3/2020 Cierre $240\n",
      "17/3/2020 Cierre $252.8\n",
      "16/3/2020 Cierre $239.85\n",
      "13/3/2020 Cierre $269.32\n"
     ]
    }
   ],
   "source": [
    "# Imprimir en la pantalla la fecha y el precio de cierre de, los primeros 5 datos de la serie.\n",
    "import csv\n",
    "\n",
    "data = csv.reader(open(\"SPY.csv\"), delimiter=\";\")\n",
    "lista = []\n",
    "for fila in data:\n",
    "    lista.append(fila)\n",
    "\n",
    "primeros5 = lista[1:6]\n",
    "for ohlc in primeros5:\n",
    "    print(ohlc[0] + \" Cierre $\" + str(ohlc[4]))\n"
   ]
  },
  {
   "cell_type": "code",
   "execution_count": 14,
   "metadata": {},
   "outputs": [
    {
     "name": "stdout",
     "output_type": "stream",
     "text": [
      "1- ['19/3/2020', '18/3/2020', '17/3/2020', '16/3/2020', '13/3/2020']\n",
      "2- ['20/3/2000']\n"
     ]
    }
   ],
   "source": [
    "# Guardamos una columna en una lista\n",
    "# Esto de tener todas las filas guardadas como filas no nos servira\n",
    "# mucho porque cada fila tiene datos que no tienen nada que ver entre si,\n",
    "# por lo general, va a ser mas útil agrupar datos de columnas de este tipo de series\n",
    "\n",
    "# Tengo en la variable lista todas las filas\n",
    "import csv\n",
    "\n",
    "data = csv.reader(open(\"SPY.csv\"), delimiter=\";\")\n",
    "lista = []\n",
    "for fila in data:\n",
    "    lista.append(fila)\n",
    "# Vamos a recorrer esas filas e ir llenando una lista con solo los valores de las fechas\n",
    "# en este caso\n",
    "# PASOS:\n",
    "# 1- Definimos la lista de fechas vacía\n",
    "# 2- Luego armamos el ciclo definido\n",
    "# 3- Dentro del bloque del ciclo agregamos la lista vacía\n",
    "# 4- Por ultimo, imprimimos las primeras 5 fechas a ver si esta todo ok\n",
    "fechas = []\n",
    "for i in range(1, len(lista)):\n",
    "    fechas.append(lista[i][0])\n",
    "print(f\"1- {fechas[0:5]}\")\n",
    "\n",
    "# La manera abreviada de llenar la lista es definirla y en el mismo paso, adentro de los corchetes,\n",
    "# llenarla. Para llenarla, ponemos el valor y luego la iteración que define al valor.\n",
    "fechas = [lista[i][0] for i in range(i, len(lista))]\n",
    "print(f\"2- {fechas[0:5]}\")\n"
   ]
  },
  {
   "cell_type": "code",
   "execution_count": 15,
   "metadata": {},
   "outputs": [
    {
     "name": "stdout",
     "output_type": "stream",
     "text": [
      "['adjusted_close', '240.51', '240', '252.8', '239.85']\n",
      "['240.51', '240', '252.8', '239.85']\n"
     ]
    }
   ],
   "source": [
    "# Podriamos también directamente cuando leemos el CSV armar la o las columnas que necesitaremos\n",
    "# Por ejemplo:\n",
    "import csv\n",
    "\n",
    "data = csv.reader(open(\"SPY.csv\"), delimiter=\";\")\n",
    "cierres_ajustados = []\n",
    "for fila in data:\n",
    "    cierres_ajustados.append(fila[5])\n",
    "print(cierres_ajustados[0:5])\n",
    "# En este caso, estamos guardando tambien el encabezado de la columna, podriamos quitarlo con la funcion del()\n",
    "del cierres_ajustados[\n",
    "    0\n",
    "]  # Borra el primer valor (el que tiene el encabezado) pero \"resetea\" el lugar 0.\n",
    "print(cierres_ajustados[0:4])\n"
   ]
  },
  {
   "cell_type": "code",
   "execution_count": 16,
   "metadata": {},
   "outputs": [
    {
     "data": {
      "text/plain": [
       "['240.51', '240', '252.8', '239.85']"
      ]
     },
     "execution_count": 16,
     "metadata": {},
     "output_type": "execute_result"
    }
   ],
   "source": [
    "# Forma mas abreviada de obtener una determinada columna con solo 5 lineas en total desde el CSV\n",
    "import csv\n",
    "\n",
    "data = csv.reader(open(\"SPY.csv\"), delimiter=\";\")\n",
    "cierres_ajustados = [fila[5] for fila in data]\n",
    "del cierres_ajustados[0]\n",
    "cierres_ajustados[0:4]\n"
   ]
  },
  {
   "cell_type": "code",
   "execution_count": 17,
   "metadata": {},
   "outputs": [
    {
     "name": "stdout",
     "output_type": "stream",
     "text": [
      "[0.21, -5.06, 5.4, -10.94]\n"
     ]
    }
   ],
   "source": [
    "# Ejercicio: Partiendo de la data de cierres, calcular la columna de variaciones diarias.\n",
    "# Como la serie de datos esta ordenada del mas reciente primero hasta el mas antiguo al final,\n",
    "# lo calcularemos como el cociente de: cierre_ajustado[i] / cierre_ajustado[i+1] = cierre actual / cierre anterior\n",
    "# Luego, utilizaremos el método float() para transformar el dato que me viene encomillado, es decir, como string, a decimal\n",
    "# y también utilizaremos el método round para limitar la cantidad de decimales del resultado.\n",
    "import csv\n",
    "\n",
    "data = csv.reader(open(\"SPY.csv\"), delimiter=\";\")\n",
    "cierres_ajustados = [fila[5] for fila in data]\n",
    "del cierres_ajustados[0]\n",
    "\n",
    "variaciones = []\n",
    "for i in range(0, len(cierres_ajustados)):\n",
    "    try:\n",
    "        var = round(\n",
    "            (float(cierres_ajustados[i]) / float(cierres_ajustados[i + 1]) - 1) * 100, 2\n",
    "        )\n",
    "        variaciones.append(var)\n",
    "    except:\n",
    "        pass\n",
    "print(variaciones[0:4])\n",
    "# Utilizamos el método try/except para evitar dos tipos de errores:\n",
    "# 1- El error de \"out of range\", es decir, cuando llegue al final de la serie que no me tire error por querer\n",
    "# buscar el elemento siguiente (que no existe)\n",
    "# 2- El error potencial de alguna division por cero en caso que tenga un 0 en algún cierre (por defecto\n",
    "# de la data feed)\n"
   ]
  },
  {
   "cell_type": "code",
   "execution_count": 18,
   "metadata": {},
   "outputs": [
    {
     "data": {
      "text/plain": [
       "[{'timestamp': 'adjusted_close'},\n",
       " {'19/3/2020': '240.51'},\n",
       " {'18/3/2020': '240'},\n",
       " {'17/3/2020': '252.8'}]"
      ]
     },
     "execution_count": 18,
     "metadata": {},
     "output_type": "execute_result"
    }
   ],
   "source": [
    "# DE CSV A DICCIONARIO\n",
    "# En realidad, no es muy util utilizar diccionarios para calcular parametros y hacer análisis, el uso de\n",
    "# diccionarios es mas limitado a definiciones mas bien estáticas, pero de todos modos de manera\n",
    "# didáctica les dejo ejemplo de como armar un diccionario clave valor de fechas de cierres partiendo de un CSV\n",
    "import csv\n",
    "\n",
    "data = csv.reader(open(\"SPY.csv\"), delimiter=\";\")\n",
    "fechas_cierres = []\n",
    "for fila in data:\n",
    "    dicc = {}\n",
    "    dicc[fila[0]] = fila[5]\n",
    "    fechas_cierres.append(dicc)\n",
    "fechas_cierres[0:4]\n"
   ]
  },
  {
   "cell_type": "markdown",
   "metadata": {},
   "source": [
    "#### Lectura de balances desde un CSV"
   ]
  },
  {
   "cell_type": "code",
   "execution_count": 19,
   "metadata": {},
   "outputs": [
    {
     "data": {
      "text/plain": [
       "['symbol',\n",
       " 'period',\n",
       " 'date',\n",
       " 'intangibleAssets',\n",
       " 'totalLiab',\n",
       " 'totalStockholderEquity',\n",
       " 'otherCurrentLiab',\n",
       " 'totalAssets',\n",
       " 'commonStock',\n",
       " 'otherCurrentAssets',\n",
       " 'retainedEarnings',\n",
       " 'otherLiab',\n",
       " 'otherAssets',\n",
       " 'totalCurrentLiabilities',\n",
       " 'otherStockholderEquity',\n",
       " 'propertyPlantEquipment',\n",
       " 'totalCurrentAssets',\n",
       " 'longTermInvestments',\n",
       " 'netTangibleAssets',\n",
       " 'shortTermInvestments',\n",
       " 'netReceivables',\n",
       " 'longTermDebt',\n",
       " 'inventory',\n",
       " 'accountsPayable']"
      ]
     },
     "execution_count": 19,
     "metadata": {},
     "output_type": "execute_result"
    }
   ],
   "source": [
    "# Veamos primero que trae en la primera fila\n",
    "import csv\n",
    "data = csv.reader(open('balances.csv'), delimiter=';')\n",
    "filas = [fila for fila in data]\n",
    "filas[0]"
   ]
  },
  {
   "cell_type": "code",
   "execution_count": 20,
   "metadata": {},
   "outputs": [
    {
     "name": "stdout",
     "output_type": "stream",
     "text": [
      "La cantidad de balances es 20 \n",
      "El primero es ['FB', 'trimestral', '31/12/2019', '894000000', '32322000000', '101054000000', '10854000000', '133376000000', 'NULL', '8000000', '55692000000', '7327000000', '2759000000', '15053000000', '-489000000', '44783000000', '66225000000', 'NULL', '81445000000', '35776000000', '9518000000', 'NULL', 'NULL', '1363000000']\n"
     ]
    }
   ],
   "source": [
    "# Veamos ahora un ejemplo para traer solo los blancos de FB\n",
    "import csv\n",
    "data = csv.reader(open('balances.csv'), delimiter=';')\n",
    "balances = list()\n",
    "for fila in data:\n",
    "    if fila[0] == \"FB\":\n",
    "        balances.append(fila)\n",
    "print(\"La cantidad de balances es\", len(balances), \"\\nEl primero es\", balances[0])"
   ]
  },
  {
   "cell_type": "code",
   "execution_count": 21,
   "metadata": {},
   "outputs": [
    {
     "data": {
      "text/plain": [
       "{'31/12/2019': 133376,\n",
       " '31/12/2018': 97334,\n",
       " '31/12/2017': 84524,\n",
       " '31/12/2016': 64961,\n",
       " '31/12/2015': 49407,\n",
       " '31/12/2014': 40184,\n",
       " '31/12/2013': 17895,\n",
       " '31/12/2012': 15103,\n",
       " '31/12/2011': 6331,\n",
       " '31/12/2010': 2990}"
      ]
     },
     "execution_count": 21,
     "metadata": {},
     "output_type": "execute_result"
    }
   ],
   "source": [
    "activos_anuales = {}\n",
    "for balance in balances:\n",
    "    if balance[1]==\"anual\":\n",
    "        activos_anuales[balance[2]]=round(int(balance[7])/1000000)\n",
    "activos_anuales"
   ]
  },
  {
   "cell_type": "code",
   "execution_count": 22,
   "metadata": {},
   "outputs": [
    {
     "data": {
      "text/plain": [
       "{'31/12/2019': 4.4,\n",
       " '31/12/2018': 7.19,\n",
       " '31/12/2017': 12.92,\n",
       " '31/12/2016': 11.97,\n",
       " '31/12/2015': 11.25,\n",
       " '31/12/2014': 9.4,\n",
       " '31/12/2013': 11.88,\n",
       " '31/12/2012': 10.71,\n",
       " '31/12/2011': 'No se pudo calcular',\n",
       " '31/12/2010': 'No se pudo calcular'}"
      ]
     },
     "execution_count": 22,
     "metadata": {},
     "output_type": "execute_result"
    }
   ],
   "source": [
    "ratio = {}\n",
    "for balance in balances:\n",
    "    if balance[1] == \"anual\":\n",
    "        try:\n",
    "            ratio[balance[2]]=round(int(balance[16])/int(balance[13]),2)\n",
    "        except:\n",
    "            ratio[balance[2]] = \"No se pudo calcular\"\n",
    "ratio"
   ]
  }
 ],
 "metadata": {
  "kernelspec": {
   "display_name": "Python 3.10.4 64-bit",
   "language": "python",
   "name": "python3"
  },
  "language_info": {
   "codemirror_mode": {
    "name": "ipython",
    "version": 3
   },
   "file_extension": ".py",
   "mimetype": "text/x-python",
   "name": "python",
   "nbconvert_exporter": "python",
   "pygments_lexer": "ipython3",
   "version": "3.10.4"
  },
  "orig_nbformat": 4,
  "vscode": {
   "interpreter": {
    "hash": "369f2c481f4da34e4445cda3fffd2e751bd1c4d706f27375911949ba6bb62e1c"
   }
  }
 },
 "nbformat": 4,
 "nbformat_minor": 2
}

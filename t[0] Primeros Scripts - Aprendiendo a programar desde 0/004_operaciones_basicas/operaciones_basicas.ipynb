{
 "cells": [
  {
   "cell_type": "code",
   "execution_count": 1,
   "metadata": {},
   "outputs": [],
   "source": [
    "a = 6\n",
    "b = 3"
   ]
  },
  {
   "cell_type": "code",
   "execution_count": 2,
   "metadata": {},
   "outputs": [],
   "source": [
    "suma = a+b\n",
    "resta = a-b\n",
    "producto = a*b\n",
    "division = a/b\n",
    "mod = a % b\n",
    "potencia = a**b"
   ]
  },
  {
   "cell_type": "code",
   "execution_count": 3,
   "metadata": {},
   "outputs": [
    {
     "name": "stdout",
     "output_type": "stream",
     "text": [
      "9\n",
      "3\n",
      "18\n",
      "2.0\n",
      "0\n",
      "216\n"
     ]
    }
   ],
   "source": [
    "print(suma)  # 6+3 = 9\n",
    "print(resta)  # 6-3 = 3\n",
    "print(producto)  # 6*3 = 18\n",
    "print(division)  # 6/3 = 2\n",
    "print(mod)  # 6%3 = 0\n",
    "print(potencia)  # 6**3 = 216\n"
   ]
  }
 ],
 "metadata": {
  "interpreter": {
   "hash": "369f2c481f4da34e4445cda3fffd2e751bd1c4d706f27375911949ba6bb62e1c"
  },
  "kernelspec": {
   "display_name": "Python 3.10.4 64-bit",
   "language": "python",
   "name": "python3"
  },
  "language_info": {
   "codemirror_mode": {
    "name": "ipython",
    "version": 3
   },
   "file_extension": ".py",
   "mimetype": "text/x-python",
   "name": "python",
   "nbconvert_exporter": "python",
   "pygments_lexer": "ipython3",
   "version": "3.10.4"
  },
  "orig_nbformat": 4
 },
 "nbformat": 4,
 "nbformat_minor": 2
}

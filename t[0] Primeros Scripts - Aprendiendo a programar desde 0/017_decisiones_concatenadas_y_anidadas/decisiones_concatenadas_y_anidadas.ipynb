{
 "cells": [
  {
   "cell_type": "code",
   "execution_count": 1,
   "metadata": {},
   "outputs": [
    {
     "name": "stdout",
     "output_type": "stream",
     "text": [
      "All in Argy\n"
     ]
    }
   ],
   "source": [
    "# Decisiones Consecutivadas o Concatenadas\n",
    "# Son muy utiles cuando tenemos que ir preguntando algo que en lugar de ser blanco/negro o si/no se va dividiendo como en grupos o escalas,\n",
    "# por ejemplo, para rangos de malo, regular, bueno, muy bueno, excelente, vamos a evaluar una variable consecutivamente con los limites de esos grupos,\n",
    "# veamos primero la estructura de las decisiones consecutivas.\n",
    "\n",
    "# if condicion_1:\n",
    "#     acciones si condicion_1 es verdadera\n",
    "# elif condicion_2:\n",
    "#     acciones si condicion_2 es verdadera\n",
    "# ......\n",
    "# elif condicion_n:\n",
    "#   acciones si condicion_n es verdadera\n",
    "# else:\n",
    "#   acciones si no fue verdadera ninguna de las condiciones anteriores\n",
    "# sigue el programa\n",
    "\n",
    "# Ejemplo tipico de decisiones consecutivas\n",
    "merval = 1800\n",
    "if merval > 1500:\n",
    "    print(\"All in Argy\")\n",
    "elif merval > 1000:\n",
    "    print(\"Es por aca\")\n",
    "else:\n",
    "    print(\"Piña historica\")\n"
   ]
  },
  {
   "cell_type": "code",
   "execution_count": 2,
   "metadata": {},
   "outputs": [
    {
     "name": "stdout",
     "output_type": "stream",
     "text": [
      "All in Brasil\n"
     ]
    }
   ],
   "source": [
    "# Decisiones Anidadas\n",
    "# Las decisiones anidadas son ni mas ni menos que una decision adentro de otra.\n",
    "# Veamos un ejemplo:\n",
    "merval = 1200\n",
    "usd = 60\n",
    "if merval > 800:\n",
    "    if usd < 40:\n",
    "        print(\"All in Argy\")\n",
    "    else:\n",
    "        print(\"All in Brasil\")\n",
    "else:\n",
    "    if usd < 40:\n",
    "        print(\"Piña historica\")\n",
    "    else:\n",
    "        print(\"Yo te avise\")\n"
   ]
  }
 ],
 "metadata": {
  "interpreter": {
   "hash": "369f2c481f4da34e4445cda3fffd2e751bd1c4d706f27375911949ba6bb62e1c"
  },
  "kernelspec": {
   "display_name": "Python 3.10.4 64-bit",
   "language": "python",
   "name": "python3"
  },
  "language_info": {
   "codemirror_mode": {
    "name": "ipython",
    "version": 3
   },
   "file_extension": ".py",
   "mimetype": "text/x-python",
   "name": "python",
   "nbconvert_exporter": "python",
   "pygments_lexer": "ipython3",
   "version": "3.10.4"
  },
  "orig_nbformat": 4
 },
 "nbformat": 4,
 "nbformat_minor": 2
}

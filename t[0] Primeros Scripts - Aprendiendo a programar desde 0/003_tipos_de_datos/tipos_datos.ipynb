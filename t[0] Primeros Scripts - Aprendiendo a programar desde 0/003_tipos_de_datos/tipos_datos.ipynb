{
 "cells": [
  {
   "cell_type": "code",
   "execution_count": 1,
   "metadata": {},
   "outputs": [
    {
     "name": "stdout",
     "output_type": "stream",
     "text": [
      "<class 'int'>\n"
     ]
    }
   ],
   "source": [
    "# NUMEROS ENTEROS int()\n",
    "a = 5\n",
    "print(type(a))  # int"
   ]
  },
  {
   "cell_type": "code",
   "execution_count": 2,
   "metadata": {},
   "outputs": [
    {
     "name": "stdout",
     "output_type": "stream",
     "text": [
      "<class 'float'>\n"
     ]
    }
   ],
   "source": [
    "# NUMEROS DECIMALES float()\n",
    "a = 3.14\n",
    "print(type(a))  # float"
   ]
  },
  {
   "cell_type": "code",
   "execution_count": 3,
   "metadata": {},
   "outputs": [
    {
     "name": "stdout",
     "output_type": "stream",
     "text": [
      "<class 'bool'>\n"
     ]
    }
   ],
   "source": [
    "# BOOLEANOS (TRUE OR FALSE)\n",
    "a = False  # OJO CON LA PRIMERA LETRA DE TRUE O FALSE, SI NO ES MAYUSCULA PYTHON NO LA RECONOCE\n",
    "type(a)  # bool\n",
    "a = True\n",
    "print(type(a))  # bool"
   ]
  },
  {
   "cell_type": "code",
   "execution_count": 4,
   "metadata": {},
   "outputs": [
    {
     "name": "stdout",
     "output_type": "stream",
     "text": [
      "<class 'str'>\n"
     ]
    }
   ],
   "source": [
    "# STRINGS o CADENAS DE CARACTERES\n",
    "a = \"True\"\n",
    "print(type(a))  # string"
   ]
  },
  {
   "cell_type": "code",
   "execution_count": 5,
   "metadata": {},
   "outputs": [
    {
     "name": "stdout",
     "output_type": "stream",
     "text": [
      "<class 'NoneType'>\n"
     ]
    }
   ],
   "source": [
    "# NULOS\n",
    "a = None\n",
    "print(type(a))"
   ]
  },
  {
   "cell_type": "code",
   "execution_count": 6,
   "metadata": {},
   "outputs": [
    {
     "name": "stdout",
     "output_type": "stream",
     "text": [
      "6\n"
     ]
    }
   ],
   "source": [
    "# OJO CON OPERAR VARIABLES DE DIFERENTE TIPO\n",
    "a = 2  # int\n",
    "b = a*3  # int\n",
    "print(b)  # 6 = ✔️"
   ]
  },
  {
   "cell_type": "code",
   "execution_count": 7,
   "metadata": {},
   "outputs": [
    {
     "name": "stdout",
     "output_type": "stream",
     "text": [
      "222\n"
     ]
    }
   ],
   "source": [
    "a = \"2\"  # str\n",
    "b = a*3  # str * 3\n",
    "print(b)  # 222 = ❌"
   ]
  },
  {
   "cell_type": "code",
   "execution_count": 8,
   "metadata": {},
   "outputs": [
    {
     "ename": "TypeError",
     "evalue": "can only concatenate str (not \"int\") to str",
     "output_type": "error",
     "traceback": [
      "\u001b[1;31m---------------------------------------------------------------------------\u001b[0m",
      "\u001b[1;31mTypeError\u001b[0m                                 Traceback (most recent call last)",
      "\u001b[1;32mc:\\Users\\Lenovo\\Documents\\jefatura\\concursar\\python-finanzas-quant\\t[0] Primeros Scripts - Aprendiendo a programar desde 0\\3_tipos_de_datos\\tipos_datos.ipynb Cell 8'\u001b[0m in \u001b[0;36m<cell line: 4>\u001b[1;34m()\u001b[0m\n\u001b[0;32m      <a href='vscode-notebook-cell:/c%3A/Users/Lenovo/Documents/jefatura/concursar/python-finanzas-quant/t%5B0%5D%20Primeros%20Scripts%20-%20Aprendiendo%20a%20programar%20desde%200/3_tipos_de_datos/tipos_datos.ipynb#ch0000007?line=0'>1</a>\u001b[0m \u001b[39m# ERRORES POR OPERAR TIPOS DE DATOS DIFERENTES\u001b[39;00m\n\u001b[0;32m      <a href='vscode-notebook-cell:/c%3A/Users/Lenovo/Documents/jefatura/concursar/python-finanzas-quant/t%5B0%5D%20Primeros%20Scripts%20-%20Aprendiendo%20a%20programar%20desde%200/3_tipos_de_datos/tipos_datos.ipynb#ch0000007?line=2'>3</a>\u001b[0m a \u001b[39m=\u001b[39m \u001b[39m\"\u001b[39m\u001b[39m2\u001b[39m\u001b[39m\"\u001b[39m\n\u001b[1;32m----> <a href='vscode-notebook-cell:/c%3A/Users/Lenovo/Documents/jefatura/concursar/python-finanzas-quant/t%5B0%5D%20Primeros%20Scripts%20-%20Aprendiendo%20a%20programar%20desde%200/3_tipos_de_datos/tipos_datos.ipynb#ch0000007?line=3'>4</a>\u001b[0m b \u001b[39m=\u001b[39m a \u001b[39m+\u001b[39;49m \u001b[39m3\u001b[39;49m\n\u001b[0;32m      <a href='vscode-notebook-cell:/c%3A/Users/Lenovo/Documents/jefatura/concursar/python-finanzas-quant/t%5B0%5D%20Primeros%20Scripts%20-%20Aprendiendo%20a%20programar%20desde%200/3_tipos_de_datos/tipos_datos.ipynb#ch0000007?line=4'>5</a>\u001b[0m \u001b[39mprint\u001b[39m(b)\n",
      "\u001b[1;31mTypeError\u001b[0m: can only concatenate str (not \"int\") to str"
     ]
    }
   ],
   "source": [
    "# ERRORES POR OPERAR TIPOS DE DATOS DIFERENTES\n",
    "\n",
    "a = \"2\"\n",
    "b = a + 3\n",
    "print(b)  # TypeError: can only concatenate str (not \"int\") to str\n",
    "# NO SE PUEDE CONCATENAR STRINGS CON ENTEROS"
   ]
  },
  {
   "cell_type": "markdown",
   "metadata": {},
   "source": [
    "# PYTHON ES UN LENGUAJE INTERPRETADO, DINAMICAMENTE TIPADO, ES DECIR, UTILIZA UN INTERPRETE, LAS VARIABLES PUEDEN CAMBIAR SU TIPO DE DATO."
   ]
  }
 ],
 "metadata": {
  "interpreter": {
   "hash": "369f2c481f4da34e4445cda3fffd2e751bd1c4d706f27375911949ba6bb62e1c"
  },
  "kernelspec": {
   "display_name": "Python 3.10.4 64-bit",
   "language": "python",
   "name": "python3"
  },
  "language_info": {
   "codemirror_mode": {
    "name": "ipython",
    "version": 3
   },
   "file_extension": ".py",
   "mimetype": "text/x-python",
   "name": "python",
   "nbconvert_exporter": "python",
   "pygments_lexer": "ipython3",
   "version": "3.10.4"
  },
  "orig_nbformat": 4
 },
 "nbformat": 4,
 "nbformat_minor": 2
}

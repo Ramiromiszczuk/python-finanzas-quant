{
 "cells": [
  {
   "cell_type": "code",
   "execution_count": 1,
   "metadata": {},
   "outputs": [
    {
     "name": "stdout",
     "output_type": "stream",
     "text": [
      "109.49\n"
     ]
    }
   ],
   "source": [
    "# 1 - Obtener un precio aleatorio para la acción de GGAL que oscile entre 100 y 110 y con precisión de 0.01, asignarlo a la variable ggal\n",
    "import random\n",
    "\n",
    "min = 10000\n",
    "max = 11000\n",
    "paso = 1  # LA VARIABLE PASO DEBE SER INTEGER, POR LO TANTO MULTIPLICO 100 Y 11O POR 1000 Y DESPUES DIVIDO POR 100\n",
    "ggal = random.randrange(min, max, paso)/100\n",
    "print(ggal)"
   ]
  },
  {
   "cell_type": "code",
   "execution_count": 2,
   "metadata": {},
   "outputs": [
    {
     "name": "stdout",
     "output_type": "stream",
     "text": [
      "-0.5215840064969304\n"
     ]
    }
   ],
   "source": [
    "# 3 - Asumiendo que un activo tiene una distribución de sus rendimientos diarios muy similar a la distribución normal, y que su media diaria es de 0.1% con una volatilidad diaria del 2.5%.\n",
    "# Escribir la instruccion que me devuelva valores aleatorios de su rendimiento diario.\n",
    "media = 0.1\n",
    "volatilidad = 2.5\n",
    "print(random.normalvariate(media, volatilidad))"
   ]
  }
 ],
 "metadata": {
  "interpreter": {
   "hash": "369f2c481f4da34e4445cda3fffd2e751bd1c4d706f27375911949ba6bb62e1c"
  },
  "kernelspec": {
   "display_name": "Python 3.10.4 64-bit",
   "language": "python",
   "name": "python3"
  },
  "language_info": {
   "codemirror_mode": {
    "name": "ipython",
    "version": 3
   },
   "file_extension": ".py",
   "mimetype": "text/x-python",
   "name": "python",
   "nbconvert_exporter": "python",
   "pygments_lexer": "ipython3",
   "version": "3.10.4"
  },
  "orig_nbformat": 4
 },
 "nbformat": 4,
 "nbformat_minor": 2
}

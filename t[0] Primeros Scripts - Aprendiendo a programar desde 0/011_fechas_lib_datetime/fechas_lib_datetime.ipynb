{
 "cells": [
  {
   "cell_type": "code",
   "execution_count": 3,
   "metadata": {},
   "outputs": [
    {
     "name": "stdout",
     "output_type": "stream",
     "text": [
      "2022-06-08 11:47:46.336345 <class 'datetime.datetime'>\n",
      "2022-06-08 <class 'datetime.date'>\n",
      "Wed Jun  8 11:47:46 2022 <class 'str'>\n"
     ]
    }
   ],
   "source": [
    "########################################################################################################################\n",
    "# LIBRERIA DATETIME\n",
    "########################################################################################################################\n",
    "\n",
    "import datetime as dt\n",
    "# LA LIBRERIA DATETIME TIENE LOS SIGUIENTES PAQUETES O SUBLIBRERIA: date - time - datetime - timedelta - timezone - tzinfo\n",
    "# IMPORTANDO SUB-PAQUETES\n",
    "from datetime import datetime as dt_dt # datetime\n",
    "from datetime import date as dt_date # date\n",
    "# ESOS ALIAS (dt_dt - dt_date) NOS PERMITEN REFERIRNOS EN MODO MAS ABREVIADO A LOS SUBPAQUETES.\n",
    "# EN LUGAR DE datetime.datetime SOLO DIREMOS dt_dt\n",
    "# EN LUGAR DE datetime.date SOLO DIREMOS dt_date\n",
    "\n",
    "hoy = dt_dt.now()\n",
    "print(hoy, type(hoy))  # FECHA CON HORA\n",
    "\n",
    "hoy = dt_date.today()\n",
    "print(hoy, type(hoy))  # FECHA SIN HORA\n",
    "\n",
    "hoy = dt_dt.today().ctime()\n",
    "print(hoy, type(hoy))  # FECHA CON HORA Y FORMATO DE TEXTO"
   ]
  },
  {
   "cell_type": "code",
   "execution_count": 4,
   "metadata": {},
   "outputs": [
    {
     "name": "stdout",
     "output_type": "stream",
     "text": [
      "Expiracion:  2022-12-16 00:00:00  - Tipo de dato de expiracion <class 'datetime.datetime'>\n",
      "Vencimiento:  190 days, 12:12:13.532509  - Tipo de dato de vencimiento <class 'datetime.timedelta'>\n",
      "Dias restantes:  190 \n",
      "Segundos restantes: 43933\n",
      "Fri Dec 16 00:00:00 2022\n"
     ]
    }
   ],
   "source": [
    "#CONVERTIR UN STRING EN UN OBJETO DATETIME\n",
    "hoy = dt_dt.today() # CREO LA VARIABLE hoy CON LA FECHA ACTUAL EN FORMATO DATETIME\n",
    "expiracion_str = '2022-12-16' # CREO LA VARIABLE expiracion_str CON LA FECHA DE EXPIRACION EN FORMATO STRING\n",
    "expiracion = dt_dt.strptime(expiracion_str, '%Y-%m-%d') # CONVIERTO LA FECHA DE EXPIRACION EN FORMATO STRING A FORMATO DATETIME\n",
    "print(\"Expiracion: \", expiracion, \" - Tipo de dato de expiracion\", type(expiracion)) # IMPRIMO LA FECHA DE EXPIRACION\n",
    "\n",
    "vencimiento = expiracion - hoy # CALCULO LA DIFERENCIA ENTRE LA FECHA DE EXPIRACION Y LA FECHA ACTUAL\n",
    "print(\"Vencimiento: \", vencimiento, \" - Tipo de dato de vencimiento\", type(vencimiento))  # RESULTADO: DIFERENCIA DE DIAS ENTRE LA FECHA DE EXPIRACION Y LA FECHA ACTUAL\n",
    "\n",
    "dias_vencimiento = vencimiento.days # EXTRAIGO LOS DIAS DE LA DIFERENCIA ENTRE LA FECHA DE EXPIRACION Y LA FECHA ACTUAL\n",
    "segundos = vencimiento.seconds # EXTRAIGO LOS SEGUNDOS DE LA DIFERENCIA ENTRE LA FECHA DE EXPIRACION Y LA FECHA ACTUAL\n",
    "print(\"Dias restantes: \", dias_vencimiento, \"\\nSegundos restantes:\", segundos)  # RESULTADO: DIAS Y SEGUNDOS PARA EL VENCIMIENTO\n",
    "\n",
    "\n",
    "print(dt_dt.ctime(expiracion))  # ACCEDO AL STRING DE LA FECHA DE EXPIRACION QUE YA ESTA EN FORMATO DATETIME\n"
   ]
  },
  {
   "cell_type": "code",
   "execution_count": 5,
   "metadata": {},
   "outputs": [
    {
     "name": "stdout",
     "output_type": "stream",
     "text": [
      "2020-12-16 12:30:00 <class 'datetime.datetime'>\n"
     ]
    }
   ],
   "source": [
    "########################################################################################################################\n",
    "#GENERAR UNA FECHA COMO OBJETO DATETIME\n",
    "########################################################################################################################\n",
    "\n",
    "año = 2020\n",
    "mes = 12\n",
    "dia = 16\n",
    "hora = 12\n",
    "minutos = 30\n",
    "segundos = 0\n",
    "\n",
    "fecha = dt_dt(año, mes, dia, hora, minutos, segundos) # CREO LA VARIABLE fecha DE TIPO DATETIME CON VALORES QUE DESEO\n",
    "print(fecha, type(fecha)) # IMPRIMO LA FECHA CON HORA\n",
    "\n",
    "#AHORA, SI QUIERO CONVERTIR LA FECHA QUE YA TENGO EN FORMATO DATETIME A FORMATO STRING USO LA FUNCION str()\n",
    "fecha_str = str(fecha) # CONVIERTO LA FECHA EN FORMATO DATETIME A FORMATO STRING"
   ]
  },
  {
   "cell_type": "code",
   "execution_count": 6,
   "metadata": {},
   "outputs": [
    {
     "name": "stdout",
     "output_type": "stream",
     "text": [
      "2022-06-08 11:47:46.757245\n",
      "08/06/2022\n"
     ]
    }
   ],
   "source": [
    "########################################################################################################################\n",
    "#DISTINTOS FORMATOS PARA MOSTRAR FECHAS\n",
    "########################################################################################################################\n",
    "\n",
    "hoy = dt_dt.today() # CREO LA VARIABLE hoy CON LA FECHA ACTUAL EN FORMATO DATETIME\n",
    "hoy_txt = dt_dt.strftime(hoy, '%d/%m/%Y') # CONVIERTO LA FECHA ACTUAL EN FORMATO DATETIME A FORMATO STRING\n",
    "print(hoy) # IMPRIMO LA FECHA ACTUAL EN FORMATO DATETIME\n",
    "print(hoy_txt) # IMPRIMO LA FECHA ACTUAL EN FORMATO STRING"
   ]
  },
  {
   "cell_type": "code",
   "execution_count": 7,
   "metadata": {},
   "outputs": [
    {
     "name": "stdout",
     "output_type": "stream",
     "text": [
      "2022-06-08 11:47:46.950243\n",
      "Wednesday 08 June 2022\n",
      "2022-06-08 11:47:46.953302\n",
      "miércoles 08 de junio 2022\n"
     ]
    }
   ],
   "source": [
    "########################################################################################################################\n",
    "#SETEO DE PARAMETRIZACION LOCAL\n",
    "#Fechas y horas: locale.LC_TIME\n",
    "# Signos y nomenclaturas monetarias: locale.LC_MONETARY\n",
    "# Numeracion y signos de puntuacion: locale.LC_NUMERIC\n",
    "# Nombres y nomenclaturas de paises: locale.LC_NAME\n",
    "########################################################################################################################\n",
    "\n",
    "\n",
    "import locale # IMPORTO LA LIBRERIA LOCALE\n",
    "from datetime import datetime as dt_dt # IMPORTO LA LIBRERIA DATETIME Y LE ASIGNO EL ALIAS dt\n",
    "\n",
    "locale.setlocale(locale.LC_TIME, 'en') # SETEO LA LOCALIZACION DE LA FECHA EN FORMATO LOCAL EN INGLES\n",
    "hoy = dt_dt.today() # CREO LA VARIABLE hoy CON LA FECHA ACTUAL EN FORMATO DATETIME CON LA LOCALIZACION SETEADA EN INGLES\n",
    "print(hoy) # IMPRIMO LA FECHA ACTUAL EN FORMATO DATETIME CON LA LOCALIZACION SETEADA EN INGLES\n",
    "hoy = dt_dt.strftime(hoy, '%A %d %B %Y') # CONVIERTO LA FECHA ACTUAL EN FORMATO DATETIME A FORMATO LOCAL\n",
    "print(hoy) # IMPRIMO LA FECHA ACTUAL EN FORMATO LOCAL CON LA LOCALIZACION SETEADA EN INGLES\n",
    "\n",
    "locale.setlocale(locale.LC_TIME, 'es') # SETEO LA LOCALIZACION DE LA FECHA EN FORMATO LOCAL EN ESPAÑOL\n",
    "hoy_es = dt_dt.today() # CREO LA VARIABLE hoy CON LA FECHA ACTUAL EN FORMATO DATETIME CON LA LOCALIZACION SETEADA EN ESPAÑOL\n",
    "print(hoy_es) # IMPRIMO LA FECHA ACTUAL EN FORMATO DATETIME CON LA LOCALIZACION SETEADA EN ESPAÑOL\n",
    "hoy_es = dt_dt.strftime(hoy_es, '%A %d de %B %Y') # CONVIERTO LA FECHA ACTUAL EN FORMATO DATETIME A FORMATO LOCAL\n",
    "print(hoy_es) # IMPRIMO LA FECHA ACTUAL EN FORMATO LOCAL CON LA LOCALIZACION SETEADA EN ESPAÑOL"
   ]
  },
  {
   "cell_type": "code",
   "execution_count": 8,
   "metadata": {},
   "outputs": [
    {
     "name": "stdout",
     "output_type": "stream",
     "text": [
      "1654699667.550316\n",
      "2020-05-07 19:01:28\n"
     ]
    }
   ],
   "source": [
    "########################################################################################################################\n",
    "#¿QUE ES UN TIMESTAMP?\n",
    "# El timestamp mas utilizado es el numero de segundos que ha pasado desde el 1 de enero de 1970 GMT hasta el momento en que se ejecuta el programa.\n",
    "# Nos sirve para identificar una fecha y hora exactas con un simple numero entero.\n",
    "# Tambien se lo conoce como fecha 'Epoch' fecha UNIX o tiempo UNIX.\n",
    "########################################################################################################################\n",
    "\n",
    "#Obtener el timestamp de un objeto datetime (fecha)\n",
    "hoy = dt_dt.today() # CREO LA VARIABLE hoy CON LA FECHA ACTUAL EN FORMATO DATETIME\n",
    "timestamp = hoy.timestamp() # CREO LA VARIABLE timestamp CON EL TIMESTAMP DE LA FECHA ACTUAL\n",
    "print(timestamp) # IMPRIMO EL TIMESTAMP DE LA FECHA ACTUAL\n",
    "\n",
    "#Obtener el objeto fecha (datetime) de un timestamp\n",
    "timestamp = 1588888888 # CREO LA VARIABLE timestamp CON EL TIMESTAMP QUE DESEO CONVERTIR A OBJETO DATETIME\n",
    "fecha = dt_dt.fromtimestamp(timestamp) # CREO LA VARIABLE fecha CON EL OBJETO DATETIME DE LA FECHA QUE DESEO CONVERTIR\n",
    "print(fecha) # IMPRIMO LA FECHA CON EL TIMESTAMP QUE DESEO CONVERTIR"
   ]
  },
  {
   "cell_type": "code",
   "execution_count": 9,
   "metadata": {},
   "outputs": [
    {
     "name": "stdout",
     "output_type": "stream",
     "text": [
      "La fecha y hora local es: 2022-06-08 11:47:47.860508\n",
      "La fecha y hora en Berlin es: 2022-06-08 16:47:47.860508+02:00\n",
      "Las timezones son: ['Africa/Abidjan', 'Africa/Accra', 'Africa/Addis_Ababa', 'Africa/Algiers', 'Africa/Asmara', 'Africa/Asmera', 'Africa/Bamako', 'Africa/Bangui', 'Africa/Banjul', 'Africa/Bissau', 'Africa/Blantyre', 'Africa/Brazzaville', 'Africa/Bujumbura', 'Africa/Cairo', 'Africa/Casablanca', 'Africa/Ceuta', 'Africa/Conakry', 'Africa/Dakar', 'Africa/Dar_es_Salaam', 'Africa/Djibouti', 'Africa/Douala', 'Africa/El_Aaiun', 'Africa/Freetown', 'Africa/Gaborone', 'Africa/Harare', 'Africa/Johannesburg', 'Africa/Juba', 'Africa/Kampala', 'Africa/Khartoum', 'Africa/Kigali', 'Africa/Kinshasa', 'Africa/Lagos', 'Africa/Libreville', 'Africa/Lome', 'Africa/Luanda', 'Africa/Lubumbashi', 'Africa/Lusaka', 'Africa/Malabo', 'Africa/Maputo', 'Africa/Maseru', 'Africa/Mbabane', 'Africa/Mogadishu', 'Africa/Monrovia', 'Africa/Nairobi', 'Africa/Ndjamena', 'Africa/Niamey', 'Africa/Nouakchott', 'Africa/Ouagadougou', 'Africa/Porto-Novo', 'Africa/Sao_Tome', 'Africa/Timbuktu', 'Africa/Tripoli', 'Africa/Tunis', 'Africa/Windhoek', 'America/Adak', 'America/Anchorage', 'America/Anguilla', 'America/Antigua', 'America/Araguaina', 'America/Argentina/Buenos_Aires', 'America/Argentina/Catamarca', 'America/Argentina/ComodRivadavia', 'America/Argentina/Cordoba', 'America/Argentina/Jujuy', 'America/Argentina/La_Rioja', 'America/Argentina/Mendoza', 'America/Argentina/Rio_Gallegos', 'America/Argentina/Salta', 'America/Argentina/San_Juan', 'America/Argentina/San_Luis', 'America/Argentina/Tucuman', 'America/Argentina/Ushuaia', 'America/Aruba', 'America/Asuncion', 'America/Atikokan', 'America/Atka', 'America/Bahia', 'America/Bahia_Banderas', 'America/Barbados', 'America/Belem', 'America/Belize', 'America/Blanc-Sablon', 'America/Boa_Vista', 'America/Bogota', 'America/Boise', 'America/Buenos_Aires', 'America/Cambridge_Bay', 'America/Campo_Grande', 'America/Cancun', 'America/Caracas', 'America/Catamarca', 'America/Cayenne', 'America/Cayman', 'America/Chicago', 'America/Chihuahua', 'America/Coral_Harbour', 'America/Cordoba', 'America/Costa_Rica', 'America/Creston', 'America/Cuiaba', 'America/Curacao', 'America/Danmarkshavn', 'America/Dawson', 'America/Dawson_Creek', 'America/Denver', 'America/Detroit', 'America/Dominica', 'America/Edmonton', 'America/Eirunepe', 'America/El_Salvador', 'America/Ensenada', 'America/Fort_Nelson', 'America/Fort_Wayne', 'America/Fortaleza', 'America/Glace_Bay', 'America/Godthab', 'America/Goose_Bay', 'America/Grand_Turk', 'America/Grenada', 'America/Guadeloupe', 'America/Guatemala', 'America/Guayaquil', 'America/Guyana', 'America/Halifax', 'America/Havana', 'America/Hermosillo', 'America/Indiana/Indianapolis', 'America/Indiana/Knox', 'America/Indiana/Marengo', 'America/Indiana/Petersburg', 'America/Indiana/Tell_City', 'America/Indiana/Vevay', 'America/Indiana/Vincennes', 'America/Indiana/Winamac', 'America/Indianapolis', 'America/Inuvik', 'America/Iqaluit', 'America/Jamaica', 'America/Jujuy', 'America/Juneau', 'America/Kentucky/Louisville', 'America/Kentucky/Monticello', 'America/Knox_IN', 'America/Kralendijk', 'America/La_Paz', 'America/Lima', 'America/Los_Angeles', 'America/Louisville', 'America/Lower_Princes', 'America/Maceio', 'America/Managua', 'America/Manaus', 'America/Marigot', 'America/Martinique', 'America/Matamoros', 'America/Mazatlan', 'America/Mendoza', 'America/Menominee', 'America/Merida', 'America/Metlakatla', 'America/Mexico_City', 'America/Miquelon', 'America/Moncton', 'America/Monterrey', 'America/Montevideo', 'America/Montreal', 'America/Montserrat', 'America/Nassau', 'America/New_York', 'America/Nipigon', 'America/Nome', 'America/Noronha', 'America/North_Dakota/Beulah', 'America/North_Dakota/Center', 'America/North_Dakota/New_Salem', 'America/Nuuk', 'America/Ojinaga', 'America/Panama', 'America/Pangnirtung', 'America/Paramaribo', 'America/Phoenix', 'America/Port-au-Prince', 'America/Port_of_Spain', 'America/Porto_Acre', 'America/Porto_Velho', 'America/Puerto_Rico', 'America/Punta_Arenas', 'America/Rainy_River', 'America/Rankin_Inlet', 'America/Recife', 'America/Regina', 'America/Resolute', 'America/Rio_Branco', 'America/Rosario', 'America/Santa_Isabel', 'America/Santarem', 'America/Santiago', 'America/Santo_Domingo', 'America/Sao_Paulo', 'America/Scoresbysund', 'America/Shiprock', 'America/Sitka', 'America/St_Barthelemy', 'America/St_Johns', 'America/St_Kitts', 'America/St_Lucia', 'America/St_Thomas', 'America/St_Vincent', 'America/Swift_Current', 'America/Tegucigalpa', 'America/Thule', 'America/Thunder_Bay', 'America/Tijuana', 'America/Toronto', 'America/Tortola', 'America/Vancouver', 'America/Virgin', 'America/Whitehorse', 'America/Winnipeg', 'America/Yakutat', 'America/Yellowknife', 'Antarctica/Casey', 'Antarctica/Davis', 'Antarctica/DumontDUrville', 'Antarctica/Macquarie', 'Antarctica/Mawson', 'Antarctica/McMurdo', 'Antarctica/Palmer', 'Antarctica/Rothera', 'Antarctica/South_Pole', 'Antarctica/Syowa', 'Antarctica/Troll', 'Antarctica/Vostok', 'Arctic/Longyearbyen', 'Asia/Aden', 'Asia/Almaty', 'Asia/Amman', 'Asia/Anadyr', 'Asia/Aqtau', 'Asia/Aqtobe', 'Asia/Ashgabat', 'Asia/Ashkhabad', 'Asia/Atyrau', 'Asia/Baghdad', 'Asia/Bahrain', 'Asia/Baku', 'Asia/Bangkok', 'Asia/Barnaul', 'Asia/Beirut', 'Asia/Bishkek', 'Asia/Brunei', 'Asia/Calcutta', 'Asia/Chita', 'Asia/Choibalsan', 'Asia/Chongqing', 'Asia/Chungking', 'Asia/Colombo', 'Asia/Dacca', 'Asia/Damascus', 'Asia/Dhaka', 'Asia/Dili', 'Asia/Dubai', 'Asia/Dushanbe', 'Asia/Famagusta', 'Asia/Gaza', 'Asia/Harbin', 'Asia/Hebron', 'Asia/Ho_Chi_Minh', 'Asia/Hong_Kong', 'Asia/Hovd', 'Asia/Irkutsk', 'Asia/Istanbul', 'Asia/Jakarta', 'Asia/Jayapura', 'Asia/Jerusalem', 'Asia/Kabul', 'Asia/Kamchatka', 'Asia/Karachi', 'Asia/Kashgar', 'Asia/Kathmandu', 'Asia/Katmandu', 'Asia/Khandyga', 'Asia/Kolkata', 'Asia/Krasnoyarsk', 'Asia/Kuala_Lumpur', 'Asia/Kuching', 'Asia/Kuwait', 'Asia/Macao', 'Asia/Macau', 'Asia/Magadan', 'Asia/Makassar', 'Asia/Manila', 'Asia/Muscat', 'Asia/Nicosia', 'Asia/Novokuznetsk', 'Asia/Novosibirsk', 'Asia/Omsk', 'Asia/Oral', 'Asia/Phnom_Penh', 'Asia/Pontianak', 'Asia/Pyongyang', 'Asia/Qatar', 'Asia/Qostanay', 'Asia/Qyzylorda', 'Asia/Rangoon', 'Asia/Riyadh', 'Asia/Saigon', 'Asia/Sakhalin', 'Asia/Samarkand', 'Asia/Seoul', 'Asia/Shanghai', 'Asia/Singapore', 'Asia/Srednekolymsk', 'Asia/Taipei', 'Asia/Tashkent', 'Asia/Tbilisi', 'Asia/Tehran', 'Asia/Tel_Aviv', 'Asia/Thimbu', 'Asia/Thimphu', 'Asia/Tokyo', 'Asia/Tomsk', 'Asia/Ujung_Pandang', 'Asia/Ulaanbaatar', 'Asia/Ulan_Bator', 'Asia/Urumqi', 'Asia/Ust-Nera', 'Asia/Vientiane', 'Asia/Vladivostok', 'Asia/Yakutsk', 'Asia/Yangon', 'Asia/Yekaterinburg', 'Asia/Yerevan', 'Atlantic/Azores', 'Atlantic/Bermuda', 'Atlantic/Canary', 'Atlantic/Cape_Verde', 'Atlantic/Faeroe', 'Atlantic/Faroe', 'Atlantic/Jan_Mayen', 'Atlantic/Madeira', 'Atlantic/Reykjavik', 'Atlantic/South_Georgia', 'Atlantic/St_Helena', 'Atlantic/Stanley', 'Australia/ACT', 'Australia/Adelaide', 'Australia/Brisbane', 'Australia/Broken_Hill', 'Australia/Canberra', 'Australia/Currie', 'Australia/Darwin', 'Australia/Eucla', 'Australia/Hobart', 'Australia/LHI', 'Australia/Lindeman', 'Australia/Lord_Howe', 'Australia/Melbourne', 'Australia/NSW', 'Australia/North', 'Australia/Perth', 'Australia/Queensland', 'Australia/South', 'Australia/Sydney', 'Australia/Tasmania', 'Australia/Victoria', 'Australia/West', 'Australia/Yancowinna', 'Brazil/Acre', 'Brazil/DeNoronha', 'Brazil/East', 'Brazil/West', 'CET', 'CST6CDT', 'Canada/Atlantic', 'Canada/Central', 'Canada/Eastern', 'Canada/Mountain', 'Canada/Newfoundland', 'Canada/Pacific', 'Canada/Saskatchewan', 'Canada/Yukon', 'Chile/Continental', 'Chile/EasterIsland', 'Cuba', 'EET', 'EST', 'EST5EDT', 'Egypt', 'Eire', 'Etc/GMT', 'Etc/GMT+0', 'Etc/GMT+1', 'Etc/GMT+10', 'Etc/GMT+11', 'Etc/GMT+12', 'Etc/GMT+2', 'Etc/GMT+3', 'Etc/GMT+4', 'Etc/GMT+5', 'Etc/GMT+6', 'Etc/GMT+7', 'Etc/GMT+8', 'Etc/GMT+9', 'Etc/GMT-0', 'Etc/GMT-1', 'Etc/GMT-10', 'Etc/GMT-11', 'Etc/GMT-12', 'Etc/GMT-13', 'Etc/GMT-14', 'Etc/GMT-2', 'Etc/GMT-3', 'Etc/GMT-4', 'Etc/GMT-5', 'Etc/GMT-6', 'Etc/GMT-7', 'Etc/GMT-8', 'Etc/GMT-9', 'Etc/GMT0', 'Etc/Greenwich', 'Etc/UCT', 'Etc/UTC', 'Etc/Universal', 'Etc/Zulu', 'Europe/Amsterdam', 'Europe/Andorra', 'Europe/Astrakhan', 'Europe/Athens', 'Europe/Belfast', 'Europe/Belgrade', 'Europe/Berlin', 'Europe/Bratislava', 'Europe/Brussels', 'Europe/Bucharest', 'Europe/Budapest', 'Europe/Busingen', 'Europe/Chisinau', 'Europe/Copenhagen', 'Europe/Dublin', 'Europe/Gibraltar', 'Europe/Guernsey', 'Europe/Helsinki', 'Europe/Isle_of_Man', 'Europe/Istanbul', 'Europe/Jersey', 'Europe/Kaliningrad', 'Europe/Kiev', 'Europe/Kirov', 'Europe/Lisbon', 'Europe/Ljubljana', 'Europe/London', 'Europe/Luxembourg', 'Europe/Madrid', 'Europe/Malta', 'Europe/Mariehamn', 'Europe/Minsk', 'Europe/Monaco', 'Europe/Moscow', 'Europe/Nicosia', 'Europe/Oslo', 'Europe/Paris', 'Europe/Podgorica', 'Europe/Prague', 'Europe/Riga', 'Europe/Rome', 'Europe/Samara', 'Europe/San_Marino', 'Europe/Sarajevo', 'Europe/Saratov', 'Europe/Simferopol', 'Europe/Skopje', 'Europe/Sofia', 'Europe/Stockholm', 'Europe/Tallinn', 'Europe/Tirane', 'Europe/Tiraspol', 'Europe/Ulyanovsk', 'Europe/Uzhgorod', 'Europe/Vaduz', 'Europe/Vatican', 'Europe/Vienna', 'Europe/Vilnius', 'Europe/Volgograd', 'Europe/Warsaw', 'Europe/Zagreb', 'Europe/Zaporozhye', 'Europe/Zurich', 'GB', 'GB-Eire', 'GMT', 'GMT+0', 'GMT-0', 'GMT0', 'Greenwich', 'HST', 'Hongkong', 'Iceland', 'Indian/Antananarivo', 'Indian/Chagos', 'Indian/Christmas', 'Indian/Cocos', 'Indian/Comoro', 'Indian/Kerguelen', 'Indian/Mahe', 'Indian/Maldives', 'Indian/Mauritius', 'Indian/Mayotte', 'Indian/Reunion', 'Iran', 'Israel', 'Jamaica', 'Japan', 'Kwajalein', 'Libya', 'MET', 'MST', 'MST7MDT', 'Mexico/BajaNorte', 'Mexico/BajaSur', 'Mexico/General', 'NZ', 'NZ-CHAT', 'Navajo', 'PRC', 'PST8PDT', 'Pacific/Apia', 'Pacific/Auckland', 'Pacific/Bougainville', 'Pacific/Chatham', 'Pacific/Chuuk', 'Pacific/Easter', 'Pacific/Efate', 'Pacific/Enderbury', 'Pacific/Fakaofo', 'Pacific/Fiji', 'Pacific/Funafuti', 'Pacific/Galapagos', 'Pacific/Gambier', 'Pacific/Guadalcanal', 'Pacific/Guam', 'Pacific/Honolulu', 'Pacific/Johnston', 'Pacific/Kanton', 'Pacific/Kiritimati', 'Pacific/Kosrae', 'Pacific/Kwajalein', 'Pacific/Majuro', 'Pacific/Marquesas', 'Pacific/Midway', 'Pacific/Nauru', 'Pacific/Niue', 'Pacific/Norfolk', 'Pacific/Noumea', 'Pacific/Pago_Pago', 'Pacific/Palau', 'Pacific/Pitcairn', 'Pacific/Pohnpei', 'Pacific/Ponape', 'Pacific/Port_Moresby', 'Pacific/Rarotonga', 'Pacific/Saipan', 'Pacific/Samoa', 'Pacific/Tahiti', 'Pacific/Tarawa', 'Pacific/Tongatapu', 'Pacific/Truk', 'Pacific/Wake', 'Pacific/Wallis', 'Pacific/Yap', 'Poland', 'Portugal', 'ROC', 'ROK', 'Singapore', 'Turkey', 'UCT', 'US/Alaska', 'US/Aleutian', 'US/Arizona', 'US/Central', 'US/East-Indiana', 'US/Eastern', 'US/Hawaii', 'US/Indiana-Starke', 'US/Michigan', 'US/Mountain', 'US/Pacific', 'US/Samoa', 'UTC', 'Universal', 'W-SU', 'WET', 'Zulu']\n"
     ]
    }
   ],
   "source": [
    "########################################################################################################################\n",
    "#Pasando a otro huso horario\n",
    "########################################################################################################################\n",
    "\n",
    "import pytz # IMPORTO LA LIBRERIA PYTZ PARA PODER CAMBIAR DE HUSO HORARIO\n",
    "hoy = dt_dt.now() # CREO LA VARIABLE hoy CON LA FECHA ACTUAL EN FORMATO DATETIME\n",
    "hoy_berlin = hoy.astimezone(pytz.timezone('Europe/Berlin')) # CREO LA VARIABLE hoy_berlin CON LA FECHA ACTUAL EN FORMATO DATETIME EN EL HUSO HORARIO DE BERLIN\n",
    "print('La fecha y hora local es:', hoy) # IMPRIMO LA HORA ACTUAL EN FORMATO DATETIME\n",
    "print('La fecha y hora en Berlin es:', hoy_berlin) # IMPRIMO LA HORA ACTUAL EN FORMATO DATETIME EN EL HUSO HORARIO DE BERLIN\n",
    "#print('La diferencia de horas entre Berlin y local es:', hoy_berlin - hoy) !ERROR TypeError: can't subtract offset-naive and offset-aware datetimes\n",
    "print('Las timezones son:', pytz.all_timezones) # IMPRIMO TODAS LAS TIMEZONES"
   ]
  },
  {
   "cell_type": "code",
   "execution_count": 10,
   "metadata": {},
   "outputs": [
    {
     "name": "stdout",
     "output_type": "stream",
     "text": [
      "                               2021\n",
      "\n",
      "       enero                 febrero                 marzo\n",
      "lu ma mi ju vi sá do   lu ma mi ju vi sá do   lu ma mi ju vi sá do\n",
      "             1  2  3    1  2  3  4  5  6  7    1  2  3  4  5  6  7\n",
      " 4  5  6  7  8  9 10    8  9 10 11 12 13 14    8  9 10 11 12 13 14\n",
      "11 12 13 14 15 16 17   15 16 17 18 19 20 21   15 16 17 18 19 20 21\n",
      "18 19 20 21 22 23 24   22 23 24 25 26 27 28   22 23 24 25 26 27 28\n",
      "25 26 27 28 29 30 31                          29 30 31\n",
      "\n",
      "       abril                   mayo                  junio\n",
      "lu ma mi ju vi sá do   lu ma mi ju vi sá do   lu ma mi ju vi sá do\n",
      "          1  2  3  4                   1  2       1  2  3  4  5  6\n",
      " 5  6  7  8  9 10 11    3  4  5  6  7  8  9    7  8  9 10 11 12 13\n",
      "12 13 14 15 16 17 18   10 11 12 13 14 15 16   14 15 16 17 18 19 20\n",
      "19 20 21 22 23 24 25   17 18 19 20 21 22 23   21 22 23 24 25 26 27\n",
      "26 27 28 29 30         24 25 26 27 28 29 30   28 29 30\n",
      "                       31\n",
      "\n",
      "       julio                  agosto               septiembre\n",
      "lu ma mi ju vi sá do   lu ma mi ju vi sá do   lu ma mi ju vi sá do\n",
      "          1  2  3  4                      1          1  2  3  4  5\n",
      " 5  6  7  8  9 10 11    2  3  4  5  6  7  8    6  7  8  9 10 11 12\n",
      "12 13 14 15 16 17 18    9 10 11 12 13 14 15   13 14 15 16 17 18 19\n",
      "19 20 21 22 23 24 25   16 17 18 19 20 21 22   20 21 22 23 24 25 26\n",
      "26 27 28 29 30 31      23 24 25 26 27 28 29   27 28 29 30\n",
      "                       30 31\n",
      "\n",
      "      octubre               noviembre              diciembre\n",
      "lu ma mi ju vi sá do   lu ma mi ju vi sá do   lu ma mi ju vi sá do\n",
      "             1  2  3    1  2  3  4  5  6  7          1  2  3  4  5\n",
      " 4  5  6  7  8  9 10    8  9 10 11 12 13 14    6  7  8  9 10 11 12\n",
      "11 12 13 14 15 16 17   15 16 17 18 19 20 21   13 14 15 16 17 18 19\n",
      "18 19 20 21 22 23 24   22 23 24 25 26 27 28   20 21 22 23 24 25 26\n",
      "25 26 27 28 29 30 31   29 30                  27 28 29 30 31\n",
      "########################################################################################################################\n",
      "     marzo 2021\n",
      "lu ma mi ju vi sá do\n",
      " 1  2  3  4  5  6  7\n",
      " 8  9 10 11 12 13 14\n",
      "15 16 17 18 19 20 21\n",
      "22 23 24 25 26 27 28\n",
      "29 30 31\n",
      "########################################################################################################################\n",
      "False\n",
      "########################################################################################################################\n",
      "4\n",
      "########################################################################################################################\n",
      "0\n",
      "########################################################################################################################\n",
      "Monday\n",
      "lunes\n",
      "########################################################################################################################\n",
      "(0, 31)\n"
     ]
    }
   ],
   "source": [
    "\n",
    "########################################################################################################################\n",
    "#JUGANDO CON CALENDARIOS\n",
    "########################################################################################################################\n",
    "\n",
    "import calendar # IMPORTO LA LIBRERIA CALENDAR PARA PODER HACER CALCULOS CON LOS CALENDARIOS\n",
    "año = 2021 # CREO LA VARIABLE año CON EL AÑO QUE DESEO CALCULAR\n",
    "separacion_horiz = 1\n",
    "separacion_vert = 1\n",
    "calle = 3\n",
    "meses_por_fila = 3\n",
    "calendar.prcal(año, separacion_horiz, separacion_vert, calle, meses_por_fila) # IMPRIMO EL CALENDARIO DEL AÑO QUE DESEO CALCULAR\n",
    "print('########################################################################################################################')\n",
    "mes = 3\n",
    "calendar.prmonth(año, mes) # IMPRIMO EL CALENDARIO DEL MES QUE DESEO CALCULAR\n",
    "print('########################################################################################################################')\n",
    "print(calendar.isleap(año)) # IMPRIMO SI EL AÑO QUE DESEO CALCULAR ES BISIESTO\n",
    "print('########################################################################################################################')\n",
    "print(calendar.leapdays(2020, 2035)) # IMPRIMO LA CANTIDAD DE DIAS/AÑOS BISIESTOS ENTRE LOS AÑOS 2020 Y 2035\n",
    "print('########################################################################################################################')\n",
    "#IMPRIMO EL DIA DE LA SEMANA EN EL QUE CAERA UNA FECHA 0=lunes, 1=martes, 2=miercoles, 3=jueves, 4=viernes, 5=sabado, 6=domingo\n",
    "dia = calendar.weekday(2021, 3, 1) # IMPRIMO EL DIA DE LA SEMANA EN EL QUE CAERA EL 1 DE ENERO DEL AÑO QUE DESEO CALCULAR\n",
    "print(dia)\n",
    "print('########################################################################################################################')\n",
    "import locale\n",
    "locale.setlocale(locale.LC_TIME, 'en') # SETEO LA LOCALIZACION DE LA FECHA EN FORMATO LOCAL EN INGLES\n",
    "print(calendar.day_name[dia]) # IMPRIMO EL DIA DE LA SEMANA EN EL QUE CAERA EL 1 DE ENERO DEL AÑO 2021 EN FORMATO LOCAL EN INGLES\n",
    "\n",
    "locale.setlocale(locale.LC_TIME, 'es') # SETEO LA LOCALIZACION DE LA FECHA EN FORMATO LOCAL EN ESPAÑOL\n",
    "print(calendar.day_name[dia]) # IMPRIMO EL DIA DE LA SEMANA EN EL QUE CAERA EL 1 DE ENERO DEL AÑO 2021 EN FORMATO LOCAL EN ESPAÑOL\n",
    "print('########################################################################################################################')\n",
    "\n",
    "#Funcion Monthrange - devuelve el numero de dia (lunes=0...domingo=6) y el numero de dias del mes\n",
    "print(calendar.monthrange(2021, 3)) # IMPRIMO EL NUMERO DE DIA Y EL NUMERO DE DIAS DEL MES DE MARZO DE 2021"
   ]
  }
 ],
 "metadata": {
  "interpreter": {
   "hash": "369f2c481f4da34e4445cda3fffd2e751bd1c4d706f27375911949ba6bb62e1c"
  },
  "kernelspec": {
   "display_name": "Python 3.10.4 64-bit",
   "language": "python",
   "name": "python3"
  },
  "language_info": {
   "codemirror_mode": {
    "name": "ipython",
    "version": 3
   },
   "file_extension": ".py",
   "mimetype": "text/x-python",
   "name": "python",
   "nbconvert_exporter": "python",
   "pygments_lexer": "ipython3",
   "version": "3.10.4"
  },
  "orig_nbformat": 4
 },
 "nbformat": 4,
 "nbformat_minor": 2
}

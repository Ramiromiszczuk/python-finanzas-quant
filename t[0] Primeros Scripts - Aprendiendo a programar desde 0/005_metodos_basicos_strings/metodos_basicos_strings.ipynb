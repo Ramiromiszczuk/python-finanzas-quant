{
 "cells": [
  {
   "cell_type": "code",
   "execution_count": 1,
   "metadata": {},
   "outputs": [
    {
     "name": "stdout",
     "output_type": "stream",
     "text": [
      "Aapl\n",
      "AAPL\n"
     ]
    }
   ],
   "source": [
    "# 1\n",
    "string = \"aapl\"\n",
    "# string.capitalize()\n",
    "print(string.capitalize())  # 'Aapl'\n",
    "# string.upper()\n",
    "print(string.upper())  # 'AAPL'"
   ]
  },
  {
   "cell_type": "code",
   "execution_count": 2,
   "metadata": {},
   "outputs": [
    {
     "name": "stdout",
     "output_type": "stream",
     "text": [
      "El Dolar Va A Valer $211,11\n"
     ]
    }
   ],
   "source": [
    "# 2\n",
    "string = \"El dolar va a valer $211,11\"\n",
    "\n",
    "# string.title() # 'El Dolar Va A Valer $211,11'\n",
    "print(string.title())"
   ]
  },
  {
   "cell_type": "code",
   "execution_count": 3,
   "metadata": {},
   "outputs": [
    {
     "name": "stdout",
     "output_type": "stream",
     "text": [
      "23\n",
      "3\n",
      "El euro esta caro, el euro va a valer $211,11\n"
     ]
    }
   ],
   "source": [
    "# 3\n",
    "string = \"El dolar esta caro, el dolar va a valer $211,11\"\n",
    "\n",
    "# string.rfind(\"str_buscado\") => devuelve la ultima posicion donde aparece por primera vez el str_buscado en la variable string\n",
    "print(string.rfind(\"dolar\"))  # ['E', 'l', ' ', 'd', 'o', 'l', 'a', 'r']\n",
    "# string.find() => devuelve la ultima posicion donde aparece por primera vez el str_buscado en la variable string\n",
    "print(string.find(\"dolar\"))\n",
    "# string.replace(\"str_buscado\", \"str_reemplazo\") => reemplaza \"str_buscado\" por \"str_reemplazo\" en la variable string\n",
    "# 'El euro esta caro, el euro va a valer $211,11'\n",
    "print(string.replace(\"dolar\", \"euro\"))"
   ]
  },
  {
   "cell_type": "code",
   "execution_count": 4,
   "metadata": {},
   "outputs": [
    {
     "name": "stdout",
     "output_type": "stream",
     "text": [
      "001\n"
     ]
    }
   ],
   "source": [
    "# 4\n",
    "string = \"1\"\n",
    "\n",
    "# string.zfill(largo) => rellena con ceros a la izquierda hasta completar el largo pasado como argumento\n",
    "print(string.zfill(3))  # '001"
   ]
  },
  {
   "cell_type": "code",
   "execution_count": 5,
   "metadata": {},
   "outputs": [
    {
     "name": "stdout",
     "output_type": "stream",
     "text": [
      "2\n",
      "30\n",
      "False\n",
      "True\n",
      "True\n"
     ]
    }
   ],
   "source": [
    "# 5\n",
    "string = \"Dolares, dolares y mas dolares\"\n",
    "\n",
    "# string.count(\"string buscado\") => devuelve la cantidad de veces que aparece el string buscado en la variable string\n",
    "# '2' OJO! Es case sensitive, no es lo mismo 'Dolares' que 'dolares'\n",
    "print(string.count(\"dolares\"))\n",
    "\n",
    "# len(string) => cuenta la cantidad de caracteres de la variable string\n",
    "print(len(string))\n",
    "\n",
    "# string.isalnum() => devuelve true si todos los caracteres son alfanumericos\n",
    "# string.isalpha() => devuelve true si todos los caracteres son letras\n",
    "# string.isnum() => devuelve true si todos los caracteres son numeros\n",
    "string = \"123\"\n",
    "print(string.isalpha())  # FALSE\n",
    "print(string.isdigit())  # TRUE\n",
    "print(string.isalnum())  # TRUE\n"
   ]
  }
 ],
 "metadata": {
  "interpreter": {
   "hash": "369f2c481f4da34e4445cda3fffd2e751bd1c4d706f27375911949ba6bb62e1c"
  },
  "kernelspec": {
   "display_name": "Python 3.10.4 64-bit",
   "language": "python",
   "name": "python3"
  },
  "language_info": {
   "codemirror_mode": {
    "name": "ipython",
    "version": 3
   },
   "file_extension": ".py",
   "mimetype": "text/x-python",
   "name": "python",
   "nbconvert_exporter": "python",
   "pygments_lexer": "ipython3",
   "version": "3.10.4"
  },
  "orig_nbformat": 4
 },
 "nbformat": 4,
 "nbformat_minor": 2
}

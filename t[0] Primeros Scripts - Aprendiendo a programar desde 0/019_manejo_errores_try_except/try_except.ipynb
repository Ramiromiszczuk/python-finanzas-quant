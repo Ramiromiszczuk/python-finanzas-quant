{
 "cells": [
  {
   "cell_type": "code",
   "execution_count": 1,
   "metadata": {},
   "outputs": [],
   "source": [
    "# La sentencia Try/Except es una forma de manejar errores en Python.\n",
    "# Se usa para evitar que el script se corte inesperadamente por una cuenta\n",
    "# o una instruccion que da error porque el interprete no puede resolverla.\n",
    "# Recordemos que el flujo de informacion en un script es continuo y cualquier\n",
    "# error que el interprete no sepa resolver va a cortar ese flujo y va a impedir que el script\n",
    "# termine su rutina, por lo tanto, este metodo try/except nos va a permitir\n",
    "# 'intentar' una instruccion que sospechamos puede dar error, y si ocurre el error realizar la\n",
    "# instruccion que le pasamos en el 'except'\n",
    "# Es como advertirle al interprete, \"ojo que te mando esta instruccion dudosa, fijate primero si no es para quilombo\"\n",
    "# y ahi el interprete en lugar de seguir de una el flujo normal del script, lo que hace es ver si falla y si falla\n",
    "# se va por el otro lado (el del except)\n",
    "# Vamos a ver el ejemplo de la division por cero, hay veces que no sabemos si nos va a venir un dato vacio o no,\n",
    "# y ahi es util usar este metodo.\n"
   ]
  },
  {
   "cell_type": "code",
   "execution_count": 2,
   "metadata": {},
   "outputs": [
    {
     "name": "stdout",
     "output_type": "stream",
     "text": [
      "None\n",
      "None\n",
      "Por aca pasa siempre\n",
      "600.0\n"
     ]
    }
   ],
   "source": [
    "# 1° Ejemplo\n",
    "from typing import final\n",
    "\n",
    "\n",
    "volumen = 1200\n",
    "dias = 0\n",
    "\n",
    "try:\n",
    "    volMedio = volumen / dias\n",
    "except:\n",
    "    volMedio = None\n",
    "\n",
    "print(volMedio)  # None -> ya que dias = 0, no se puede dividir por cero\n",
    "\n",
    "# Otra manera\n",
    "volumen = 1200\n",
    "dias = 0\n",
    "volMedio = None\n",
    "\n",
    "try:\n",
    "    volMedio = volumen / dias\n",
    "except:\n",
    "    pass  # La instruccion pass lo que hace es seguir de largo\n",
    "\n",
    "print(volMedio)  # None -> ya que dias = 0, no se puede dividir por cero\n",
    "\n",
    "# Por ultimo, tambien existe la instruccion finally que lo que hace es ejecutarse independientemente de si salio por el try o por el except\n",
    "# Pasa siempre por el bloque finally, independientemente si haya habido un error o no.\n",
    "volumen = 1200\n",
    "dias = 2\n",
    "\n",
    "try:\n",
    "    volMedio = volumen / dias\n",
    "except:\n",
    "    volMedio = None\n",
    "finally:\n",
    "    print(\"Por aca pasa siempre\")\n",
    "\n",
    "print(volMedio)  # 1200/2 = 600\n",
    "\n",
    "# ¿Para que sirve el bloque finally, si podria haber puesto esas lineas al mismo nivel que el except al terminar ese bloque?\n",
    "# Es una cuestion mas bien de prolijidad, es exactamente lo mismo poner un bloque de instrucciones en el finally o ponerlo despues del bloque\n",
    "# except sin mas, pero queda mas prolijo y entendible cuando todo el bloque Try/Except/Finally tiene una logica asociada.\n"
   ]
  },
  {
   "cell_type": "code",
   "execution_count": 3,
   "metadata": {},
   "outputs": [
    {
     "name": "stdout",
     "output_type": "stream",
     "text": [
      "Por aca pasa siempre\n",
      "None\n"
     ]
    }
   ],
   "source": [
    "# Mismo ejemplo con dias = 0\n",
    "volumen = 1200\n",
    "dias = 0\n",
    "\n",
    "try:\n",
    "    volMedio = volumen / dias\n",
    "except:\n",
    "    volMedio = None\n",
    "finally:\n",
    "    print(\"Por aca pasa siempre\")\n",
    "print(volMedio)  # None -> ya que dias = 0, no se puede dividir por cero\n"
   ]
  }
 ],
 "metadata": {
  "interpreter": {
   "hash": "369f2c481f4da34e4445cda3fffd2e751bd1c4d706f27375911949ba6bb62e1c"
  },
  "kernelspec": {
   "display_name": "Python 3.10.4 64-bit",
   "language": "python",
   "name": "python3"
  },
  "language_info": {
   "codemirror_mode": {
    "name": "ipython",
    "version": 3
   },
   "file_extension": ".py",
   "mimetype": "text/x-python",
   "name": "python",
   "nbconvert_exporter": "python",
   "pygments_lexer": "ipython3",
   "version": "3.10.4"
  },
  "orig_nbformat": 4
 },
 "nbformat": 4,
 "nbformat_minor": 2
}

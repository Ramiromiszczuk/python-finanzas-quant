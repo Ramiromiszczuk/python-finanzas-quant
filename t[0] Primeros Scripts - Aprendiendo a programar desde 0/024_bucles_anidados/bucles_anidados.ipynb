{
 "cells": [
  {
   "cell_type": "code",
   "execution_count": 7,
   "metadata": {},
   "outputs": [
    {
     "name": "stdout",
     "output_type": "stream",
     "text": [
      "f1c1\n",
      "f1c2\n",
      "f1c3\n",
      "f2c1\n",
      "f2c2\n",
      "f2c3\n"
     ]
    }
   ],
   "source": [
    "# El ejemplo basico de dos ciclos anidados es cuando queremos recorrer una tabla\n",
    "# Filas y columnas, e imprimir por separado cada valor de la tabla\n",
    "# Con el primer ciclo FOR recorremos las filas, y adentro del bloque del ciclo FOR\n",
    "# entramos a otro ciclo FOR que recorra las columnas\n",
    "table = [[\"f1c1\", \"f1c2\", \"f1c3\"], [\"f2c1\", \"f2c2\", \"f2c3\"]]\n",
    "for row in table:\n",
    "    for column in row:\n",
    "        print(column)"
   ]
  },
  {
   "cell_type": "code",
   "execution_count": 8,
   "metadata": {},
   "outputs": [
    {
     "data": {
      "text/plain": [
       "{'AAPL': 1.54, 'AMZN': 1.1, 'FB': 4.4, 'TSLA': 1.13, 'KO': 0.76, 'NFLX': 0.9}"
      ]
     },
     "execution_count": 8,
     "metadata": {},
     "output_type": "execute_result"
    }
   ],
   "source": [
    "import csv\n",
    "data = csv.reader(open('balances.csv'), delimiter=\";\")\n",
    "balances = [fila for fila in data]\n",
    "\n",
    "empresas = [\"AAPL\", \"AMZN\", \"FB\", \"TSLA\", \"KO\", \"NFLX\"]\n",
    "screener = {}\n",
    "\n",
    "for empresa in empresas:\n",
    "    for balance in balances:\n",
    "        if balance[0] == empresa and balance[1] == \"anual\":\n",
    "            try:\n",
    "                screener[empresa] = round(int(balance[16])/int(balance[13]), 2)\n",
    "            except:\n",
    "                screener[empresa] = \"No se puede calcular\"\n",
    "            break\n",
    "        \n",
    "screener"
   ]
  },
  {
   "cell_type": "code",
   "execution_count": 9,
   "metadata": {},
   "outputs": [
    {
     "data": {
      "text/plain": [
       "{'AAPL': 1.54, 'AMZN': 1.1, 'FB': 4.4, 'KO': 0.76, 'NFLX': 0.9, 'TSLA': 1.13}"
      ]
     },
     "execution_count": 9,
     "metadata": {},
     "output_type": "execute_result"
    }
   ],
   "source": [
    "import csv\n",
    "data = csv.reader(open('balances.csv'), delimiter=\";\")\n",
    "balances = [fila for fila in data]\n",
    "\n",
    "empresas = [\"AAPL\", \"AMZN\", \"FB\", \"TSLA\", \"KO\", \"NFLX\"]\n",
    "calculado = {}\n",
    "\n",
    "for empresa in empresas:\n",
    "    calculado[empresa] = False\n",
    "    \n",
    "screener = {}    \n",
    "for balance in balances:\n",
    "    empresa = balance[0]\n",
    "    if empresa in empresas and balance[1] == \"anual\" and calculado[empresa] == False:\n",
    "        try:\n",
    "            screener[empresa] = round(int(balance[16])/int(balance[13]), 2)\n",
    "        except:\n",
    "            screener[empresa] = \"No se puede calcular\"\n",
    "        finally:\n",
    "            calculado[empresa] = True\n",
    "        \n",
    "screener"
   ]
  }
 ],
 "metadata": {
  "kernelspec": {
   "display_name": "Python 3.10.4 64-bit",
   "language": "python",
   "name": "python3"
  },
  "language_info": {
   "codemirror_mode": {
    "name": "ipython",
    "version": 3
   },
   "file_extension": ".py",
   "mimetype": "text/x-python",
   "name": "python",
   "nbconvert_exporter": "python",
   "pygments_lexer": "ipython3",
   "version": "3.10.4"
  },
  "orig_nbformat": 4,
  "vscode": {
   "interpreter": {
    "hash": "369f2c481f4da34e4445cda3fffd2e751bd1c4d706f27375911949ba6bb62e1c"
   }
  }
 },
 "nbformat": 4,
 "nbformat_minor": 2
}

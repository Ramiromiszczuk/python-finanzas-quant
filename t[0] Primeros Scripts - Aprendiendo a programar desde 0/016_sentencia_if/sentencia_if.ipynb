{
 "cells": [
  {
   "cell_type": "code",
   "execution_count": 1,
   "metadata": {},
   "outputs": [
    {
     "name": "stdout",
     "output_type": "stream",
     "text": [
      "La condicion es verdadera\n",
      "Esto se ejecuta\n",
      "Esto siempre se ejecuta\n"
     ]
    }
   ],
   "source": [
    "# La sentencia IF pregunta si se cumple o no una condición.\n",
    "# En caso de que la condicion preguntada sea TRUE, se ejecuta la linea que sigue despues de los DOS PUNTOS\n",
    "# En caso de que la condicion preguntada sea FALSE, si no hay else se termina, pero si hubiera un else, ejecuta la linea o lineas que siguen despues de los DOS PUNTOS del else\n",
    "\n",
    "# Estructura del IF\n",
    "# if(condicion):\n",
    "#    linea1\n",
    "#    linea2\n",
    "# else:\n",
    "#    linea1\n",
    "#    linea2\n",
    "\n",
    "# Ejemplo basico:\n",
    "if True:\n",
    "    print(\"La condicion es verdadera\")\n",
    "    print(\"Esto se ejecuta\")\n",
    "else:\n",
    "    print(\"La condicion es falsa\")\n",
    "    print(\"Esto no se ejecuta\")\n",
    "print(\"Esto siempre se ejecuta\")\n"
   ]
  },
  {
   "cell_type": "code",
   "execution_count": 2,
   "metadata": {},
   "outputs": [
    {
     "name": "stdout",
     "output_type": "stream",
     "text": [
      "La variable es falsa\n"
     ]
    }
   ],
   "source": [
    "# Evaluacion de True o False con distintos tipos de Variables\n",
    "variableNula = None  # Python evalua las variables nulas como Falsas\n",
    "if variableNula:\n",
    "    print(\"La variable es verdadera\")\n",
    "else:\n",
    "    print(\"La variable es falsa\")\n"
   ]
  },
  {
   "cell_type": "code",
   "execution_count": 3,
   "metadata": {},
   "outputs": [
    {
     "name": "stdout",
     "output_type": "stream",
     "text": [
      "La variable es falsa\n"
     ]
    }
   ],
   "source": [
    "variableCero = 0  # Python evalua las variables cero como Falsas\n",
    "if variableCero:\n",
    "    print(\"La variable es verdadera\")\n",
    "else:\n",
    "    print(\"La variable es falsa\")\n"
   ]
  },
  {
   "cell_type": "code",
   "execution_count": 4,
   "metadata": {},
   "outputs": [
    {
     "name": "stdout",
     "output_type": "stream",
     "text": [
      "La variable es verdadera\n"
     ]
    }
   ],
   "source": [
    "# Otro tipo de comparaciones\n",
    "# 1\n",
    "COME = 3\n",
    "if COME < 4:\n",
    "    print(\"La variable es verdadera\")\n",
    "else:\n",
    "    print(\"La variable es falsa\")\n"
   ]
  },
  {
   "cell_type": "code",
   "execution_count": 5,
   "metadata": {},
   "outputs": [
    {
     "name": "stdout",
     "output_type": "stream",
     "text": [
      "Sigo adentro\n"
     ]
    }
   ],
   "source": [
    "# 2\n",
    "GGAL = 12\n",
    "stopLoss = 11\n",
    "if GGAL < stopLoss:\n",
    "    print(\"Vender ya\")\n",
    "else:\n",
    "    print(\"Sigo adentro\")\n"
   ]
  },
  {
   "cell_type": "code",
   "execution_count": 6,
   "metadata": {},
   "outputs": [
    {
     "name": "stdout",
     "output_type": "stream",
     "text": [
      "Sigo adentro\n"
     ]
    }
   ],
   "source": [
    "# 3 - Es muy comun simplificar preguntando la condicion antes, por ejemplo:\n",
    "GGAL = 12\n",
    "stopLoss = GGAL < 11\n",
    "if stopLoss:\n",
    "    print(\"Vender ya\")\n",
    "else:\n",
    "    print(\"Sigo adentro\")\n",
    "# La ventaja de esto es, por ejemplo, si tengo en vez de un stopLoss fijo, un trailing stopLoss, en ese caso, tendria que meter toda la logica dentro de la pregunta del IF\n",
    "# Mientras mas compleja sea la logica, mas complicaria la lectura, es mas sencillo definir aparte la variable stopLoss a la cual incluso,\n",
    "# como mas adelante veremos se le puede asignar la salida de una funcion y en el IF solo preguntar si se activo o no.\n",
    "# Tambien tiene una ventaja en performance, en general, vamos a ver muchos ifs dentro de bucles o ciclos, si cada vez que evaluamos tenemos que preguntar si es verdadero o falso,\n",
    "# estamos perdiendo milisegundos que pueden ser importantes en el agregado,\n",
    "# asi que siempre es buena practica definir la evaluacion antes de una variable booleana y preguntar simplemente por esa variable.\n",
    "# SIEMPRE busquemos la forma de definir las comparaciones antes y llegar al if con true o false.\n"
   ]
  },
  {
   "cell_type": "code",
   "execution_count": 7,
   "metadata": {},
   "outputs": [
    {
     "name": "stdout",
     "output_type": "stream",
     "text": [
      "No es GGAL\n",
      "YPF No esta en la cartera\n",
      "Ojo que GGAL No esta en la cartera\n"
     ]
    }
   ],
   "source": [
    "# Otros operadores utiles\n",
    "# Operador is not - \"no es\"\n",
    "accion = \"GGAL\"\n",
    "if accion is not GGAL:\n",
    "    print(\"No es GGAL\")\n",
    "else:\n",
    "    print(\"Es GGAL\")\n",
    "\n",
    "# Operador in - \"esta en\" (sirve para saber si un valor esta o no dentro de una lista)\n",
    "accion = \"YPF\"\n",
    "cartera = [\"APPL\", \"AMZN\", \"FB\"]\n",
    "if accion in cartera:\n",
    "    print(f\"{accion} Esta en la cartera\")\n",
    "else:\n",
    "    print(f\"{accion} No esta en la cartera\")\n",
    "# YPF NO esta en la cartera\n",
    "\n",
    "# Operador not - \"no\"\n",
    "accion = \"GGAL\"\n",
    "cartera = [\"APPL\", \"AMZN\", \"FB\"]\n",
    "if accion not in cartera:\n",
    "    print(f\"Ojo que {accion} No esta en la cartera\")\n",
    "else:\n",
    "    pass\n",
    "# Ojo que GGAL No esta en la cartera\n",
    "\n",
    "# La ventaja de usar este tipo de operadores es la claridad del codigo que se entiende por si solo.\n"
   ]
  }
 ],
 "metadata": {
  "interpreter": {
   "hash": "369f2c481f4da34e4445cda3fffd2e751bd1c4d706f27375911949ba6bb62e1c"
  },
  "kernelspec": {
   "display_name": "Python 3.10.4 64-bit",
   "language": "python",
   "name": "python3"
  },
  "language_info": {
   "codemirror_mode": {
    "name": "ipython",
    "version": 3
   },
   "file_extension": ".py",
   "mimetype": "text/x-python",
   "name": "python",
   "nbconvert_exporter": "python",
   "pygments_lexer": "ipython3",
   "version": "3.10.4"
  },
  "orig_nbformat": 4
 },
 "nbformat": 4,
 "nbformat_minor": 2
}

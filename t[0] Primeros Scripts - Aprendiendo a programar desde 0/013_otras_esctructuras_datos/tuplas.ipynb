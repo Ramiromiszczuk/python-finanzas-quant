{
 "cells": [
  {
   "cell_type": "code",
   "execution_count": null,
   "metadata": {},
   "outputs": [],
   "source": [
    "########################################################################################################################\n",
    "#TUPLAS\n",
    "########################################################################################################################\n",
    "# Las tuplas son una estructura similar a las listas, pero son inmutables, es decir, una vez que las definimos, ya no les podemos cambiar valores.\n",
    "# Son un conjunto de datos y se lo define entre parentesis con sus elementos separados con coma.\n",
    "#Ejemplo:\n",
    "#tupla = (1,2,3,4,5)\n",
    "\n",
    "listado_tupla = ('GGAL', 'PAMP', 'YPFD', 'CEPU', 'EDN', 'LOMA', 'CRES')\n",
    "print(type(listado_tupla)) # <class 'tuple'>\n",
    "print(listado_tupla[1]) # PAMP\n",
    "\n",
    "#Vamos a provocar el error de querer asignar un nuevo valor a un elemento de una tupla.\n",
    "#listado_tupla_1[1] = 'COME' # TypeError: 'tuple' object does not support item assignment\n",
    "\n",
    "# ¿Que pasa si tengo una tupla y le quiero cambiar un valor? Uso los metodos para pasar de tupla a lista list() y viceversa tuple()\n",
    "listado_tupla_2 = ('GGAL', 'PAMP', 'YPFD', 'CEPU', 'EDN', 'LOMA', 'CRES')\n",
    "print(type(listado_tupla_2)) # <class 'tuple'>\n",
    "listado = list(listado_tupla_2)\n",
    "print(type(listado)) # <class 'list'>\n",
    "listado = tuple(listado)\n",
    "print(type(listado)) # <class 'tuple'>"
   ]
  },
  {
   "cell_type": "code",
   "execution_count": null,
   "metadata": {},
   "outputs": [],
   "source": [
    "\n",
    "########################################################################################################################\n",
    "#Metodos de tuplas y listas\n",
    "########################################################################################################################\n",
    "\n",
    "#Min y Max: Devuelve el valor mas pequeño y el mas grande de una tupla o lista\n",
    "cantidades = (4, 2, 5, 6, 8, 10, 3, 5, 7, 4, 2, 6)\n",
    "print(min(cantidades)) # 2\n",
    "print(max(cantidades)) # 10\n",
    "\n",
    "#Index (donde aparece) y count (cuantas veces aparece) de un elemento en una tupla o lista\n",
    "cantidades = (4, 2, 5, 6, 8, 10, 3, 5, 7, 4, 2, 6)\n",
    "print(cantidades.count(4)) # 2 (cuantas veces aparece el valor 4)\n",
    "print(cantidades.index(6)) # 3 (donde aparece el valor 6)\n",
    "\n",
    "# Sum: suma todos los elementos de una lista o tupla\n",
    "cantidades = (4, 2, 5, 6, 8, 10, 3, 5, 7, 4, 2, 6)\n",
    "print(sum(cantidades)) # 60\n",
    "\n",
    "# Sorted: Ordena los elementos de una lista o tupla\n",
    "cantidades_tupla = (4, 2, 5, 6, 8, 10, 3, 5, 7, 4, 2, 6)\n",
    "cantidades_lista = [4, 2, 5, 6, 8, 10, 3, 5, 7, 4, 2, 6]\n",
    "print(sorted(cantidades_tupla)) # [2, 3, 4, 4, 5, 5, 6, 6, 7, 8, 10] devuelve una lista ordenada a partir de la tupla\n",
    "print(sorted(cantidades_lista)) # [2, 3, 4, 4, 5, 5, 6, 6, 7, 8, 10] devuelve una lista ordenada a partir de una lista"
   ]
  }
 ],
 "metadata": {
  "language_info": {
   "name": "python"
  },
  "orig_nbformat": 4
 },
 "nbformat": 4,
 "nbformat_minor": 2
}

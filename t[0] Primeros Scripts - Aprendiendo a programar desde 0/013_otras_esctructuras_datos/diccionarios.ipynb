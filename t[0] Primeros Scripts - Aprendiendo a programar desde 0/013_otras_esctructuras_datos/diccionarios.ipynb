{
 "cells": [
  {
   "cell_type": "code",
   "execution_count": 1,
   "metadata": {},
   "outputs": [
    {
     "name": "stdout",
     "output_type": "stream",
     "text": [
      "Juan\n",
      "Perez\n",
      "29.35\n",
      "29.35\n",
      "None\n",
      "No existe la clave\n",
      "dict_keys(['nombre', 'apellido', 'edad'])\n",
      "dict_values(['Juan', 'Perez', 23])\n",
      "['Juan', 'Perez', 23]\n",
      "dict_items([('nombre', 'Juan'), ('apellido', 'Perez'), ('edad', 23)])\n",
      "23\n",
      "{'nombre': 'Juan', 'apellido': 'Perez'}\n",
      "{'nombre': 'Pedro', 'apellido': 'Perez', 'edad': 24}\n",
      "{'nombre': 'Pedro', 'apellido': 'Perez', 'edad': 24}\n",
      "{'nombre': 'Pedro', 'apellido': 'Perez', 'edad': 24}\n",
      "{'nombre': 'Juan', 'apellido': 'Perez', 'edad': 23, 'ciudad': 'Cordoba'}\n"
     ]
    }
   ],
   "source": [
    "\n",
    "########################################################################################################################\n",
    "# Diccionarios\n",
    "########################################################################################################################\n",
    "# Un diccionario es una coleccion de datos que se almacenan en forma de clave-valor\n",
    "# EjempLo:\n",
    "diccionario = {'nombre': 'Juan', 'apellido': 'Perez', 'edad': 23}\n",
    "diccionario_acciones = {'ALUA': 29.35,\n",
    "                        'BBAR': 120.85, 'BMA': 265.2, 'BYMA': 295}\n",
    "type(diccionario)  # <class 'dict'>\n",
    "type(diccionario_acciones)  # <class 'dict'>\n",
    "\n",
    "print(diccionario['nombre'])  # Juan\n",
    "print(diccionario['apellido'])  # Perez\n",
    "print(diccionario_acciones['ALUA'])  # 29.35\n",
    "# print(diccionario_acciones['BITCOIN']) # Si no existe la clave, devuelve un error\n",
    "print(diccionario_acciones.get('ALUA'))  # 29.35\n",
    "# Si no existe la clave, devuelve None (no existe)\n",
    "print(diccionario_acciones.get('BITCOIN'))\n",
    "# Si no existe la clave, devuelve el valor que se le pasa como segundo parametro\n",
    "print(diccionario_acciones.get('BITCOIN', 'No existe la clave'))\n",
    "\n",
    "# Acceder por separado a las Claves y los Valores\n",
    "# dict_keys(['nombre', 'apellido', 'edad']) - Devuelve una lista con las claves\n",
    "print(diccionario.keys())\n",
    "# dict_values(['Juan', 'Perez', 23]) - Devuelve una lista con los valores\n",
    "print(diccionario.values())\n",
    "\n",
    "# Si queremos tener los valores como una lista, podemos hacerlo de la siguiente manera:\n",
    "print(list(diccionario.values()))  # ['Juan', 'Perez', 23]\n",
    "\n",
    "# Accedemos a los pares clave-valor\n",
    "# dict_items([('nombre', 'Juan'), ('apellido', 'Perez'), ('edad', 23)]) - Devuelve una lista con los pares clave-valor\n",
    "print(diccionario.items())\n",
    "\n",
    "# Pop - Elimina un elemento del diccionario y devuelve el valor eliminado\n",
    "print(diccionario.pop('edad'))  # 23\n",
    "print(diccionario)  # {'nombre': 'Juan', 'apellido': 'Perez'}\n",
    "\n",
    "# Update - Actualiza los valores de un diccionario\n",
    "diccionario = {'nombre': 'Juan', 'apellido': 'Perez', 'edad': 23}\n",
    "diccionario.update({'nombre': 'Pedro', 'edad': 24})\n",
    "print(diccionario)  # {'nombre': 'Pedro', 'apellido': 'Perez', 'edad': 24}\n",
    "# otra forma\n",
    "diccionario = {'nombre': 'Juan', 'apellido': 'Perez', 'edad': 23}\n",
    "diccionario.update(nombre='Pedro', edad=24)\n",
    "print(diccionario)  # {'nombre': 'Pedro', 'apellido': 'Perez', 'edad': 24}\n",
    "# otra forma\n",
    "diccionario_1 = {'nombre': 'Juan', 'apellido': 'Perez', 'edad': 23}\n",
    "diccionario_2 = {'nombre': 'Pedro', 'edad': 24}\n",
    "diccionario_1.update(diccionario_2)\n",
    "print(diccionario_1)  # {'nombre': 'Pedro', 'apellido': 'Perez', 'edad': 24}\n",
    "\n",
    "# Insertar nuevo elemento en un diccionario\n",
    "dic1 = {'nombre': 'Juan', 'apellido': 'Perez', 'edad': 23}\n",
    "dic1['ciudad'] = 'Cordoba'\n",
    "# {'nombre': 'Juan', 'apellido': 'Perez', 'edad': 23, 'ciudad': 'Cordoba'}\n",
    "print(dic1)\n"
   ]
  }
 ],
 "metadata": {
  "interpreter": {
   "hash": "369f2c481f4da34e4445cda3fffd2e751bd1c4d706f27375911949ba6bb62e1c"
  },
  "kernelspec": {
   "display_name": "Python 3.10.4 64-bit",
   "language": "python",
   "name": "python3"
  },
  "language_info": {
   "codemirror_mode": {
    "name": "ipython",
    "version": 3
   },
   "file_extension": ".py",
   "mimetype": "text/x-python",
   "name": "python",
   "nbconvert_exporter": "python",
   "pygments_lexer": "ipython3",
   "version": "3.10.4"
  },
  "orig_nbformat": 4
 },
 "nbformat": 4,
 "nbformat_minor": 2
}

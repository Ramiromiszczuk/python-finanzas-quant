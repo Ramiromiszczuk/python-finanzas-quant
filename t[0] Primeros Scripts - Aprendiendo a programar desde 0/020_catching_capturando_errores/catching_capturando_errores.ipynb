{
 "cells": [
  {
   "cell_type": "code",
   "execution_count": 1,
   "metadata": {},
   "outputs": [
    {
     "name": "stdout",
     "output_type": "stream",
     "text": [
      "Error detectado:  division by zero\n",
      "El volumen medio es:  600.0\n"
     ]
    }
   ],
   "source": [
    "# Ademas de salir por el except evitando el corte del script por un error,\n",
    "# tambien podemos 'capturar' el error que salta en el try\n",
    "# Para ello debemos importar la libreria sys\n",
    "# En el bloque except capturamos el error usando el metodo exc_info() de la liberia sys\n",
    "\n",
    "import sys\n",
    "\n",
    "volumen = 1200\n",
    "dias = 0\n",
    "\n",
    "try:\n",
    "    volMedio = volumen / dias\n",
    "except:\n",
    "    error = sys.exc_info()[1]\n",
    "    print(\"Error detectado: \", error)\n"
   ]
  },
  {
   "cell_type": "code",
   "execution_count": null,
   "metadata": {},
   "outputs": [],
   "source": [
    "# Segundo ejemplo sin error\n",
    "\n",
    "volumen = 1200\n",
    "dias = 2\n",
    "try:\n",
    "    volMedio = volumen / dias\n",
    "    print(\"El volumen medio es: \", volMedio)\n",
    "except:\n",
    "    error = sys.exc_info()[1]\n",
    "    print(\"Error detectado: \", error)\n"
   ]
  }
 ],
 "metadata": {
  "interpreter": {
   "hash": "369f2c481f4da34e4445cda3fffd2e751bd1c4d706f27375911949ba6bb62e1c"
  },
  "kernelspec": {
   "display_name": "Python 3.10.4 64-bit",
   "language": "python",
   "name": "python3"
  },
  "language_info": {
   "codemirror_mode": {
    "name": "ipython",
    "version": 3
   },
   "file_extension": ".py",
   "mimetype": "text/x-python",
   "name": "python",
   "nbconvert_exporter": "python",
   "pygments_lexer": "ipython3",
   "version": "3.10.4"
  },
  "orig_nbformat": 4
 },
 "nbformat": 4,
 "nbformat_minor": 2
}

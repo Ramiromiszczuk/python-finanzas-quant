{
 "cells": [
  {
   "cell_type": "code",
   "execution_count": 1,
   "metadata": {},
   "outputs": [],
   "source": [
    "# EJERCICIO 1\n",
    "# Dada la siguiente lista:\n",
    "# listado = [1, 2, 3, 4, 5, 6, 7, 8, 9, 10, 11, 12]\n",
    "# 1 - Los numeros pares\n",
    "# 2 - Los valores del 4 hasta el final de la lista\n",
    "# 3 - Los valores del 5 hasta el 10\n",
    "# 4 - Los valores menores a 10 que sean pares\n",
    "# 5 - Los multiplos de 3 ordenados al reves\n",
    "# 6 - El promedio de todos los numeros (usando las funciones sum y len)\n",
    "\n",
    "import random\n",
    "\n",
    "listado = [1, 2, 3, 4, 5, 6, 7, 8, 9, 10, 11, 12]\n"
   ]
  },
  {
   "cell_type": "code",
   "execution_count": 2,
   "metadata": {},
   "outputs": [
    {
     "name": "stdout",
     "output_type": "stream",
     "text": [
      "[2, 4, 6, 8, 10, 12]\n"
     ]
    }
   ],
   "source": [
    "# 1 - Los numeros pares\n",
    "print(listado[1::2])\n"
   ]
  },
  {
   "cell_type": "code",
   "execution_count": 3,
   "metadata": {},
   "outputs": [
    {
     "name": "stdout",
     "output_type": "stream",
     "text": [
      "[4, 5, 6, 7, 8, 9, 10, 11, 12]\n"
     ]
    }
   ],
   "source": [
    "# 2 - Los valores del 4 hasta el final de la lista\n",
    "print(listado[3:])\n"
   ]
  },
  {
   "cell_type": "code",
   "execution_count": 4,
   "metadata": {},
   "outputs": [
    {
     "name": "stdout",
     "output_type": "stream",
     "text": [
      "[5, 6, 7, 8, 9, 10]\n"
     ]
    }
   ],
   "source": [
    "# 3 - Los valores del 5 hasta el 10\n",
    "print(listado[4:10])\n"
   ]
  },
  {
   "cell_type": "code",
   "execution_count": 5,
   "metadata": {},
   "outputs": [
    {
     "name": "stdout",
     "output_type": "stream",
     "text": [
      "[2, 4, 6, 8]\n"
     ]
    }
   ],
   "source": [
    "# 4 - Los valores menores a 10 que sean pares\n",
    "print(listado[1:-3:2])\n"
   ]
  },
  {
   "cell_type": "code",
   "execution_count": 6,
   "metadata": {},
   "outputs": [
    {
     "name": "stdout",
     "output_type": "stream",
     "text": [
      "[12, 9, 6, 3]\n"
     ]
    }
   ],
   "source": [
    "# 5 - Los multiplos de 3 ordenados al reves\n",
    "print(listado[-1::-3])\n"
   ]
  },
  {
   "cell_type": "code",
   "execution_count": 7,
   "metadata": {},
   "outputs": [
    {
     "name": "stdout",
     "output_type": "stream",
     "text": [
      "6.5\n"
     ]
    }
   ],
   "source": [
    "# 6 - El promedio de todos los numeros (usando las funciones sum y len)\n",
    "print(sum(listado) / len(listado))\n"
   ]
  },
  {
   "cell_type": "code",
   "execution_count": 8,
   "metadata": {},
   "outputs": [],
   "source": [
    "# Dadas las siguientes listas:\n",
    "# lideres = ['GGAL', 'PAMP', 'YPFD', 'TECO2', 'EDN', 'LOMA', 'BBAR']\n",
    "# galpones = ['AGRO', 'FIPL', 'MIRG', 'GARO', 'LONG']\n",
    "# 7 - Elegir un galpon al azar y agregarlo a la lista de lideres al final\n",
    "# 8 - Elegir un galpon al azar y reemplazar a EDN por ese galpon\n",
    "# 9 - Elegir 3 galpones al azar y reemplazar una lider cualquiera por esos dos galpones\n"
   ]
  },
  {
   "cell_type": "code",
   "execution_count": 9,
   "metadata": {},
   "outputs": [
    {
     "name": "stdout",
     "output_type": "stream",
     "text": [
      "['GGAL', 'PAMP', 'YPFD', 'TECO2', 'EDN', 'LOMA', 'BBAR', 'AGRO']\n"
     ]
    }
   ],
   "source": [
    "# 7 - Elegir un galpon al azar y agregarlo a la lista de lideres al final\n",
    "lideres = [\"GGAL\", \"PAMP\", \"YPFD\", \"TECO2\", \"EDN\", \"LOMA\", \"BBAR\"]\n",
    "galpones = [\"AGRO\", \"FIPL\", \"MIRG\", \"GARO\", \"LONG\"]\n",
    "lideres.append(galpones.pop(random.randint(0, len(galpones) - 1)))\n",
    "print(lideres)\n"
   ]
  },
  {
   "cell_type": "code",
   "execution_count": 10,
   "metadata": {},
   "outputs": [],
   "source": [
    "# 8 - Elegir un galpon al azar y reemplazar a EDN por ese galpon\n",
    "lideres = [\"GGAL\", \"PAMP\", \"YPFD\", \"TECO2\", \"EDN\", \"LOMA\", \"BBAR\"]\n",
    "galpones = [\"AGRO\", \"FIPL\", \"MIRG\", \"GARO\", \"LONG\"]\n",
    "galpones.pop(random.randint(0, len(galpones) - 1))  # Selecciono un galpon al azar\n",
    "lideres[lideres.index(\"EDN\")] = galpones.pop(\n",
    "    random.randint(0, len(galpones) - 1)\n",
    ")  # Reemplazo a EDN por el galpon seleccionado\n"
   ]
  },
  {
   "cell_type": "code",
   "execution_count": 11,
   "metadata": {},
   "outputs": [],
   "source": [
    "# 9 - Elegir 3 galpones al azar y reemplazar una lider cualquiera por esos dos galpones\n",
    "# Elegir 3 galpones al azar\n",
    "lideres = [\"GGAL\", \"PAMP\", \"YPFD\", \"TECO2\", \"EDN\", \"LOMA\", \"BBAR\"]\n",
    "galpones = [\"AGRO\", \"FIPL\", \"MIRG\", \"GARO\", \"LONG\"]\n",
    "galpones_elegidos = random.sample(galpones, 3)\n",
    "indice = random.randint(0, len(lideres) - 1)\n",
    "lideres[indice] = galpones_elegidos.pop(random.randint(0, len(galpones_elegidos) - 1))\n"
   ]
  },
  {
   "cell_type": "code",
   "execution_count": 12,
   "metadata": {},
   "outputs": [],
   "source": [
    "# EJERCICIO 2\n",
    "# Dado el siguiente diccionario:\n",
    "# panel = {'ALUA': 29.3, 'BBAR': 120.5, 'BMA': 265.2, 'BYMA': 290, 'CEPU': 29, 'COME': 3, 'CRES': 40.7}\n",
    "# 10 - Reemplazar el precio de BBAR por un precio al azar que elija python que varie +/- $1 del precio que tiene (con precision de 0.01)\n",
    "# 11 - Reemplazar el precio de BBAR por un precio al azar que elija python que varie +/- 3% del precio que tiene (con precision de 0.01)\n",
    "# 12 - Elegir un ticker al azar y mostrarlo\n",
    "# 13 - Re-ordenar el diccionario al azar\n",
    "# 14 - Re-ordenar el diccionario alfabeticamente en forma inversa (de la Z a la A)\n",
    "\n",
    "panel = {\n",
    "    \"ALUA\": 29.3,\n",
    "    \"BBAR\": 120.5,\n",
    "    \"BMA\": 265.2,\n",
    "    \"BYMA\": 290,\n",
    "    \"CEPU\": 29,\n",
    "    \"COME\": 3,\n",
    "    \"CRES\": 40.7,\n",
    "}\n"
   ]
  },
  {
   "cell_type": "code",
   "execution_count": 13,
   "metadata": {},
   "outputs": [
    {
     "name": "stdout",
     "output_type": "stream",
     "text": [
      "{'ALUA': 29.3, 'BBAR': 120.75, 'BMA': 265.2, 'BYMA': 290, 'CEPU': 29, 'COME': 3, 'CRES': 40.7}\n"
     ]
    }
   ],
   "source": [
    "# 10 - Reemplazar el precio de BBAR por un precio al azar que elija python que varie +/- $1 del precio que tiene (con precision de 0.01)\n",
    "panel = {\n",
    "    \"ALUA\": 29.3,\n",
    "    \"BBAR\": 120.5,\n",
    "    \"BMA\": 265.2,\n",
    "    \"BYMA\": 290,\n",
    "    \"CEPU\": 29,\n",
    "    \"COME\": 3,\n",
    "    \"CRES\": 40.7,\n",
    "}\n",
    "panel[\"BBAR\"] = round(panel[\"BBAR\"] + random.uniform(-1, 1), 2)\n",
    "print(panel)\n"
   ]
  },
  {
   "cell_type": "code",
   "execution_count": 14,
   "metadata": {},
   "outputs": [],
   "source": [
    "# 11 - Reemplazard el precio de BBAR por un precio al azar que elija python que varie +/- 3% del precio que tiene (con precision de 0.01)\n",
    "panel = {\n",
    "    \"ALUA\": 29.3,\n",
    "    \"BBAR\": 120.5,\n",
    "    \"BMA\": 265.2,\n",
    "    \"BYMA\": 290,\n",
    "    \"CEPU\": 29,\n",
    "    \"COME\": 3,\n",
    "    \"CRES\": 40.7,\n",
    "}\n",
    "panel[\"BBAR\"] = round(panel[\"BBAR\"] * (1 + random.uniform(-0.03, 0.03)), 2)\n"
   ]
  },
  {
   "cell_type": "code",
   "execution_count": 15,
   "metadata": {},
   "outputs": [
    {
     "name": "stdout",
     "output_type": "stream",
     "text": [
      "BBAR\n"
     ]
    }
   ],
   "source": [
    "# 12 - Elegir un ticker al azar y mostrarlo\n",
    "panel = {\n",
    "    \"ALUA\": 29.3,\n",
    "    \"BBAR\": 120.5,\n",
    "    \"BMA\": 265.2,\n",
    "    \"BYMA\": 290,\n",
    "    \"CEPU\": 29,\n",
    "    \"COME\": 3,\n",
    "    \"CRES\": 40.7,\n",
    "}\n",
    "print(random.choice(list(panel.keys())))\n"
   ]
  },
  {
   "cell_type": "code",
   "execution_count": 16,
   "metadata": {},
   "outputs": [
    {
     "name": "stdout",
     "output_type": "stream",
     "text": [
      "['BMA', 'BBAR', 'CEPU', 'ALUA', 'CRES', 'BYMA', 'COME']\n"
     ]
    }
   ],
   "source": [
    "# 13 - Re-ordenar el diccionario al azar\n",
    "panel = {\n",
    "    \"ALUA\": 29.3,\n",
    "    \"BBAR\": 120.5,\n",
    "    \"BMA\": 265.2,\n",
    "    \"BYMA\": 290,\n",
    "    \"CEPU\": 29,\n",
    "    \"COME\": 3,\n",
    "    \"CRES\": 40.7,\n",
    "}\n",
    "print(random.sample(list(panel.keys()), len(panel.keys())))\n"
   ]
  },
  {
   "cell_type": "code",
   "execution_count": 17,
   "metadata": {},
   "outputs": [
    {
     "name": "stdout",
     "output_type": "stream",
     "text": [
      "[('CRES', 40.7), ('BBAR', 120.5), ('CEPU', 29), ('ALUA', 29.3), ('BYMA', 290), ('BMA', 265.2), ('COME', 3)]\n"
     ]
    }
   ],
   "source": [
    "# 14 - Re-ordenar el diccionario alfabeticamente en forma inversa (de la Z a la A)\n",
    "# Reorder dictionary and reverse it\n",
    "panel = {\n",
    "    \"ALUA\": 29.3,\n",
    "    \"BBAR\": 120.5,\n",
    "    \"BMA\": 265.2,\n",
    "    \"BYMA\": 290,\n",
    "    \"CEPU\": 29,\n",
    "    \"COME\": 3,\n",
    "    \"CRES\": 40.7,\n",
    "}\n",
    "\n",
    "keys = list(panel.keys())\n",
    "random.shuffle(keys)\n",
    "panel_reordenado = [(key, panel[key]) for key in keys]\n",
    "dict(panel_reordenado)\n",
    "print(panel_reordenado)\n"
   ]
  }
 ],
 "metadata": {
  "interpreter": {
   "hash": "369f2c481f4da34e4445cda3fffd2e751bd1c4d706f27375911949ba6bb62e1c"
  },
  "kernelspec": {
   "display_name": "Python 3.10.4 64-bit",
   "language": "python",
   "name": "python3"
  },
  "language_info": {
   "codemirror_mode": {
    "name": "ipython",
    "version": 3
   },
   "file_extension": ".py",
   "mimetype": "text/x-python",
   "name": "python",
   "nbconvert_exporter": "python",
   "pygments_lexer": "ipython3",
   "version": "3.10.4"
  },
  "orig_nbformat": 4
 },
 "nbformat": 4,
 "nbformat_minor": 2
}

{
 "cells": [
  {
   "cell_type": "code",
   "execution_count": 1,
   "metadata": {},
   "outputs": [],
   "source": [
    "import math"
   ]
  },
  {
   "cell_type": "code",
   "execution_count": 2,
   "metadata": {},
   "outputs": [
    {
     "name": "stdout",
     "output_type": "stream",
     "text": [
      "3.141592653589793\n",
      "2.718281828459045\n"
     ]
    }
   ],
   "source": [
    "# CONSTANTES\n",
    "# NUMERO PI\n",
    "print(math.pi)\n",
    "# NUMERO E\n",
    "e = math.e\n",
    "print(e)"
   ]
  },
  {
   "cell_type": "code",
   "execution_count": 3,
   "metadata": {},
   "outputs": [
    {
     "name": "stdout",
     "output_type": "stream",
     "text": [
      "5\n",
      "6\n",
      "-5\n",
      "5.765\n"
     ]
    }
   ],
   "source": [
    "# REDONDEO Y TRUNCADO\n",
    "# ENTERO INMEDIATO INFERIOR\n",
    "print(math.floor(5.44))  # 5\n",
    "# ENTERO INMEDIATO SUPERIOR\n",
    "print(math.ceil(5.44))  # 6\n",
    "# ENTERO\n",
    "print(math.trunc(-5.34))  # -5\n",
    "# REDONDEAR POR CANTIDAD DE DECIMALES\n",
    "print(round(5.76543, 3))  # 5.765"
   ]
  },
  {
   "cell_type": "code",
   "execution_count": 4,
   "metadata": {},
   "outputs": [
    {
     "name": "stdout",
     "output_type": "stream",
     "text": [
      "2.0\n",
      "1.0\n"
     ]
    }
   ],
   "source": [
    "# LOGARITMOS\n",
    "print(math.log(100, 10))  # 2.0\n",
    "\n",
    "e = math.exp(1)\n",
    "print(math.log(e))  # 1.0"
   ]
  },
  {
   "cell_type": "code",
   "execution_count": 5,
   "metadata": {},
   "outputs": [
    {
     "name": "stdout",
     "output_type": "stream",
     "text": [
      "3\n",
      "720\n"
     ]
    }
   ],
   "source": [
    "# OTRAS FUNCIONES\n",
    "# MULTIPLO COMUN DIVISOR, FACTORIAL, ETC...\n",
    "print(math.gcd(9, 24))  # 3\n",
    "print(math.factorial(6))  # 6.5.4.3.2.1 = 720"
   ]
  },
  {
   "cell_type": "code",
   "execution_count": 6,
   "metadata": {},
   "outputs": [
    {
     "name": "stdout",
     "output_type": "stream",
     "text": [
      "True\n",
      "False\n"
     ]
    }
   ],
   "source": [
    "# IS CLOSE - sirve para decidir si un numero esta cerca de otro o no en funcion de una tolerancia porcentual\n",
    "a = 989\n",
    "b = 1000\n",
    "tol = 0.05\n",
    "print(math.isclose(a, b, rel_tol=0.1))  # TRUE\n",
    "print(math.isclose(a, b, rel_tol=0.01))  # FALSE"
   ]
  }
 ],
 "metadata": {
  "interpreter": {
   "hash": "369f2c481f4da34e4445cda3fffd2e751bd1c4d706f27375911949ba6bb62e1c"
  },
  "kernelspec": {
   "display_name": "Python 3.10.4 64-bit",
   "language": "python",
   "name": "python3"
  },
  "language_info": {
   "codemirror_mode": {
    "name": "ipython",
    "version": 3
   },
   "file_extension": ".py",
   "mimetype": "text/x-python",
   "name": "python",
   "nbconvert_exporter": "python",
   "pygments_lexer": "ipython3",
   "version": "3.10.4"
  },
  "orig_nbformat": 4
 },
 "nbformat": 4,
 "nbformat_minor": 2
}

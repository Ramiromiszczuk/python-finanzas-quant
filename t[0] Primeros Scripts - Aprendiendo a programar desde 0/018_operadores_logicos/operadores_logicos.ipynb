{
 "cells": [
  {
   "cell_type": "code",
   "execution_count": 1,
   "metadata": {},
   "outputs": [],
   "source": [
    "# Operadores Logicos\n",
    "# Tablas de VERDAD\n",
    "# Son solo esquemas de varios tipos de condiciones y operadores, por ejemplo,\n",
    "# con el operador and el resultado  de unir dos condiciones A y B sera verdadero solo si ambas (AyB) son verdaderos\n",
    "# Por otro lado, si uno dos condiciones A o B con el operador or, su resultado sera verdadero cuando ambas sean verdaderas,\n",
    "# pero tambien cuando una de ellas es verdadera y la otra no\n"
   ]
  },
  {
   "cell_type": "code",
   "execution_count": 2,
   "metadata": {},
   "outputs": [],
   "source": [
    "# TABLA DE VERDAD AND\n",
    "# A\t    B\t    A y B\n",
    "# False\tFalse\tFalse\n",
    "# False\tTrue\tFalse\n",
    "# True\tFalse\tFalse\n",
    "# True\tTrue\tTrue\n"
   ]
  },
  {
   "cell_type": "code",
   "execution_count": 3,
   "metadata": {},
   "outputs": [],
   "source": [
    "# TABLA DE VERDAD OR\n",
    "# A\t    B       A or B\n",
    "# False\tFalse\tFalse\n",
    "# False\tTrue\tTrue\n",
    "# True\tFalse\tTrue\n",
    "# True\tTrue\tTrue\n"
   ]
  },
  {
   "cell_type": "code",
   "execution_count": 4,
   "metadata": {},
   "outputs": [],
   "source": [
    "# TABLA DE VERDAD NOT\n",
    "# A\t    not A\n",
    "# False\tTrue\n",
    "# True\tFalse\n"
   ]
  },
  {
   "cell_type": "code",
   "execution_count": 5,
   "metadata": {},
   "outputs": [],
   "source": [
    "# TABLA de VERDAD XOR\n",
    "# A\t    B\t    A ~ B\n",
    "# False\tFalse\tFalse\n",
    "# False\tTrue\tTrue\n",
    "# True\tFalse\tTrue\n",
    "# True\tTrue\tFalse\n"
   ]
  },
  {
   "cell_type": "code",
   "execution_count": 6,
   "metadata": {},
   "outputs": [
    {
     "name": "stdout",
     "output_type": "stream",
     "text": [
      "True\n",
      "True\n"
     ]
    }
   ],
   "source": [
    "# Pero, todo esto es teorico, veamos esto con unos ejemplos.\n",
    "# Supongamos el caso de tener un par de medias moviles,\n",
    "# si una media movil rapida (por ejemplo de 20 periodos) es mayor (>)\n",
    "# a una media movil lenta (por ejemplo de 100 periodos) entonces digamos\n",
    "# que es un indicador de compra, y asociamos esa comparacion a una variable 'buySignal'\n",
    "# Luego, supongamos que para comprar necesitamos preguntar si hay liquidez suficiente en la cuenta,\n",
    "# por lo tanto, para gatillas una orden de compra vamos a tener que preguntar si el saldo de la cuenta\n",
    "# es mayor a un determinado limite minimo y si es afirmativo definir como True la variable liquidez\n",
    "\n",
    "smaFast = 20.4\n",
    "smaLow = 20\n",
    "price = 19\n",
    "saldo = 15000\n",
    "\n",
    "buySignal = smaFast > smaLow\n",
    "liquidez = saldo > 1000\n",
    "\n",
    "buy = buySignal and liquidez\n",
    "print(buy)\n",
    "\n",
    "# Ahora a nuestra logica le vamos a agregar el estado 'hold' que se va a mantener\n",
    "# como True siempre que haya dado señal de compra y siempre y cuando el precio actual no sea\n",
    "# menor a mi stopLoss\n",
    "# Tambien se puede usar el operador not que lo que hace es preguntar por lo opuesto\n",
    "\n",
    "smaFast = 20.4\n",
    "smaSlow = 20\n",
    "price = 19\n",
    "saldo = 15000\n",
    "stopLossPrice = 18  # precio de stopLoss\n",
    "\n",
    "buySignal = smaFast > smaSlow\n",
    "liquidez = saldo > 1000\n",
    "stopLoss = (\n",
    "    price <= stopLossPrice\n",
    ")  # stopLoss, True si el precio es menor o igual al stopLossPrice, es decir, si de 19 baja a 18, cambia su valor a true\n",
    "\n",
    "hold = buySignal and liquidez and not stopLoss\n",
    "print(hold)\n"
   ]
  }
 ],
 "metadata": {
  "interpreter": {
   "hash": "369f2c481f4da34e4445cda3fffd2e751bd1c4d706f27375911949ba6bb62e1c"
  },
  "kernelspec": {
   "display_name": "Python 3.10.4 64-bit",
   "language": "python",
   "name": "python3"
  },
  "language_info": {
   "codemirror_mode": {
    "name": "ipython",
    "version": 3
   },
   "file_extension": ".py",
   "mimetype": "text/x-python",
   "name": "python",
   "nbconvert_exporter": "python",
   "pygments_lexer": "ipython3",
   "version": "3.10.4"
  },
  "orig_nbformat": 4
 },
 "nbformat": 4,
 "nbformat_minor": 2
}

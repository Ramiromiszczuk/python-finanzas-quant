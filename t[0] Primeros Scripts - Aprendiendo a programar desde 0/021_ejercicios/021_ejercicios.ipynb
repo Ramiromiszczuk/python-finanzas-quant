{
 "cells": [
  {
   "cell_type": "code",
   "execution_count": 9,
   "metadata": {},
   "outputs": [],
   "source": [
    "# Ejercicios\n",
    "# Partiendo de las siguientes variables:\n",
    "# - price que tiene el precio actual del activo en el mercado\n",
    "# - buyPrice que tiene el valor al que compramos el activo al ingresarlo en la cartera\n",
    "# - smaFast y smaSlow que son dos medias moviles que usaremos para saber si esta en tendencia\n",
    "# Ir modificando la variable price para verificar que el script anda. Configurar las variables con los siguientes valores:\n",
    "# smaFast = 100\n",
    "# smaSlow = 98\n",
    "# buyPrice = 106"
   ]
  },
  {
   "cell_type": "code",
   "execution_count": 10,
   "metadata": {},
   "outputs": [
    {
     "name": "stdout",
     "output_type": "stream",
     "text": [
      "False\n"
     ]
    }
   ],
   "source": [
    "# 1- Armar un script que me defina en una sola condicion la variable hold para un activo es verdadera o falsa, en funcion de las siguientes premisas:\n",
    "# Que este en tendencia bull, asumiendo para ello que la media rapida sea un 2% mayor a una media lenta\n",
    "# Que no rompa un stopLoss del 5% abajo del precio de compra\n",
    "# Que la ganancia acumulada no sea superior al 20% ya que en ese caso se tomaria ganancias\n",
    "# Y verificar que nos devuelve para los siguientes precios:\n",
    "# -price=97 => False\n",
    "# -price=100 => False\n",
    "# -price=101 => True\n",
    "# -price=121 => True\n",
    "# -price=128 => False\n",
    "price = 97\n",
    "buyPrice = 106\n",
    "smaFast = 100\n",
    "smaSlow = 98\n",
    "\n",
    "hold = False\n",
    "tendenciaBull = smaFast > smaSlow * 1.02\n",
    "stopLoss = price < buyPrice * 0.95\n",
    "takeProfit = price > buyPrice * 1.2\n",
    "\n",
    "if tendenciaBull and stopLoss and takeProfit:\n",
    "    hold = True\n",
    "\n",
    "print(hold)"
   ]
  },
  {
   "cell_type": "code",
   "execution_count": 11,
   "metadata": {},
   "outputs": [
    {
     "name": "stdout",
     "output_type": "stream",
     "text": [
      "Salida por stopLoss\n"
     ]
    }
   ],
   "source": [
    "\n",
    "# 2- Con las mismas premisas del ejercicio anterior, modificarlo para que me devuelva en una\n",
    "# variable state un string que me indique si sigo invertido en ese activo, pero ademas en caso de ser\n",
    "# falso me indique si se salio por stopLoss o por toma de ganancias\n",
    "# Verificar que nos devuelve lo siguiente para los siguientes precios:\n",
    "# -price=97 => Salida por stopLoss\n",
    "# -price=100 => Salida por stopLoss\n",
    "# -price=101 => Invertidos\n",
    "# -price=121 => Invertidos\n",
    "# -price=128 => Salida por takeProfit\n",
    "price = 97\n",
    "buyPrice = 106\n",
    "smaFast = 100\n",
    "smaSlow = 98\n",
    "\n",
    "tendenciaBull = smaFast > smaSlow * 1.02\n",
    "stopLoss = price < buyPrice * 0.95\n",
    "takeProfit = price > buyPrice * 1.2\n",
    "\n",
    "state = \"\"\n",
    "\n",
    "if tendenciaBull and not stopLoss and not takeProfit:\n",
    "    state = \"Seguimos Invertidos\"\n",
    "else:\n",
    "    if stopLoss:\n",
    "        state = \"Salida por stopLoss\"\n",
    "    else:\n",
    "        state = \"Salida por takeProfit\"\n",
    "print(state)"
   ]
  },
  {
   "cell_type": "code",
   "execution_count": 12,
   "metadata": {},
   "outputs": [
    {
     "name": "stdout",
     "output_type": "stream",
     "text": [
      "Salida por stopLoss\n"
     ]
    }
   ],
   "source": [
    "# 3- Reforzar la logica del ejercicio anterior agregando a la condicion del stopLoss que el\n",
    "# precio tiene que cortar a la media movil lento para abajo para disparar el stopLoss. Verificar que\n",
    "# nos devuelve lo siguiente para los siguientes precios.\n",
    "price = 97\n",
    "buyPrice = 106\n",
    "smaFast = 100\n",
    "smaSlow = 98\n",
    "\n",
    "stopLoss = (price < smaSlow) and (price < buyPrice * 0.95)\n",
    "tendenciaBull = smaFast > smaSlow * 1.02\n",
    "takeProfit = price > buyPrice * 1.2\n",
    "\n",
    "state = \"\"\n",
    "\n",
    "if tendenciaBull and not stopLoss and not takeProfit:\n",
    "    state = \"Seguimos Invertidos\"\n",
    "else:\n",
    "    if stopLoss:\n",
    "        state = \"Salida por stopLoss\"\n",
    "    else:\n",
    "        state = \"Salida por takeProfit\"\n",
    "print(state)"
   ]
  },
  {
   "cell_type": "code",
   "execution_count": 13,
   "metadata": {},
   "outputs": [
    {
     "name": "stdout",
     "output_type": "stream",
     "text": [
      "Salida por stopLoss\n"
     ]
    }
   ],
   "source": [
    "# 4- Reforzar la logica del ejercicio anterior, haciendo que para gatillar el take profit puede o\n",
    "# bien darse el 20% de ganancia o bien un 10% de ganancia y el precio superar en más del 20%\n",
    "# a la media movil rapida.\n",
    "\n",
    "price = 97\n",
    "buyPrice = 106\n",
    "smaFast = 100\n",
    "smaSlow = 98\n",
    "\n",
    "stopLoss = (price < smaSlow) and (price < buyPrice * 0.95)\n",
    "tendenciaBull = smaFast > smaSlow * 1.02\n",
    "takeProfit = (price > buyPrice * 1.2) or (price > buyPrice * 1.1 and price > smaFast * 1.2)\n",
    "\n",
    "\n",
    "state = \"\"\n",
    "\n",
    "if tendenciaBull and not stopLoss and not takeProfit:\n",
    "    state = \"Seguimos Invertidos\"\n",
    "else:\n",
    "    if stopLoss:\n",
    "        state = \"Salida por stopLoss\"\n",
    "    else:\n",
    "        state = \"Salida por takeProfit\"\n",
    "print(state)"
   ]
  },
  {
   "cell_type": "code",
   "execution_count": 14,
   "metadata": {},
   "outputs": [
    {
     "name": "stdout",
     "output_type": "stream",
     "text": [
      "Ingrese el ticker del activo que desea ver: \n",
      "El ticker 100 no esta en la cartera\n"
     ]
    }
   ],
   "source": [
    "# 5- Hacer un script que arranque definiendo el diccionario:\n",
    "#   cartera = {\"AAPL\": 30, \"AMZN\": 25, \"NFLX\": 20, \"FB\": 10, \"KO\": 5, \"USD\": 10}\n",
    "# Que representa los activos de la cartera y sus porcentajes de peso, y que me pida el ticker por un\n",
    "# input y me devuelva el % de cada uno y si ingreso en el input un activo inexistente que me devuelva\n",
    "# un mensaje aclarando que ese activo no esta en la cartera\n",
    "# Tener en cuenta que el script debe funcionar si el usuario ingresa el ticker con alguna o todas \n",
    "# sus letras en minuscula\n",
    "\n",
    "cartera = {\"AAPL\": 30, \"AMZN\": 25, \"NFLX\": 20, \"FB\": 10, \"KO\": 5, \"USD\": 10}\n",
    "print(\"Ingrese el ticker del activo que desea ver: \")\n",
    "inputTicker = input()\n",
    "inputTicker = inputTicker.upper()\n",
    "\n",
    "if inputTicker in cartera:\n",
    "    print(inputTicker + \" tiene un \" + str(cartera[inputTicker]) + \"% de peso\")\n",
    "else :\n",
    "    print(\"El ticker \" + inputTicker + \" no esta en la cartera\")"
   ]
  },
  {
   "cell_type": "code",
   "execution_count": 15,
   "metadata": {},
   "outputs": [],
   "source": [
    "# Dada la siguiente lista de activos:\n",
    "# activos1 = [\"AAPL\", \"BMA\", \"BYMA\", \"CEPU\", \"COME\", \"CRES\", \"CVH\", \"EDN\", \"GGAL\", \"MIRG\"]\n",
    "# activos2 = [\"PAM\", \"SUPV\", \"TECO2\", \"TGNNO4\", \"TGSU2\", \"TRAN\", \"TXAR\", \"VALO\", \"YPF\"]"
   ]
  },
  {
   "cell_type": "code",
   "execution_count": 16,
   "metadata": {},
   "outputs": [
    {
     "name": "stdout",
     "output_type": "stream",
     "text": [
      "['AAPL', 'BMA', 'BYMA', 'CEPU', 'COME', 'CRES', 'CVH', 'EDN', 'GGAL', 'MIRG', 'PAM', 'SUPV', 'TECO2', 'TGNNO4', 'TGSU2', 'TRAN', 'TXAR', 'VALO', 'YPF']\n",
      "19\n",
      "['AAPL', 'BMA', 'BYMA', 'CEPU', 'COME', 'CRES', 'CVH', 'EDN', 'GGAL', 'MIRG', 'PAM', 'SUPV', 'TECO2', 'TGNNO4', 'TGSU2', 'TRAN', 'TXAR', 'VALO', 'YPF']\n",
      "19\n"
     ]
    }
   ],
   "source": [
    "# 6- Armar un script que genere una lista llamada activos con todos los elementos de ambas listas y\n",
    "# devolver la cantidad total.\n",
    "activos1 = [\"AAPL\", \"BMA\", \"BYMA\", \"CEPU\", \"COME\", \"CRES\", \"CVH\", \"EDN\", \"GGAL\", \"MIRG\"]\n",
    "activos2 = [\"PAM\", \"SUPV\", \"TECO2\", \"TGNNO4\", \"TGSU2\", \"TRAN\", \"TXAR\", \"VALO\", \"YPF\"]\n",
    "\n",
    "# 1 FORMA\n",
    "activos = activos1 + activos2\n",
    "print(activos)\n",
    "print(len(activos))\n",
    "\n",
    "# 2 FORMA\n",
    "activos = activos1\n",
    "activos.extend(activos2)\n",
    "print(activos)\n",
    "print(len(activos))"
   ]
  },
  {
   "cell_type": "code",
   "execution_count": 19,
   "metadata": {},
   "outputs": [
    {
     "name": "stdout",
     "output_type": "stream",
     "text": [
      "EL TICKER PAM ESTA EN LA CARTERA\n"
     ]
    }
   ],
   "source": [
    "# 7- Pedir un ticker al usuario via input () y devolver si esta o no la variable activos y que funcione\n",
    "# independientemente si se ingresa el ticker en minuscula o mayuscula\n",
    "\n",
    "activos1 = [\"AAPL\", \"BMA\", \"BYMA\", \"CEPU\", \"COME\", \"CRES\", \"CVH\", \"EDN\", \"GGAL\", \"MIRG\"]\n",
    "activos2 = [\"PAM\", \"SUPV\", \"TECO2\", \"TGNNO4\", \"TGSU2\", \"TRAN\", \"TXAR\", \"VALO\", \"YPF\"]\n",
    "\n",
    "activos = activos1 + activos2\n",
    "\n",
    "inputTicker = input(\"INGRESE UN TICKER: \")\n",
    "inputTicker = inputTicker.upper()\n",
    "\n",
    "\n",
    "if inputTicker in activos:\n",
    "    print(\"EL TICKER \" + inputTicker + \" ESTA EN LA CARTERA\")\n",
    "else :\n",
    "    print(\"EL TICKER \" + inputTicker + \" NO ESTA EN LA CARTERA\")"
   ]
  },
  {
   "cell_type": "code",
   "execution_count": 20,
   "metadata": {},
   "outputs": [
    {
     "name": "stdout",
     "output_type": "stream",
     "text": [
      "EL PRECIO DE YPF ES 500\n"
     ]
    }
   ],
   "source": [
    "# 8- Dado el siguiente diccionario\n",
    "# precios = {\"GGAL\": 80, \"YPF\": 500}\n",
    "# Hacer un script que le pida por un input() un ticker al usuario y\n",
    "#   - Si el ticker esta en el listado de precios le devuelva el precio\n",
    "#   - Si no esta el precio, pero si se encuentra en el listado de activos, que le devuelva el mensaje\n",
    "#     que no tiene el precio de ese ticker (y nombrarlo en el mensaje)\n",
    "#   - Si ni siquiera encuentra el ticker en el listado de activos que le avise que el ticker no esta ni en \n",
    "#     el listado de tickers\n",
    "\n",
    "precios = {\"GGAL\": 80, \"YPF\": 500}\n",
    "activos1 = [\"AAPL\", \"BMA\", \"BYMA\", \"CEPU\", \"COME\", \"CRES\", \"CVH\", \"EDN\", \"GGAL\", \"MIRG\"]\n",
    "activos2 = [\"PAM\", \"SUPV\", \"TECO2\", \"TGNNO4\", \"TGSU2\", \"TRAN\", \"TXAR\", \"VALO\", \"YPF\"]\n",
    "activos = activos1 + activos2 # [\"AAPL\", \"BMA\", ..., \"VALO\", \"YPF\"]\n",
    "tickerPrecios = precios.keys() # [\"GGAL\", \"YPF\"]\n",
    "\n",
    "inputActivo = input(\"INGRESE UN TICKER\")\n",
    "inputActivo = inputActivo.upper()\n",
    "\n",
    "if inputActivo in tickerPrecios:\n",
    "    print(F'EL PRECIO DE {inputActivo} ES {precios[inputActivo]}')\n",
    "else: \n",
    "    if inputActivo in activos:\n",
    "        print(F'EL ACTIVO {inputActivo} SE ENCUENTRA EN EL LISTADO DE ACTIVOS PERO NO TENGO SU PRECIO')\n",
    "    else:\n",
    "        print(F'EL ACTIVO {inputActivo} NO SE ENCUENTRA EN EL LISTADO DE ACTIVOS')\n",
    "    \n",
    "    "
   ]
  },
  {
   "cell_type": "code",
   "execution_count": 24,
   "metadata": {},
   "outputs": [
    {
     "name": "stdout",
     "output_type": "stream",
     "text": [
      "Stop Largo\n"
     ]
    }
   ],
   "source": [
    "# 9- Hacer un script que tome como dato la variable maxPerdida que sea un valor porcentual que\n",
    "# representa el stopLoss maximo tolerado, y que devuelva en otra variable del tipo string llamada tipo las\n",
    "# siguientes opciones:\n",
    "#   - Stop Largo: Cuando 8% < maxPerdida <=15%\n",
    "#   - Stop SemiLargo: Cuando 6% < maxPerdida <=8%\n",
    "#   - Stop Standar: Cuando 3% < maxPerdida <= 6%\n",
    "#   - Stop Corto: Cuando 1% < maxPerdida <= 3%\n",
    "#   - Fuera de rango: Resto de los casos\n",
    "\n",
    "maxPerdida = input('INGRESE EL PORCENTAJE MAXIMO DE STOPLOSS TOLERADO')\n",
    "maxPerdida = int(maxPerdida)\n",
    "\n",
    "if maxPerdida > 1 and maxPerdida <= 15:\n",
    "    if maxPerdida > 8:\n",
    "        tipo = \"Stop Largo\"\n",
    "    elif maxPerdida > 6:\n",
    "        tipo = \"Stop Semilargo\"\n",
    "    elif maxPerdida > 3:\n",
    "        tipo = \"Stop Standar\"\n",
    "    elif maxPerdida > 1:\n",
    "        tipo = \"Stop Corto\"\n",
    "    print(tipo)\n",
    "else:\n",
    "    tipo = 'Fuera de Rango'\n",
    "    print(tipo)\n",
    "    "
   ]
  }
 ],
 "metadata": {
  "interpreter": {
   "hash": "695d51a1da3c2bd9e0b7011053edc7cd86d315464bb8756bebf47a6ace8cc98f"
  },
  "kernelspec": {
   "display_name": "Python 3.10.0 64-bit",
   "language": "python",
   "name": "python3"
  },
  "language_info": {
   "codemirror_mode": {
    "name": "ipython",
    "version": 3
   },
   "file_extension": ".py",
   "mimetype": "text/x-python",
   "name": "python",
   "nbconvert_exporter": "python",
   "pygments_lexer": "ipython3",
   "version": "3.10.0"
  },
  "orig_nbformat": 4
 },
 "nbformat": 4,
 "nbformat_minor": 2
}

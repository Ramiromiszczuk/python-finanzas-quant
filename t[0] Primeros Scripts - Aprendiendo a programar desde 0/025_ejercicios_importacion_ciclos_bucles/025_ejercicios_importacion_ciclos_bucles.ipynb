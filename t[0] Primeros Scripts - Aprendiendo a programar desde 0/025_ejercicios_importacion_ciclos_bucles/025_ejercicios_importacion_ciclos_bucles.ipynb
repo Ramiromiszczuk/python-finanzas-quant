{
 "cells": [
  {
   "cell_type": "markdown",
   "metadata": {},
   "source": [
    "# Ejercicios\n",
    "Dado el archivo SPY.csv que contiene en un CSV las cotizaciones de SPY hasta la fecha que fue generado:"
   ]
  },
  {
   "cell_type": "markdown",
   "metadata": {},
   "source": [
    "1 - Generar un script que me devuelva la cantidad de subas diarias mayores al +5%, basados en los cierres ajustados"
   ]
  },
  {
   "cell_type": "code",
   "execution_count": null,
   "metadata": {},
   "outputs": [],
   "source": []
  },
  {
   "cell_type": "markdown",
   "metadata": {},
   "source": [
    "2 - Generar un script que arme un listado con los gaps de apertura (variación % del precio de apertura respecto al cierre anterior)\n",
    "Imprimir en pantalla los primeros 5 para verificar que esten correctos"
   ]
  },
  {
   "cell_type": "code",
   "execution_count": null,
   "metadata": {},
   "outputs": [],
   "source": []
  },
  {
   "cell_type": "markdown",
   "metadata": {},
   "source": [
    "3 - Basados en la lista de gaps anterior. Contabilizar del listado de gaps anterior la cantidad de gaps al alza, cantidad gaps a la baja y los neutros"
   ]
  },
  {
   "cell_type": "code",
   "execution_count": null,
   "metadata": {},
   "outputs": [],
   "source": []
  },
  {
   "cell_type": "markdown",
   "metadata": {},
   "source": [
    "4 - Contrastar los resultados de gaps al alza y gaps a la baja con la cantidad de ruedas que el intradiario (cierre sobre apertura) fue positivo vs los que fue negativo"
   ]
  },
  {
   "cell_type": "code",
   "execution_count": null,
   "metadata": {},
   "outputs": [],
   "source": []
  },
  {
   "cell_type": "markdown",
   "metadata": {},
   "source": [
    "5 - En funcion de las listas construidas en los ejercicios anteriores, armar un diccionario con los siguientes valores:\n",
    "  * El promedio de los gaps positivos y el promedio de los negativos\n",
    "  * El % de Gaps Positivos y Negativos sobre el total de Gaps\n",
    "  * El promedio de los intradiario positivos y el promedio de los negativos\n",
    "  * El % de Intras Positivos y Negativos sobre el total de Intras"
   ]
  },
  {
   "cell_type": "code",
   "execution_count": null,
   "metadata": {},
   "outputs": [],
   "source": []
  },
  {
   "cell_type": "markdown",
   "metadata": {},
   "source": [
    "6 - Tomando la lista de variaciones entre cierres ajustados, armar un diccionario con los siguientes valores:\n",
    "    * El promedio de las variaciones positivas y el promedio de las negativas\n",
    "    * El % de variaciones Positivas, Negativas y neutras sobre el total\n",
    "    * Inferir si el mayor movimiento del indice se da entre cierres, durante las ruedas o mientras el mercado esta cerrado"
   ]
  },
  {
   "cell_type": "code",
   "execution_count": null,
   "metadata": {},
   "outputs": [],
   "source": []
  },
  {
   "cell_type": "markdown",
   "metadata": {},
   "source": [
    "_Dado el archivo balances.csv y el archivo estadoresultados.csv que contiene los ultimos 10 estados de resultado anuales y trimestrales de las 4000 acciones mas liquidas de USA_"
   ]
  },
  {
   "cell_type": "markdown",
   "metadata": {},
   "source": [
    "7 - Mostrar las columnas de la planilla"
   ]
  },
  {
   "cell_type": "code",
   "execution_count": null,
   "metadata": {},
   "outputs": [],
   "source": []
  },
  {
   "cell_type": "markdown",
   "metadata": {},
   "source": [
    "8 - Mostrar los 4 últimos EBIT de AAPL trimestrales en millones de USD"
   ]
  },
  {
   "cell_type": "code",
   "execution_count": null,
   "metadata": {},
   "outputs": [],
   "source": []
  },
  {
   "cell_type": "markdown",
   "metadata": {},
   "source": [
    "9 - Mostrar el ultimo ratio costos/ingresos anuales de FB, AMZN, AAPL, NFLX y GOOGL"
   ]
  },
  {
   "cell_type": "code",
   "execution_count": null,
   "metadata": {},
   "outputs": [],
   "source": []
  },
  {
   "cell_type": "markdown",
   "metadata": {},
   "source": [
    "10 - Mostrar el listado de empresas cuya ratio costos/ingresos anuales este por debajo de 0.5 y que hayan invertido +5B en R+D en el ultimo ejercicio anual"
   ]
  },
  {
   "cell_type": "code",
   "execution_count": null,
   "metadata": {},
   "outputs": [],
   "source": []
  },
  {
   "cell_type": "markdown",
   "metadata": {},
   "source": [
    "11 - Mostrar el promedio de inversion en R+D en Billones americanos de AAPL en los ultimos 10 trimestres"
   ]
  },
  {
   "cell_type": "code",
   "execution_count": null,
   "metadata": {},
   "outputs": [],
   "source": []
  },
  {
   "cell_type": "markdown",
   "metadata": {},
   "source": [
    "12 - Contar la cantidad de empresas que tuvieron el ultimo balance anual una inversion en I+D de mas de 1B americano"
   ]
  },
  {
   "cell_type": "code",
   "execution_count": null,
   "metadata": {},
   "outputs": [],
   "source": []
  },
  {
   "cell_type": "markdown",
   "metadata": {},
   "source": [
    "13 - Calcular el valor promedio (en millones de dolares) que las empresas invirtieron en I+D el ultimo balance anual"
   ]
  },
  {
   "cell_type": "code",
   "execution_count": null,
   "metadata": {},
   "outputs": [],
   "source": []
  },
  {
   "cell_type": "markdown",
   "metadata": {},
   "source": [
    "14 - Elegir 5 empresas al azar de las que hayan invertido mas de 400 millones de dolares."
   ]
  }
 ],
 "metadata": {
  "kernelspec": {
   "display_name": "Python 3.10.4 64-bit",
   "language": "python",
   "name": "python3"
  },
  "language_info": {
   "codemirror_mode": {
    "name": "ipython",
    "version": 3
   },
   "file_extension": ".py",
   "mimetype": "text/x-python",
   "name": "python",
   "nbconvert_exporter": "python",
   "pygments_lexer": "ipython3",
   "version": "3.10.4"
  },
  "orig_nbformat": 4,
  "vscode": {
   "interpreter": {
    "hash": "369f2c481f4da34e4445cda3fffd2e751bd1c4d706f27375911949ba6bb62e1c"
   }
  }
 },
 "nbformat": 4,
 "nbformat_minor": 2
}

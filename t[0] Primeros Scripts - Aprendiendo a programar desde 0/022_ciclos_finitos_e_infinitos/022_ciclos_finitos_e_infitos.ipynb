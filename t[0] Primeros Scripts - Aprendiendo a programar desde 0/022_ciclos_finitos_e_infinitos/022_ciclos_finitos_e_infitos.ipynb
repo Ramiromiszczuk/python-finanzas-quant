{
 "cells": [
  {
   "cell_type": "code",
   "execution_count": 1,
   "metadata": {},
   "outputs": [],
   "source": [
    "# Los distintos tipos de esquemas de ciclos se pueden agrupar en:\n",
    "# - Ciclos Definidos: Sabemos de antemano exactamente cuantas veces se va a ejecutar (por ejemplo 5 veces)\n",
    "# - Ciclos Indefinidos: No sabemos cuantas veces se va a ejecutar, pero sabemos que\n",
    "#   tiene una cantidad maxima dada por el elemento a iterar\n",
    "# - Ciclos Infinitos\n",
    "#   - Ciclos Infinitos Interactivos: Se ejecuta cada vez que aparece un nuevo feed al\n",
    "#     ciclo, corta cuando se corta el feed\n",
    "#   - Ciclos Infinitos con centinela: De antemano se ejecuta infinitas veces hasta\n",
    "#     que aparece señal de corte\n"
   ]
  },
  {
   "cell_type": "markdown",
   "metadata": {},
   "source": [
    "### CICLOS DEFINIDOS"
   ]
  },
  {
   "cell_type": "code",
   "execution_count": 2,
   "metadata": {},
   "outputs": [
    {
     "name": "stdout",
     "output_type": "stream",
     "text": [
      "GGAL\n",
      "PAMP\n",
      "YPFD\n",
      "CEPU\n",
      "EDN\n",
      "LOMA\n",
      "CRES\n"
     ]
    }
   ],
   "source": [
    "# Se utiliza el comando FOR, en estos ciclos sabemos de antemano la cantidad de iteraciones que hará.\n",
    "# La estructura del comando FOR es muy sencilla, ya que se recorre un elemento iterable (generalmente)\n",
    "# una lista de elementos) y por cada elemento recorrido se ejecuta el cuerpo del FOR\n",
    "listado = [\"GGAL\", \"PAMP\", \"YPFD\", \"CEPU\", \"EDN\", \"LOMA\", \"CRES\"]\n",
    "for ticker in listado:\n",
    "    print(ticker)\n"
   ]
  },
  {
   "cell_type": "code",
   "execution_count": 3,
   "metadata": {},
   "outputs": [
    {
     "name": "stdout",
     "output_type": "stream",
     "text": [
      "G\n",
      "F\n",
      "G\n",
      "C\n",
      "1\n",
      "4\n",
      "0\n",
      ".\n",
      "A\n",
      "B\n"
     ]
    }
   ],
   "source": [
    "# Un string, es decir, un texto cualquiera, también es un objeto iterable, ya que cada letra de la palabra se considera un elemento del string.\n",
    "ticker = \"GFGC140.AB\"\n",
    "for letra in ticker:\n",
    "    print(letra)\n"
   ]
  },
  {
   "cell_type": "markdown",
   "metadata": {},
   "source": [
    "#### ITERANDO UNA LISTA"
   ]
  },
  {
   "cell_type": "code",
   "execution_count": 4,
   "metadata": {},
   "outputs": [
    {
     "name": "stdout",
     "output_type": "stream",
     "text": [
      "AAPL\n",
      "AMZN\n",
      "NFLX\n",
      "FB\n"
     ]
    }
   ],
   "source": [
    "# ITERANDO UNA LISTA\n",
    "listado = [\"AAPL\", \"AMZN\", \"NFLX\", \"FB\"]\n",
    "for elemento in listado:\n",
    "    print(elemento)\n"
   ]
  },
  {
   "cell_type": "markdown",
   "metadata": {},
   "source": [
    "#### ITERANDO UNA TUPLA"
   ]
  },
  {
   "cell_type": "code",
   "execution_count": 5,
   "metadata": {},
   "outputs": [
    {
     "name": "stdout",
     "output_type": "stream",
     "text": [
      "AAPL\n",
      "AMZN\n",
      "NFLX\n",
      "FB\n"
     ]
    }
   ],
   "source": [
    "# ITERANDO UNA TUPLA\n",
    "listado = (\"AAPL\", \"AMZN\", \"NFLX\", \"FB\")\n",
    "for elemento in listado:\n",
    "    print(elemento)\n"
   ]
  },
  {
   "cell_type": "markdown",
   "metadata": {},
   "source": [
    "#### ITERANDO UNA LISTA DE TUPLAS"
   ]
  },
  {
   "cell_type": "code",
   "execution_count": 6,
   "metadata": {},
   "outputs": [
    {
     "name": "stdout",
     "output_type": "stream",
     "text": [
      "AAPL es par con AMZN\n",
      "NFLX es par con FB\n"
     ]
    }
   ],
   "source": [
    "# ITERANDO UNA LISTA DE TUPLAS\n",
    "pares = [(\"AAPL\", \"AMZN\"), (\"NFLX\", \"FB\")]\n",
    "for par in pares:\n",
    "    print(f\"{par[0]} es par con {par[1]}\")\n"
   ]
  },
  {
   "cell_type": "markdown",
   "metadata": {},
   "source": [
    "#### ITERANDO UN DICCIONARIO"
   ]
  },
  {
   "cell_type": "code",
   "execution_count": 7,
   "metadata": {},
   "outputs": [
    {
     "name": "stdout",
     "output_type": "stream",
     "text": [
      "AAPL $100\n",
      "AMZN $200\n",
      "NFLX $300\n",
      "FB $400\n"
     ]
    }
   ],
   "source": [
    "# ITERANDO UN DICCIONARIO\n",
    "cartera = {\"AAPL\": 100, \"AMZN\": 200, \"NFLX\": 300, \"FB\": 400}\n",
    "for elemento in cartera:\n",
    "    print(f\"{elemento} ${cartera[elemento]}\")\n"
   ]
  },
  {
   "cell_type": "markdown",
   "metadata": {},
   "source": [
    "#### CICLOS DEFINIDOS USANDO LA FUNCION RANGE"
   ]
  },
  {
   "cell_type": "code",
   "execution_count": 8,
   "metadata": {},
   "outputs": [
    {
     "name": "stdout",
     "output_type": "stream",
     "text": [
      "0\n",
      "1\n",
      "2\n"
     ]
    }
   ],
   "source": [
    "# CICLOS DEFINIDOS USANDO LA FUNCION RANGE\n",
    "# La funcion range() admite 3 argumentos: -Desde- -Hasta- -Incremento-\n",
    "# El orden de los argumentos de la funcion range es asi range (desde, hasta, incremento)\n",
    "for i in range(3):\n",
    "    print(i)\n"
   ]
  },
  {
   "cell_type": "markdown",
   "metadata": {},
   "source": [
    "#### CICLO DEFINIDO USANDO LA FUNCION RANGE CON UN LISTADO PREDEFINIDO"
   ]
  },
  {
   "cell_type": "code",
   "execution_count": 9,
   "metadata": {},
   "outputs": [
    {
     "name": "stdout",
     "output_type": "stream",
     "text": [
      "AAPL\n",
      "AMZN\n",
      "NFLX\n"
     ]
    }
   ],
   "source": [
    "# CICLO DEFINIDO USANDO LA FUNCION RANGE CON UN LISTADO PREDEFINIDO\n",
    "listado = [\"AAPL\", \"AMZN\", \"NFLX\", \"FB\", \"GOOGL\", \"TSLA\"]\n",
    "for i in range(3):\n",
    "    print(listado[i])\n"
   ]
  },
  {
   "cell_type": "markdown",
   "metadata": {},
   "source": [
    "#### CICLO DEFINIDO CON UN RANGO (DESDE, HASTA)"
   ]
  },
  {
   "cell_type": "code",
   "execution_count": 10,
   "metadata": {},
   "outputs": [
    {
     "name": "stdout",
     "output_type": "stream",
     "text": [
      "2\n",
      "3\n",
      "4\n"
     ]
    }
   ],
   "source": [
    "# CICLO DEFINIDO CON UN RANGO (DESDE, HASTA)\n",
    "for i in range(2, 5):\n",
    "    print(i)\n"
   ]
  },
  {
   "cell_type": "markdown",
   "metadata": {},
   "source": [
    "#### CICLO DEFINIDO CON UN RANGO (DESDE, HASTA, INTERVALO)"
   ]
  },
  {
   "cell_type": "code",
   "execution_count": 11,
   "metadata": {},
   "outputs": [
    {
     "name": "stdout",
     "output_type": "stream",
     "text": [
      "4\n",
      "7\n"
     ]
    }
   ],
   "source": [
    "# CICLO DEFINIDO CON UN RANGO (DESDE, HASTA, INTERVALO)\n",
    "for i in range(4, 10, 3):\n",
    "    print(i)\n"
   ]
  },
  {
   "cell_type": "code",
   "execution_count": 12,
   "metadata": {},
   "outputs": [
    {
     "name": "stdout",
     "output_type": "stream",
     "text": [
      "112\n",
      "114\n",
      "110\n",
      "115\n"
     ]
    }
   ],
   "source": [
    "# Supongamos que tenemos un listado de precios cada 1 minuto, pero nos interesa ver en\n",
    "# pantalla los cierres cada 3 minutos, en ese caso tendriamos algo similar a esto\n",
    "precios = [112, 113, 11, 114, 110, 109, 110, 111, 112, 115, 112]\n",
    "for i in range(0, len(precios), 3):\n",
    "    print(precios[i])\n"
   ]
  },
  {
   "cell_type": "markdown",
   "metadata": {},
   "source": [
    "#### CREANDO LISTAS CON CICLOS DEFINIDOS"
   ]
  },
  {
   "cell_type": "code",
   "execution_count": 13,
   "metadata": {},
   "outputs": [
    {
     "name": "stdout",
     "output_type": "stream",
     "text": [
      "[7, 14, 21, 28, 35, 42, 49, 56, 63, 70]\n",
      "[7, 14, 21, 28, 35, 42, 49, 56, 63, 70]\n",
      "[7, 14, 21, 28, 35, 42, 49, 56, 63, 70]\n"
     ]
    }
   ],
   "source": [
    "# CREANDO LISTAS CON CICLOS DEFINIDOS\n",
    "# Vamos a hacer un script para llenar una lista con los elementos de la tabla de multiplicar\n",
    "# de cualquier numero \"n\" dado\n",
    "n = 7\n",
    "tabla = list(i * n for i in range(1, 11))  # Creando una lista con ciclos definidos\n",
    "print(tabla)\n",
    "\n",
    "tabla = [i * n for i in range(1, 11)]  # Creando una lista con ciclos indefinidos\n",
    "print(tabla)\n",
    "\n",
    "# Otra forma, primero definimos la tabla como una lista vacía, y luego creamos un ciclo\n",
    "# FOR que ira llenando la tabla elemento por elemento\n",
    "\n",
    "n = 7\n",
    "tabla = []\n",
    "for i in range(1, 11):\n",
    "    tabla.append(i * n)\n",
    "print(tabla)\n"
   ]
  },
  {
   "cell_type": "markdown",
   "metadata": {},
   "source": [
    "#### CICLOS INDEFINIDOS FINITOS"
   ]
  },
  {
   "cell_type": "code",
   "execution_count": 14,
   "metadata": {},
   "outputs": [
    {
     "name": "stdout",
     "output_type": "stream",
     "text": [
      "HOLD $112\n",
      "HOLD $113\n",
      "HOLD $111\n",
      "HOLD $114\n",
      "STOPLOSS SELL AT $110\n"
     ]
    }
   ],
   "source": [
    "# CICLOS INDEFINIDOS FINITOS\n",
    "# Son ciclos en los que, a priori, no sabemos cuantas veces se van a ejecutar. Utilizamos los\n",
    "# comandos FOR y WHILE\n",
    "# En el caso del FOR el ciclo se ejecuta siempre para todos los elementos luego del IN asi que\n",
    "# vamos a tener que en algún momento indicarle dentro de un if cuando queremos que deje de ejecutar,\n",
    "# para ello usamos el comando BREAK\n",
    "precios = [112, 113, 111, 114, 110, 109, 110, 111, 112, 115, 112]\n",
    "stopLoss = 110\n",
    "for precio in precios:\n",
    "    if precio > stopLoss:\n",
    "        print(f\"HOLD ${precio}\")\n",
    "    else:\n",
    "        print(f\"STOPLOSS SELL AT ${precio}\")\n",
    "        break\n"
   ]
  },
  {
   "cell_type": "code",
   "execution_count": 15,
   "metadata": {},
   "outputs": [
    {
     "name": "stdout",
     "output_type": "stream",
     "text": [
      "HOLD $112\n",
      "HOLD $113\n",
      "HOLD $111\n",
      "HOLD $114\n",
      "STOPLOSS SELL AT $110\n"
     ]
    }
   ],
   "source": [
    "# En el caso del WHILE, la pregunta que definirá si seguimos ejecutando dentro del ciclo\n",
    "# es lo que viene justo despues de la sentencia while. Es decir, no hace falta poner un IF\n",
    "# Pero, si queremos ejecutar alguna linea al salir del ciclo, podemos poner un ELSE a su vez\n",
    "# como no necesariamente tenemos que iterar un listado como en el FOR, lo que hacemos es usar\n",
    "# un indice y un incrementador para ir refiriendonos a cada elemento de la lista\n",
    "precios = [112, 113, 111, 114, 110, 109, 110, 111, 112, 115, 112]\n",
    "stopLoss = 110\n",
    "i = 0\n",
    "while precios[i] > stopLoss:\n",
    "    print(f\"HOLD ${precios[i]}\")\n",
    "    i += 1\n",
    "else:\n",
    "    print(f\"STOPLOSS SELL AT ${precios[i]}\")\n"
   ]
  },
  {
   "cell_type": "markdown",
   "metadata": {},
   "source": [
    "## CICLOS INFINITOS"
   ]
  },
  {
   "cell_type": "code",
   "execution_count": 16,
   "metadata": {},
   "outputs": [
    {
     "name": "stdout",
     "output_type": "stream",
     "text": [
      "HOLD $100.0\n",
      "STOPLOSS SELL AT $100.0\n"
     ]
    }
   ],
   "source": [
    "# CICLOS INFINITOS\n",
    "# Se utilizan, por ejemplo, al recibir data de un feed, es decir, que el ciclo se ejecutara cada vez que ingresa un nuevo dato\n",
    "# al programa, por ahora vamos a hacer el ejemplo con inputs de usuario.\n",
    "stopLoss = 110\n",
    "dato = float(\"inf\")  # Que hace esta parte?\n",
    "while dato > stopLoss:\n",
    "    dato = float(input(\"Ingrese un dato: \"))\n",
    "    print(f\"HOLD ${dato}\")\n",
    "else:\n",
    "    print(f\"STOPLOSS SELL AT ${dato}\")\n"
   ]
  },
  {
   "cell_type": "code",
   "execution_count": 17,
   "metadata": {},
   "outputs": [
    {
     "name": "stdout",
     "output_type": "stream",
     "text": [
      "inf\n",
      "HOLD $100.0\n",
      "STOPLOSS AT $100.0\n"
     ]
    }
   ],
   "source": [
    "# CORTE DE CICLOS INFINITOS CON CORTE POR TIMEOUT\n",
    "# Hay miles de maneras de cortar un script por ciertas causas, una muy típica es un cuelgue\n",
    "# del sistema de feed de datos, es decir, si pasa una determinada cantidad de tiempo que no\n",
    "# recibimos datos, nuestro bot puede quedar operando a ciegas con datos viejos pensando que\n",
    "# esta todo ok y en realidad dejamos de recibir datos porque se colgó algo y el mercado esta\n",
    "# colapsando.\n",
    "# Una manera muy típica de evitar esto es con los tipicos TIMEOUT, que detectan cuando pasa\n",
    "# determinado tiempo de ejecución de una funcion o script\n",
    "import time\n",
    "\n",
    "stopLoss = 110\n",
    "dato = float(\"inf\")  # INFINITE\n",
    "print(dato)\n",
    "timeout = time.time() + 5\n",
    "while dato > stopLoss:\n",
    "    if time.time() > timeout:\n",
    "        print(\"SE COLGÓ TODO\")\n",
    "        break\n",
    "    else:\n",
    "        timeout = time.time() + 5\n",
    "        dato = float(input(\"NUEVO PRECIO RECIBIDO $\"))\n",
    "        print(f\"HOLD ${str(dato)}\")\n",
    "else:\n",
    "    print(f\"STOPLOSS AT ${str(dato)}\")\n"
   ]
  },
  {
   "cell_type": "code",
   "execution_count": 18,
   "metadata": {},
   "outputs": [],
   "source": [
    "# CORTE DE CICLOS INFINITOS CON CENTINELA\n",
    "# El centinela es un valor particular, o bien puede ser una lógica de secuencia de valores\n",
    "# que harán que nuestro ciclo corte. Por ejemplo, si esperamos un precio, podriamos definir\n",
    "# que si recibimos el valor 0 se corte inmediatamente el script ya que muy probablemente\n",
    "# estemos en presencia de algún tipo de cuelgue\n"
   ]
  },
  {
   "cell_type": "code",
   "execution_count": 19,
   "metadata": {},
   "outputs": [
    {
     "name": "stdout",
     "output_type": "stream",
     "text": [
      "HOLD $101.0\n",
      "STOPLOSS AT $101.0\n"
     ]
    }
   ],
   "source": [
    "# 1 FORMA\n",
    "stopLoss = 110\n",
    "dato = float(\"inf\")\n",
    "while dato > stopLoss:\n",
    "    dato = float(input(\"NUEVO PRECIO RECIBIDO $\"))\n",
    "    if dato != 0:\n",
    "        print(f\"HOLD ${str(dato)}\")\n",
    "    else:\n",
    "        print(\"SE CORTA EL PROGRAMA POR RECIBIR DATO CENTINELA\")\n",
    "        break\n",
    "else:\n",
    "    print(f\"STOPLOSS AT ${str(dato)}\")\n"
   ]
  },
  {
   "cell_type": "code",
   "execution_count": 20,
   "metadata": {},
   "outputs": [
    {
     "name": "stdout",
     "output_type": "stream",
     "text": [
      "HOLD $100.0\n",
      "STOPLOSS AT $100.0\n"
     ]
    }
   ],
   "source": [
    "# 2 FORMA\n",
    "stopLoss = 110\n",
    "dato = float(\"inf\")\n",
    "while dato > stopLoss:\n",
    "    dato = float(input(\"NUEVO PRECIO RECIBIDO $\"))\n",
    "    if dato == 0:\n",
    "        print(\"SE CORTA EL PROGRAMA POR RECIBIR DATO CENTINELA\")\n",
    "        break\n",
    "    else:\n",
    "        print(f\"HOLD ${str(dato)}\")\n",
    "        continue\n",
    "else:\n",
    "    print(f\"STOPLOSS AT ${str(dato)}\")\n"
   ]
  }
 ],
 "metadata": {
  "kernelspec": {
   "display_name": "Python 3.10.4 64-bit",
   "language": "python",
   "name": "python3"
  },
  "language_info": {
   "codemirror_mode": {
    "name": "ipython",
    "version": 3
   },
   "file_extension": ".py",
   "mimetype": "text/x-python",
   "name": "python",
   "nbconvert_exporter": "python",
   "pygments_lexer": "ipython3",
   "version": "3.10.4"
  },
  "orig_nbformat": 4,
  "vscode": {
   "interpreter": {
    "hash": "369f2c481f4da34e4445cda3fffd2e751bd1c4d706f27375911949ba6bb62e1c"
   }
  }
 },
 "nbformat": 4,
 "nbformat_minor": 2
}

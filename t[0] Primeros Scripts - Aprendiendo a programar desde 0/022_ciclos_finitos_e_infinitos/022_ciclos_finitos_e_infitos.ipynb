{
 "cells": [
  {
   "cell_type": "code",
   "execution_count": null,
   "metadata": {},
   "outputs": [],
   "source": [
    "# Los distintos tipos de esquemas de ciclos se pueden agrupar en:\n",
    "# - Ciclos Definidos: Sabemos de antemano exactamente cuantas veces se va a ejecutar (por ejemplo 5 veces)\n",
    "# - Ciclos Indefinidos: No sabemos cuantas veces se va a ejecutar, pero sabemos que\n",
    "#   tiene una cantidad maxima dada por el elemento a iterar\n",
    "# - Ciclos Infinitos\n",
    "#   - Ciclos Infinitos Interactivos: Se ejecuta cada vez que aparece un nuevo feed al\n",
    "#     ciclo, corta cuando se corta el feed\n",
    "#   - Ciclos Infinitos con centinela: De antemano se ejecuta infinitas veces hasta\n",
    "#     que aparece señal de corte"
   ]
  },
  {
   "cell_type": "code",
   "execution_count": 1,
   "metadata": {},
   "outputs": [
    {
     "name": "stdout",
     "output_type": "stream",
     "text": [
      "GGAL\n",
      "PAMP\n",
      "YPFD\n",
      "CEPU\n",
      "EDN\n",
      "LOMA\n",
      "CRES\n"
     ]
    }
   ],
   "source": [
    "# - Ciclos Definidos\n",
    "# Se utiliza el comando FOR, en estos ciclos sabemos de antemano la cantidad de iteraciones que hará.\n",
    "# La estructura del comando FOR es muy sencilla, ya que se recorre un elemento iterable (generalmente)\n",
    "# una lista de elementos) y por cada elemento recorrido se ejecuta el cuerpo del FOR\n",
    "listado = [\"GGAL\", \"PAMP\", \"YPFD\", \"CEPU\", \"EDN\", \"LOMA\", \"CRES\"]\n",
    "for ticker in listado:\n",
    "    print(ticker)"
   ]
  },
  {
   "cell_type": "code",
   "execution_count": 2,
   "metadata": {},
   "outputs": [
    {
     "name": "stdout",
     "output_type": "stream",
     "text": [
      "G\n",
      "F\n",
      "G\n",
      "C\n",
      "1\n",
      "4\n",
      "0\n",
      ".\n",
      "A\n",
      "B\n"
     ]
    }
   ],
   "source": [
    "# Un string, es decir, un texto cualquiera, también es un objeto iterable, ya que cada letra de la palabra se considera un elemento del string.\n",
    "ticker = \"GFGC140.AB\"\n",
    "for letra in ticker:\n",
    "    print(letra)"
   ]
  },
  {
   "cell_type": "code",
   "execution_count": 3,
   "metadata": {},
   "outputs": [
    {
     "name": "stdout",
     "output_type": "stream",
     "text": [
      "AAPL\n",
      "AMZN\n",
      "NFLX\n",
      "FB\n"
     ]
    }
   ],
   "source": [
    "# ITERANDO UNA LISTA\n",
    "listado = [\"AAPL\", \"AMZN\", \"NFLX\", \"FB\"]\n",
    "for elemento in listado: \n",
    "    print(elemento)"
   ]
  },
  {
   "cell_type": "code",
   "execution_count": 5,
   "metadata": {},
   "outputs": [
    {
     "name": "stdout",
     "output_type": "stream",
     "text": [
      "AAPL\n",
      "AMZN\n",
      "NFLX\n",
      "FB\n"
     ]
    }
   ],
   "source": [
    "# ITERANDO UNA TUPLA\n",
    "listado = (\"AAPL\", \"AMZN\", \"NFLX\", \"FB\")\n",
    "for elemento in listado:\n",
    "    print(elemento)"
   ]
  },
  {
   "cell_type": "code",
   "execution_count": 4,
   "metadata": {},
   "outputs": [
    {
     "name": "stdout",
     "output_type": "stream",
     "text": [
      "AAPL es par con AMZN\n",
      "NFLX es par con FB\n"
     ]
    }
   ],
   "source": [
    "# ITERANDO UNA LISTA DE TUPLAS\n",
    "pares = [(\"AAPL\", \"AMZN\"),(\"NFLX\", \"FB\")]\n",
    "for par in pares:\n",
    "    print(f'{par[0]} es par con {par[1]}')"
   ]
  },
  {
   "cell_type": "code",
   "execution_count": 1,
   "metadata": {},
   "outputs": [
    {
     "name": "stdout",
     "output_type": "stream",
     "text": [
      "AAPL $100\n",
      "AMZN $200\n",
      "NFLX $300\n",
      "FB $400\n"
     ]
    }
   ],
   "source": [
    "# ITERANDO UN DICCIONARIO\n",
    "cartera = {\"AAPL\": 100, \"AMZN\": 200, \"NFLX\": 300, \"FB\": 400}\n",
    "for elemento in cartera:\n",
    "    print(f'{elemento} ${cartera[elemento]}')"
   ]
  },
  {
   "cell_type": "code",
   "execution_count": 2,
   "metadata": {},
   "outputs": [
    {
     "name": "stdout",
     "output_type": "stream",
     "text": [
      "0\n",
      "1\n",
      "2\n"
     ]
    }
   ],
   "source": [
    "# CICLOS DEFINIDOS USANDO LA FUNCION RANGE\n",
    "# La funcion range() admite 3 argumentos: -Desde- -Hasta- -Incremento-\n",
    "# El orden de los argumentos de la funcion range es asi range (desde, hasta, incremento)\n",
    "for i in range(3):\n",
    "    print(i)"
   ]
  },
  {
   "cell_type": "code",
   "execution_count": 3,
   "metadata": {},
   "outputs": [
    {
     "name": "stdout",
     "output_type": "stream",
     "text": [
      "AAPL\n",
      "AMZN\n",
      "NFLX\n"
     ]
    }
   ],
   "source": [
    "# CICLO DEFINIDO USANDO LA FUNCION RANGE CON UN LISTADO PREDEFINIDO\n",
    "listado = [\"AAPL\", \"AMZN\", \"NFLX\", \"FB\", \"GOOGL\", \"TSLA\"]\n",
    "for i in range(3):\n",
    "    print(listado[i])"
   ]
  },
  {
   "cell_type": "code",
   "execution_count": 4,
   "metadata": {},
   "outputs": [
    {
     "name": "stdout",
     "output_type": "stream",
     "text": [
      "2\n",
      "3\n",
      "4\n"
     ]
    }
   ],
   "source": [
    "# CICLO DEFINIDO CON UN RANGO (DESDE, HASTA)\n",
    "for i in range(2,5):\n",
    "    print(i)"
   ]
  },
  {
   "cell_type": "code",
   "execution_count": 5,
   "metadata": {},
   "outputs": [
    {
     "name": "stdout",
     "output_type": "stream",
     "text": [
      "4\n",
      "7\n"
     ]
    }
   ],
   "source": [
    "# CICLO DEFINIDO CON UN RANGO (DESDE, HASTA, INTERVALO)\n",
    "for i in range(4, 10, 3):\n",
    "    print(i)"
   ]
  },
  {
   "cell_type": "code",
   "execution_count": 6,
   "metadata": {},
   "outputs": [
    {
     "name": "stdout",
     "output_type": "stream",
     "text": [
      "112\n",
      "114\n",
      "110\n",
      "115\n"
     ]
    }
   ],
   "source": [
    "# Supongamos que tenemos un listado de precios cada 1 minuto, pero nos interesa ver en\n",
    "# pantalla los cierres cada 3 minutos, en ese caso tendriamos algo similar a esto\n",
    "precios = [112, 113, 11, 114, 110, 109, 110, 111, 112, 115, 112]\n",
    "for i in range(0, len(precios), 3):\n",
    "    print(precios[i])"
   ]
  },
  {
   "cell_type": "code",
   "execution_count": 11,
   "metadata": {},
   "outputs": [
    {
     "name": "stdout",
     "output_type": "stream",
     "text": [
      "[7, 14, 21, 28, 35, 42, 49, 56, 63, 70]\n",
      "[7, 14, 21, 28, 35, 42, 49, 56, 63, 70]\n",
      "[7, 14, 21, 28, 35, 42, 49, 56, 63, 70]\n"
     ]
    }
   ],
   "source": [
    "# CREANDO LISTAS CON CICLOS DEFINIDOS\n",
    "# Vamos a hacer un script para llenar una lista con los elementos de la tabla de multiplicar\n",
    "# de cualquier numero \"n\" dado\n",
    "n = 7\n",
    "tabla = list(i*n for i in range(1, 11)) # Creando una lista con ciclos definidos\n",
    "print(tabla)\n",
    "\n",
    "tabla = [i*n for i in range(1, 11)] # Creando una lista con ciclos indefinidos\n",
    "print(tabla)\n",
    "\n",
    "# Otra forma, primero definimos la tabla como una lista vacía, y luego creamos un ciclo\n",
    "# FOR que ira llenando la tabla elemento por elemento\n",
    "\n",
    "n = 7\n",
    "tabla = []\n",
    "for i in range(1, 11):\n",
    "    tabla.append(i*n)\n",
    "print(tabla)"
   ]
  },
  {
   "cell_type": "code",
   "execution_count": 14,
   "metadata": {},
   "outputs": [
    {
     "name": "stdout",
     "output_type": "stream",
     "text": [
      "HOLD $112\n",
      "HOLD $113\n",
      "HOLD $111\n",
      "HOLD $114\n",
      "STOPLOSS SELL AT $110\n"
     ]
    }
   ],
   "source": [
    "# CICLOS INDEFINIDOS FINITOS\n",
    "# Son ciclos en los que, a priori, no sabemos cuantas veces se van a ejecutar. Utilizamos los\n",
    "# comandos FOR y WHILE\n",
    "# En el caso del FOR el ciclo se ejecuta siempre para todos los elementos luego del IN asi que\n",
    "# vamos a tener que en algún momento indicarle dentro de un if cuando queremos que deje de ejecutar,\n",
    "# para ello usamos el comando BREAK\n",
    "precios = [112, 113, 111, 114, 110, 109, 110, 111, 112, 115, 112]\n",
    "stopLoss = 110\n",
    "for precio in precios:\n",
    "    if (precio>stopLoss):\n",
    "        print(f'HOLD ${precio}')\n",
    "    else:\n",
    "        print(f'STOPLOSS SELL AT ${precio}')\n",
    "        break"
   ]
  },
  {
   "cell_type": "code",
   "execution_count": 15,
   "metadata": {},
   "outputs": [
    {
     "name": "stdout",
     "output_type": "stream",
     "text": [
      "HOLD $112\n",
      "HOLD $113\n",
      "HOLD $111\n",
      "HOLD $114\n",
      "STOPLOSS SELL AT $110\n"
     ]
    }
   ],
   "source": [
    "# En el caso del WHILE, la pregunta que definirá si seguimos ejecutando dentro del ciclo\n",
    "# es lo que viene justo despues de la sentencia while. Es decir, no hace falta poner un IF\n",
    "# Pero, si queremos ejecutar alguna linea al salir del ciclo, podemos poner un ELSE a su vez\n",
    "# como no necesariamente tenemos que iterar un listado como en el FOR, lo que hacemos es usar\n",
    "# un indice y un incrementador para ir refiriendonos a cada elemento de la lista\n",
    "precios = [112, 113, 111, 114, 110, 109, 110, 111, 112, 115, 112]\n",
    "stopLoss = 110\n",
    "i=0\n",
    "while precios[i] > stopLoss:\n",
    "    print(f'HOLD ${precios[i]}')\n",
    "    i+=1\n",
    "else:\n",
    "    print(f'STOPLOSS SELL AT ${precios[i]}')"
   ]
  },
  {
   "cell_type": "code",
   "execution_count": 16,
   "metadata": {},
   "outputs": [
    {
     "name": "stdout",
     "output_type": "stream",
     "text": [
      "HOLD $112.0\n",
      "HOLD $113.0\n",
      "HOLD $111.0\n",
      "HOLD $114.0\n",
      "HOLD $110.0\n",
      "STOPLOSS SELL AT $110.0\n"
     ]
    }
   ],
   "source": [
    "# CICLOS INFINITOS\n",
    "# Se utilizan, por ejemplo, al recibir data de un feed, es decir, que el ciclo se ejecutara cada vez que ingresa un nuevo dato\n",
    "# al programa, por ahora vamos a hacer el ejemplo con inputs de usuario.\n",
    "stopLoss = 110\n",
    "dato = float(\"inf\") # Que hace esta parte?\n",
    "while dato > stopLoss:\n",
    "    dato = float(input(\"Ingrese un dato: \"))\n",
    "    print(f'HOLD ${dato}')\n",
    "else:\n",
    "    print(f'STOPLOSS SELL AT ${dato}')"
   ]
  },
  {
   "cell_type": "code",
   "execution_count": 23,
   "metadata": {},
   "outputs": [
    {
     "name": "stdout",
     "output_type": "stream",
     "text": [
      "inf\n",
      "HOLD $111.0\n",
      "HOLD $112.0\n",
      "HOLD $110.0\n",
      "STOPLOSS AT $110.0\n"
     ]
    }
   ],
   "source": [
    "# CORTE DE CICLOS INFINITOS CON CORTE POR TIMEOUT\n",
    "# Hay miles de maneras de cortar un script por ciertas causas, una muy típica es un cuelgue\n",
    "# del sistema de feed de datos, es decir, si pasa una determinada cantidad de tiempo que no\n",
    "# recibimos datos, nuestro bot puede quedar operando a ciegas con datos viejos pensando que\n",
    "# esta todo ok y en realidad dejamos de recibir datos porque se colgó algo y el mercado esta\n",
    "# colapsando.\n",
    "# Una manera muy típica de evitar esto es con los tipicos TIMEOUT, que detectan cuando pasa\n",
    "# determinado tiempo de ejecución de una funcion o script\n",
    "import time\n",
    "stopLoss = 110\n",
    "dato = float(\"inf\") # INFINITE\n",
    "print(dato)\n",
    "timeout = time.time() + 5\n",
    "while dato > stopLoss:\n",
    "    if time.time() > timeout:\n",
    "        print(\"SE COLGÓ TODO\")\n",
    "        break\n",
    "    else:\n",
    "        timeout = time.time() + 5\n",
    "        dato = float(input(\"NUEVO PRECIO RECIBIDO $\"))\n",
    "        print(f'HOLD ${str(dato)}')\n",
    "else:\n",
    "    print(f'STOPLOSS AT ${str(dato)}')"
   ]
  },
  {
   "cell_type": "code",
   "execution_count": 27,
   "metadata": {},
   "outputs": [],
   "source": [
    "# CORTE DE CICLOS INFINITOS CON CENTINELA\n",
    "# El centinela es un valor particular, o bien puede ser una lógica de secuencia de valores\n",
    "# que harán que nuestro ciclo corte. Por ejemplo, si esperamos un precio, podriamos definir\n",
    "# que si recibimos el valor 0 se corte inmediatamente el script ya que muy probablemente\n",
    "# estemos en presencia de algún tipo de cuelgue"
   ]
  },
  {
   "cell_type": "code",
   "execution_count": 35,
   "metadata": {},
   "outputs": [
    {
     "name": "stdout",
     "output_type": "stream",
     "text": [
      "HOLD $111.0\n",
      "HOLD $112.0\n",
      "HOLD $113.0\n",
      "HOLD $110.0\n",
      "STOPLOSS AT $110.0\n"
     ]
    }
   ],
   "source": [
    "# 1 FORMA\n",
    "stopLoss = 110\n",
    "dato = float(\"inf\")\n",
    "while dato > stopLoss:\n",
    "    dato = float(input(\"NUEVO PRECIO RECIBIDO $\"))\n",
    "    if dato != 0:\n",
    "        print(f'HOLD ${str(dato)}')\n",
    "    else:\n",
    "        print(\"SE CORTA EL PROGRAMA POR RECIBIR DATO CENTINELA\")\n",
    "        break\n",
    "else:\n",
    "    print(f'STOPLOSS AT ${str(dato)}')"
   ]
  },
  {
   "cell_type": "code",
   "execution_count": 28,
   "metadata": {},
   "outputs": [
    {
     "name": "stdout",
     "output_type": "stream",
     "text": [
      "HOLD $111.0\n",
      "HOLD $112.0\n",
      "HOLD $113.0\n",
      "HOLD $110.0\n",
      "STOPLOSS AT $110.0\n"
     ]
    }
   ],
   "source": [
    "# 2 FORMA\n",
    "stopLoss = 110\n",
    "dato = float(\"inf\")\n",
    "while dato > stopLoss:\n",
    "    dato = float(input(\"NUEVO PRECIO RECIBIDO $\"))\n",
    "    if dato == 0:\n",
    "        print(\"SE CORTA EL PROGRAMA POR RECIBIR DATO CENTINELA\")\n",
    "        break\n",
    "    else:\n",
    "        print(f'HOLD ${str(dato)}')\n",
    "        continue\n",
    "else:\n",
    "    print(f'STOPLOSS AT ${str(dato)}')"
   ]
  },
  {
   "cell_type": "code",
   "execution_count": 34,
   "metadata": {},
   "outputs": [
    {
     "name": "stdout",
     "output_type": "stream",
     "text": [
      "[['timestamp', 'open', 'high', 'low', 'close', 'adjusted_close', 'volume'], ['19/3/2020', '239.25', '247.38', '232.22', '240.51', '240.51', '288124389'], ['18/3/2020', '236.25', '248.37', '228.02', '240', '240', '324845381'], ['17/3/2020', '245.04', '256.17', '237.07', '252.8', '252.8', '260566279'], ['16/3/2020', '241.18', '256.9', '237.36', '239.85', '239.85', '295019288']]\n",
      "--------------------\n",
      "['19/3/2020', '239.25', '247.38', '232.22', '240.51', '240.51', '288124389']\n"
     ]
    },
    {
     "data": {
      "text/plain": [
       "'247.38'"
      ]
     },
     "execution_count": 34,
     "metadata": {},
     "output_type": "execute_result"
    }
   ],
   "source": [
    "# IMPORTACIÓN DE DATOS DE UNA PLANILLA\n",
    "# LIBRERIA CSV\n",
    "# Vamos a leer un archivo \"SPY.csv\" que tiene las cotizaciones de los últimos 20\n",
    "# años del ETF que replica el S&P500\n",
    "# 1- Importamos la libreria CSV que tiene un método para leer justamente este tipo de archivos\n",
    "# 2- Usamos el método Reader de la libreria csv, y pasamos de argumento el archivo y el delimitador\n",
    "# 3- Creamos una lista vacía\n",
    "# 4- Armamos un ciclo definido que recorra todas las filas del archivo\n",
    "# 5- En cada procesamiento del ciclo insertamos la fila a la lista creada\n",
    "# 6- Imprimimos las primeras 5 filas\n",
    "\n",
    "import csv\n",
    "data = csv.reader(open('SPY.csv'), delimiter=\";\")\n",
    "lista = []\n",
    "for fila in data:\n",
    "    lista.append(fila)\n",
    "print(lista[0:5])\n",
    "print('--------------------')\n",
    "# Accedemos a una sola fila\n",
    "print(lista[1])\n",
    "# Accedemos a un elemento único de una determinada fila, en este caso, al 3° elemento de la 2° fila\n",
    "lista[1][2]"
   ]
  },
  {
   "cell_type": "code",
   "execution_count": 37,
   "metadata": {},
   "outputs": [
    {
     "name": "stdout",
     "output_type": "stream",
     "text": [
      "19/3/2020 Cierre $240.51\n",
      "18/3/2020 Cierre $240\n",
      "17/3/2020 Cierre $252.8\n",
      "16/3/2020 Cierre $239.85\n",
      "13/3/2020 Cierre $269.32\n"
     ]
    }
   ],
   "source": [
    "# Imprimir en la pantalla la fecha y el precio de cierre de, los primeros 5 datos de la serie.\n",
    "import csv\n",
    "data = csv.reader(open('SPY.csv'), delimiter=\";\")\n",
    "lista = []\n",
    "for fila in data:\n",
    "    lista.append(fila)\n",
    "\n",
    "primeros5 = lista[1:6]\n",
    "for ohlc in primeros5:\n",
    "    print(ohlc[0] + \" Cierre $\" + str(ohlc[4]))"
   ]
  },
  {
   "cell_type": "code",
   "execution_count": 43,
   "metadata": {},
   "outputs": [
    {
     "name": "stdout",
     "output_type": "stream",
     "text": [
      "1- ['19/3/2020', '18/3/2020', '17/3/2020', '16/3/2020', '13/3/2020']\n",
      "2- ['20/3/2000']\n"
     ]
    }
   ],
   "source": [
    "# Guardamos una columna en una lista\n",
    "# Esto de tener todas las filas guardadas como filas no nos servira\n",
    "# mucho porque cada fila tiene datos que no tienen nada que ver entre si,\n",
    "# por lo general, va a ser mas útil agrupar datos de columnas de este tipo de series\n",
    "\n",
    "# Tengo en la variable lista todas las filas\n",
    "import csv\n",
    "data = csv.reader(open('SPY.csv'), delimiter=\";\")\n",
    "lista = []\n",
    "for fila in data:\n",
    "    lista.append(fila)\n",
    "# Vamos a recorrer esas filas e ir llenando una lista con solo los valores de las fechas\n",
    "# en este caso\n",
    "# PASOS:\n",
    "# 1- Definimos la lista de fechas vacía\n",
    "# 2- Luego armamos el ciclo definido\n",
    "# 3- Dentro del bloque del ciclo agregamos la lista vacía\n",
    "# 4- Por ultimo, imprimimos las primeras 5 fechas a ver si esta todo ok\n",
    "fechas = []\n",
    "for i in range(1, len(lista)):\n",
    "    fechas.append(lista[i][0])\n",
    "print(f'1- {fechas[0:5]}')\n",
    "\n",
    "# La manera abreviada de llenar la lista es definirla y en el mismo paso, adentro de los corchetes,\n",
    "# llenarla. Para llenarla, ponemos el valor y luego la iteración que define al valor.\n",
    "fechas = [lista[i][0] for i in range(i, len(lista))]\n",
    "print(f'2- {fechas[0:5]}')"
   ]
  },
  {
   "cell_type": "code",
   "execution_count": 46,
   "metadata": {},
   "outputs": [
    {
     "name": "stdout",
     "output_type": "stream",
     "text": [
      "['adjusted_close', '240.51', '240', '252.8', '239.85']\n",
      "['240.51', '240', '252.8', '239.85']\n"
     ]
    }
   ],
   "source": [
    "# Podriamos también directamente cuando leemos el CSV armar la o las columnas que necesitaremos\n",
    "# Por ejemplo:\n",
    "import csv\n",
    "data = csv.reader(open('SPY.csv'), delimiter=\";\")\n",
    "cierres_ajustados = []\n",
    "for fila in data:\n",
    "    cierres_ajustados.append(fila[5])\n",
    "print(cierres_ajustados[0:5])\n",
    "# En este caso, estamos guardando tambien el encabezado de la columna, podriamos quitarlo con la funcion del()\n",
    "del(cierres_ajustados[0]) # Borra el primer valor (el que tiene el encabezado) pero \"resetea\" el lugar 0.\n",
    "print(cierres_ajustados[0:4])"
   ]
  },
  {
   "cell_type": "code",
   "execution_count": 47,
   "metadata": {},
   "outputs": [
    {
     "data": {
      "text/plain": [
       "['240.51', '240', '252.8', '239.85']"
      ]
     },
     "execution_count": 47,
     "metadata": {},
     "output_type": "execute_result"
    }
   ],
   "source": [
    "# Forma mas abreviada de obtener una determinada columna con solo 5 lineas en total desde el CSV\n",
    "import csv\n",
    "data = csv.reader(open('SPY.csv'), delimiter=\";\")\n",
    "cierres_ajustados = [fila[5] for fila in data]\n",
    "del(cierres_ajustados[0])\n",
    "cierres_ajustados[0:4]"
   ]
  },
  {
   "cell_type": "code",
   "execution_count": 53,
   "metadata": {},
   "outputs": [
    {
     "name": "stdout",
     "output_type": "stream",
     "text": [
      "[0.21, -5.06, 5.4, -10.94]\n"
     ]
    }
   ],
   "source": [
    "# Ejercicio: Partiendo de la data de cierres, calcular la columna de variaciones diarias.\n",
    "# Como la serie de datos esta ordenada del mas reciente primero hasta el mas antiguo al final,\n",
    "# lo calcularemos como el cociente de: cierre_ajustado[i] / cierre_ajustado[i+1] = cierre actual / cierre anterior\n",
    "# Luego, utilizaremos el método float() para transformar el dato que me viene encomillado, es decir, como string, a decimal\n",
    "# y también utilizaremos el método round para limitar la cantidad de decimales del resultado.\n",
    "import csv\n",
    "data = csv.reader(open('SPY.csv'), delimiter=\";\")\n",
    "cierres_ajustados = [fila[5] for fila in data]\n",
    "del(cierres_ajustados[0])\n",
    "\n",
    "variaciones = []\n",
    "for i in range(0, len(cierres_ajustados)):\n",
    "    try:\n",
    "        var = round((float(cierres_ajustados[i]) / float(cierres_ajustados[i+1])-1)*100, 2)\n",
    "        variaciones.append(var)\n",
    "    except:\n",
    "        pass\n",
    "print(variaciones[0:4])\n",
    "# Utilizamos el método try/except para evitar dos tipos de errores:\n",
    "# 1- El error de \"out of range\", es decir, cuando llegue al final de la serie que no me tire error por querer \n",
    "# buscar el elemento siguiente (que no existe)\n",
    "# 2- El error potencial de alguna division por cero en caso que tenga un 0 en algún cierre (por defecto \n",
    "# de la data feed)"
   ]
  },
  {
   "cell_type": "code",
   "execution_count": null,
   "metadata": {},
   "outputs": [],
   "source": [
    "# DE CSV A DICCIONARIO\n",
    "# En realidad, no es muy util utilizar diccionarios para calcular parametros y hacer análisis, el uso de \n",
    "# diccionarios es mas limitado a definiciones mas bien estáticas, pero de todos modos de manera\n",
    "# didáctica les dejo ejemplo de como armar un diccionario clave valor de fechas de cierres partiendo de un CSV"
   ]
  }
 ],
 "metadata": {
  "interpreter": {
   "hash": "695d51a1da3c2bd9e0b7011053edc7cd86d315464bb8756bebf47a6ace8cc98f"
  },
  "kernelspec": {
   "display_name": "Python 3.10.0 64-bit",
   "language": "python",
   "name": "python3"
  },
  "language_info": {
   "codemirror_mode": {
    "name": "ipython",
    "version": 3
   },
   "file_extension": ".py",
   "mimetype": "text/x-python",
   "name": "python",
   "nbconvert_exporter": "python",
   "pygments_lexer": "ipython3",
   "version": "3.10.0"
  },
  "orig_nbformat": 4
 },
 "nbformat": 4,
 "nbformat_minor": 2
}

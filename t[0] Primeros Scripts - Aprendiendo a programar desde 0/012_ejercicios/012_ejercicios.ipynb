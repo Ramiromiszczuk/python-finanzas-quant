{
 "cells": [
  {
   "cell_type": "code",
   "execution_count": 1,
   "metadata": {},
   "outputs": [
    {
     "name": "stdout",
     "output_type": "stream",
     "text": [
      "2022\n"
     ]
    }
   ],
   "source": [
    "#1- Hacer un script que devuelva en la variable año, el año actual.\n",
    "#--------------------#\n",
    "# Rta Ejercicio 1:\n",
    "#--------------------#\n",
    "import datetime as dt\n",
    "from datetime import datetime as dt_dt\n",
    "año = dt_dt.now().year\n",
    "print(año)"
   ]
  },
  {
   "cell_type": "code",
   "execution_count": 2,
   "metadata": {},
   "outputs": [
    {
     "name": "stdout",
     "output_type": "stream",
     "text": [
      "5\n"
     ]
    }
   ],
   "source": [
    "#2- Escribir el codigo que asigne un dia y mes definidos en las primeras lineas en las variables dia y mes respectivamente, y que devuelva que dia de la semana cae esa fecha en el año actual.\n",
    "#--------------------#\n",
    "# Rta Ejercicio 2:\n",
    "#--------------------#\n",
    "import calendar as cal\n",
    "dia = 1\n",
    "mes = 1\n",
    "año = dt_dt.now().year\n",
    "print(cal.weekday(año, mes, dia))"
   ]
  },
  {
   "cell_type": "code",
   "execution_count": 3,
   "metadata": {},
   "outputs": [
    {
     "name": "stdout",
     "output_type": "stream",
     "text": [
      "205\n"
     ]
    }
   ],
   "source": [
    "#3- Hacer un script que le informe al usuario cuantos dias faltan para terminar el año\n",
    "#--------------------#\n",
    "# Rta Ejercicio 3:\n",
    "#--------------------#\n",
    "hoy = dt_dt.now()\n",
    "año = dt_dt.now().year\n",
    "mes = 12\n",
    "dia = 31\n",
    "fecha_fin_año = dt_dt(año, mes, dia)\n",
    "dias_faltantes = fecha_fin_año - hoy\n",
    "print(dias_faltantes.days)"
   ]
  },
  {
   "cell_type": "code",
   "execution_count": 4,
   "metadata": {},
   "outputs": [
    {
     "name": "stdout",
     "output_type": "stream",
     "text": [
      "0.5260273972602739\n"
     ]
    }
   ],
   "source": [
    "#4- Hacer un script que le informe al usuario que fraccion de año queda para la expiracion de una opcion que vence el 18 de diciembre del corriente año (que funcione sea cual sea el año que se ejecute el codigo)\n",
    "#--------------------#\n",
    "# Rta Ejercicio 4:\n",
    "#--------------------#\n",
    "dia = 18\n",
    "mes = 12\n",
    "año = dt_dt.now().year\n",
    "fecha_fin_año = dt_dt(año, mes, dia)\n",
    "dias_faltantes = fecha_fin_año - hoy\n",
    "print(dias_faltantes.days/365)"
   ]
  }
 ],
 "metadata": {
  "interpreter": {
   "hash": "369f2c481f4da34e4445cda3fffd2e751bd1c4d706f27375911949ba6bb62e1c"
  },
  "kernelspec": {
   "display_name": "Python 3.10.4 64-bit",
   "language": "python",
   "name": "python3"
  },
  "language_info": {
   "codemirror_mode": {
    "name": "ipython",
    "version": 3
   },
   "file_extension": ".py",
   "mimetype": "text/x-python",
   "name": "python",
   "nbconvert_exporter": "python",
   "pygments_lexer": "ipython3",
   "version": "3.10.4"
  },
  "orig_nbformat": 4
 },
 "nbformat": 4,
 "nbformat_minor": 2
}

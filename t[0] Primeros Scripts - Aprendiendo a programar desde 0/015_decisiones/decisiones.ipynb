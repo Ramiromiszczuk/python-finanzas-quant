{
 "cells": [
  {
   "cell_type": "code",
   "execution_count": 1,
   "metadata": {},
   "outputs": [],
   "source": [
    "# OPERADORES RELACIONALES\n",
    "# IGUALDAD: ==\n",
    "# DISTINTO: !=\n",
    "# MAYOR QUE: >\n",
    "# MAYOR O IGUAL QUE: >=\n",
    "# MENOR QUE: <\n",
    "# MENOR O IGUAL QUE: <=\n"
   ]
  },
  {
   "cell_type": "code",
   "execution_count": 2,
   "metadata": {},
   "outputs": [
    {
     "name": "stdout",
     "output_type": "stream",
     "text": [
      "False\n",
      "True\n",
      "False\n",
      "True\n",
      "True\n",
      "True\n",
      "False\n",
      "True\n",
      "True\n",
      "True\n",
      "False\n"
     ]
    }
   ],
   "source": [
    "COME = 3\n",
    "GGAL = 100\n",
    "\n",
    "print(COME > GGAL)  # 3>100 - False\n",
    "print(COME <= GGAL)  # 3<=100 - True\n",
    "print(COME == GGAL)  # 3==100 - False\n",
    "print(COME != GGAL)  # 3!=100 - True\n",
    "# Comparar un numero con un string\n",
    "# print(COME > \"COME\")  # TypeError: '>' not supported between instances of 'int' and 'str'\n",
    "# En este caso comparar un numero con un string no da error porque estamos preguntando si son distintos\n",
    "print(COME != \"COME\")  # 3!=\"COME\" - False\n",
    "# TRUE = 1 y FALSE = 0\n",
    "print(COME > True)  # 3>1 - True\n",
    "print(COME == True)  # 3==1 - False\n",
    "print(1 == True)  # 1==1 - True\n",
    "print(1 <= True)  # 1<=1 - True\n",
    "print(0 == False)  # 0==0 - True\n",
    "print(COME == None)  # 3==None - False\n",
    "# print(COME > None)  # 3>None - TypeError: '>' not supported between instances of 'int' and 'NoneType'\n",
    "# Si bien el valor de None es 0 (el mismo que false) si evaluo comparar una variable nula con el 0 me devuelve falso,\n",
    "# porque python no tiene comparacion de igualdad estricta, por lo tanto, la igualdad es estricta de por si\n"
   ]
  }
 ],
 "metadata": {
  "interpreter": {
   "hash": "369f2c481f4da34e4445cda3fffd2e751bd1c4d706f27375911949ba6bb62e1c"
  },
  "kernelspec": {
   "display_name": "Python 3.10.4 64-bit",
   "language": "python",
   "name": "python3"
  },
  "language_info": {
   "codemirror_mode": {
    "name": "ipython",
    "version": 3
   },
   "file_extension": ".py",
   "mimetype": "text/x-python",
   "name": "python",
   "nbconvert_exporter": "python",
   "pygments_lexer": "ipython3",
   "version": "3.10.4"
  },
  "orig_nbformat": 4
 },
 "nbformat": 4,
 "nbformat_minor": 2
}

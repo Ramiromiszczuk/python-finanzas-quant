{
 "cells": [
  {
   "cell_type": "code",
   "execution_count": 1,
   "metadata": {},
   "outputs": [],
   "source": [
    "# NUMEROS AL AZAR\n",
    "import random"
   ]
  },
  {
   "cell_type": "code",
   "execution_count": 2,
   "metadata": {},
   "outputs": [
    {
     "name": "stdout",
     "output_type": "stream",
     "text": [
      "0.5845342893051543\n"
     ]
    }
   ],
   "source": [
    "# VALOR FLOTANTE AL AZAR ENTRE 0 y 1\n",
    "print(random.random())"
   ]
  },
  {
   "cell_type": "code",
   "execution_count": 3,
   "metadata": {},
   "outputs": [
    {
     "name": "stdout",
     "output_type": "stream",
     "text": [
      "2.712386834136357\n"
     ]
    }
   ],
   "source": [
    "# VALOR FLOTANTE ENTRE MIN Y MAX\n",
    "print(random.uniform(2, 3))"
   ]
  },
  {
   "cell_type": "code",
   "execution_count": 4,
   "metadata": {},
   "outputs": [
    {
     "name": "stdout",
     "output_type": "stream",
     "text": [
      "4\n"
     ]
    }
   ],
   "source": [
    "# VALOR ENTRE MIN Y MAX DEFINIENDO INTERVALO O \"STEP\"\n",
    "min = 0\n",
    "max = 100\n",
    "paso = 2\n",
    "print(random.randrange(min, max, paso))"
   ]
  },
  {
   "cell_type": "code",
   "execution_count": 5,
   "metadata": {},
   "outputs": [
    {
     "name": "stdout",
     "output_type": "stream",
     "text": [
      "1.617437783266338\n"
     ]
    }
   ],
   "source": [
    "# NUMEROS ALEATORIOS EN UNA DISTRIBUCION\n",
    "# DISTRIBUCION NORMAL\n",
    "mu = 0\n",
    "sigma = 1\n",
    "print(random.normalvariate(mu, sigma))"
   ]
  },
  {
   "cell_type": "code",
   "execution_count": 6,
   "metadata": {},
   "outputs": [],
   "source": [
    "# OTRAS DISTRIBUCIONES POSIBLES\n",
    "# random.betavariate(alfa, beta)\n",
    "# random.gamavariate(alfa, beta)\n",
    "# random.expovariate(lambda)\n",
    "# random.lognormalvariate(mu, sigma)\n",
    "# random.paretovariate(alfa)\n",
    "# random.weibullvariate(alfa, beta)"
   ]
  }
 ],
 "metadata": {
  "interpreter": {
   "hash": "369f2c481f4da34e4445cda3fffd2e751bd1c4d706f27375911949ba6bb62e1c"
  },
  "kernelspec": {
   "display_name": "Python 3.10.4 64-bit",
   "language": "python",
   "name": "python3"
  },
  "language_info": {
   "codemirror_mode": {
    "name": "ipython",
    "version": 3
   },
   "file_extension": ".py",
   "mimetype": "text/x-python",
   "name": "python",
   "nbconvert_exporter": "python",
   "pygments_lexer": "ipython3",
   "version": "3.10.4"
  },
  "orig_nbformat": 4
 },
 "nbformat": 4,
 "nbformat_minor": 2
}
